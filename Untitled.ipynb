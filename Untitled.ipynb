{
 "cells": [
  {
   "cell_type": "code",
   "execution_count": 32,
   "metadata": {},
   "outputs": [],
   "source": [
    "import numpy as np\n",
    "from farichlib import Algorithms, BoardsGenerator, Augmentator"
   ]
  },
  {
   "cell_type": "code",
   "execution_count": 34,
   "metadata": {},
   "outputs": [
    {
     "name": "stderr",
     "output_type": "stream",
     "text": [
      "100% (10 of 10) |########################| Elapsed Time: 0:00:00 Time:  0:00:00\n"
     ]
    }
   ],
   "source": [
    "b = BoardsGenerator(\"tests/testTree.root\")"
   ]
  },
  {
   "cell_type": "code",
   "execution_count": 35,
   "metadata": {},
   "outputs": [
    {
     "name": "stderr",
     "output_type": "stream",
     "text": [
      "100% (1000 of 1000) |####################| Elapsed Time: 0:01:56 Time:  0:01:56\n"
     ]
    }
   ],
   "source": [
    "b.GenerateBoards(1000)"
   ]
  },
  {
   "cell_type": "code",
   "execution_count": 71,
   "metadata": {},
   "outputs": [],
   "source": [
    "boards, sizes = b.GetBoards()"
   ]
  },
  {
   "cell_type": "code",
   "execution_count": 90,
   "metadata": {},
   "outputs": [],
   "source": [
    "import progressbar as pg"
   ]
  },
  {
   "cell_type": "code",
   "execution_count": 120,
   "metadata": {},
   "outputs": [],
   "source": [
    "precision, recall = [], []"
   ]
  },
  {
   "cell_type": "code",
   "execution_count": 127,
   "metadata": {},
   "outputs": [],
   "source": [
    "def count_metrics(precision, recall, threshold, cumulative):\n",
    "    for i in pg.progressbar(range(100)):\n",
    "        data = boards[boards[:,-1]==i]\n",
    "        X = data[:,:-2]\n",
    "        y = data[:,3]\n",
    "        y_pred = Algorithms.classic_algo(X, threshold=threshold, cumulative=cumulative)\n",
    "        tp = np.sum((y==1)*(y_pred==1))\n",
    "        fp = np.sum((y==0)*(y_pred==1))\n",
    "        tn = np.sum((y==0)*(y_pred==0))\n",
    "        fn = np.sum((y==1)*(y_pred==0))\n",
    "        \n",
    "        precision.append(tp/(tp+fp))\n",
    "        recall.append(tp/(tp+fn))"
   ]
  },
  {
   "cell_type": "code",
   "execution_count": 128,
   "metadata": {},
   "outputs": [
    {
     "name": "stderr",
     "output_type": "stream",
     "text": [
      "  4% (4 of 100) |                        | Elapsed Time: 0:00:00 ETA:   0:00:16/home/yana/anaconda3/lib/python3.7/site-packages/ipykernel_launcher.py:13: RuntimeWarning: invalid value encountered in long_scalars\n",
      "  del sys.path[0]\n",
      "100% (100 of 100) |######################| Elapsed Time: 0:00:15 Time:  0:00:15\n"
     ]
    }
   ],
   "source": [
    "count_metrics(precision, recall, 6, 1)"
   ]
  },
  {
   "cell_type": "code",
   "execution_count": 130,
   "metadata": {},
   "outputs": [
    {
     "data": {
      "text/plain": [
       "0.02691974554612668"
      ]
     },
     "execution_count": 130,
     "metadata": {},
     "output_type": "execute_result"
    }
   ],
   "source": [
    "np.mean(precision)"
   ]
  },
  {
   "cell_type": "code",
   "execution_count": 131,
   "metadata": {},
   "outputs": [
    {
     "data": {
      "text/plain": [
       "nan"
      ]
     },
     "execution_count": 131,
     "metadata": {},
     "output_type": "execute_result"
    }
   ],
   "source": [
    "np.mean(recall)"
   ]
  },
  {
   "cell_type": "code",
   "execution_count": 132,
   "metadata": {},
   "outputs": [
    {
     "data": {
      "text/plain": [
       "[1.0,\n",
       " 1.0,\n",
       " 1.0,\n",
       " 1.0,\n",
       " nan,\n",
       " 1.0,\n",
       " 1.0,\n",
       " 1.0,\n",
       " 1.0,\n",
       " 0.0,\n",
       " nan,\n",
       " 1.0,\n",
       " nan,\n",
       " nan,\n",
       " 1.0,\n",
       " 0.0,\n",
       " 1.0,\n",
       " nan,\n",
       " 1.0,\n",
       " 1.0,\n",
       " 1.0,\n",
       " 1.0,\n",
       " nan,\n",
       " 1.0,\n",
       " nan,\n",
       " nan,\n",
       " 1.0,\n",
       " nan,\n",
       " 1.0,\n",
       " 1.0,\n",
       " 1.0,\n",
       " nan,\n",
       " 0.0,\n",
       " 1.0,\n",
       " 0.0,\n",
       " nan,\n",
       " nan,\n",
       " nan,\n",
       " 1.0,\n",
       " 1.0,\n",
       " 1.0,\n",
       " 1.0,\n",
       " nan,\n",
       " 1.0,\n",
       " 0.0,\n",
       " 1.0,\n",
       " nan,\n",
       " 0.0,\n",
       " 1.0,\n",
       " nan,\n",
       " nan,\n",
       " 1.0,\n",
       " 1.0,\n",
       " 0.0,\n",
       " nan,\n",
       " 1.0,\n",
       " 1.0,\n",
       " 1.0,\n",
       " nan,\n",
       " 1.0,\n",
       " 1.0,\n",
       " 1.0,\n",
       " 1.0,\n",
       " nan,\n",
       " 1.0,\n",
       " nan,\n",
       " nan,\n",
       " nan,\n",
       " nan,\n",
       " nan,\n",
       " 1.0,\n",
       " nan,\n",
       " 1.0,\n",
       " 0.0,\n",
       " 1.0,\n",
       " nan,\n",
       " nan,\n",
       " nan,\n",
       " nan,\n",
       " nan,\n",
       " nan,\n",
       " 1.0,\n",
       " nan,\n",
       " 1.0,\n",
       " 1.0,\n",
       " 1.0,\n",
       " nan,\n",
       " 1.0,\n",
       " 1.0,\n",
       " 0.0,\n",
       " 1.0,\n",
       " nan,\n",
       " 0.0,\n",
       " 1.0,\n",
       " 1.0,\n",
       " nan,\n",
       " nan,\n",
       " 0.0,\n",
       " 1.0,\n",
       " 0.0,\n",
       " 1.0,\n",
       " 1.0,\n",
       " 1.0,\n",
       " 1.0,\n",
       " nan,\n",
       " 1.0,\n",
       " 1.0,\n",
       " 1.0,\n",
       " 1.0,\n",
       " 0.0,\n",
       " nan,\n",
       " 1.0,\n",
       " nan,\n",
       " nan,\n",
       " 1.0,\n",
       " 0.0,\n",
       " 1.0,\n",
       " nan,\n",
       " 1.0,\n",
       " 1.0,\n",
       " 1.0,\n",
       " 1.0,\n",
       " nan,\n",
       " 1.0,\n",
       " nan,\n",
       " nan,\n",
       " 1.0,\n",
       " nan,\n",
       " 1.0,\n",
       " 1.0,\n",
       " 1.0,\n",
       " nan,\n",
       " 0.0,\n",
       " 1.0,\n",
       " 0.0,\n",
       " nan,\n",
       " nan,\n",
       " nan,\n",
       " 1.0,\n",
       " 1.0,\n",
       " 1.0,\n",
       " 1.0,\n",
       " nan,\n",
       " 1.0,\n",
       " 0.0,\n",
       " 1.0,\n",
       " nan,\n",
       " 0.0,\n",
       " 1.0,\n",
       " nan,\n",
       " nan,\n",
       " 1.0,\n",
       " 1.0,\n",
       " 0.0,\n",
       " nan,\n",
       " 1.0,\n",
       " 1.0,\n",
       " 1.0,\n",
       " nan,\n",
       " 1.0,\n",
       " 1.0,\n",
       " 1.0,\n",
       " 1.0,\n",
       " nan,\n",
       " 1.0,\n",
       " nan,\n",
       " nan,\n",
       " nan,\n",
       " nan,\n",
       " nan,\n",
       " 1.0,\n",
       " nan,\n",
       " 1.0,\n",
       " 0.0,\n",
       " 1.0,\n",
       " nan,\n",
       " nan,\n",
       " nan,\n",
       " nan,\n",
       " nan,\n",
       " nan,\n",
       " 1.0,\n",
       " nan,\n",
       " 1.0,\n",
       " 1.0,\n",
       " 1.0,\n",
       " nan,\n",
       " 1.0,\n",
       " 1.0,\n",
       " 0.0,\n",
       " 1.0,\n",
       " nan,\n",
       " 0.0,\n",
       " 1.0,\n",
       " 1.0,\n",
       " nan,\n",
       " nan,\n",
       " 0.0,\n",
       " 1.0,\n",
       " 0.0]"
      ]
     },
     "execution_count": 132,
     "metadata": {},
     "output_type": "execute_result"
    }
   ],
   "source": [
    "recall"
   ]
  },
  {
   "cell_type": "code",
   "execution_count": 135,
   "metadata": {},
   "outputs": [],
   "source": [
    "l1 = np.array([1,0,1])\n",
    "l2 = np.array([0,1,1])"
   ]
  },
  {
   "cell_type": "code",
   "execution_count": 136,
   "metadata": {},
   "outputs": [
    {
     "data": {
      "text/plain": [
       "array([0, 0, 1])"
      ]
     },
     "execution_count": 136,
     "metadata": {},
     "output_type": "execute_result"
    }
   ],
   "source": [
    "l1*l2"
   ]
  },
  {
   "cell_type": "code",
   "execution_count": null,
   "metadata": {},
   "outputs": [],
   "source": []
  }
 ],
 "metadata": {
  "kernelspec": {
   "display_name": "Python 3",
   "language": "python",
   "name": "python3"
  },
  "language_info": {
   "codemirror_mode": {
    "name": "ipython",
    "version": 3
   },
   "file_extension": ".py",
   "mimetype": "text/x-python",
   "name": "python",
   "nbconvert_exporter": "python",
   "pygments_lexer": "ipython3",
   "version": "3.7.6"
  }
 },
 "nbformat": 4,
 "nbformat_minor": 4
}
