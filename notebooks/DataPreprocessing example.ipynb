{
 "cells": [
  {
   "cell_type": "code",
   "execution_count": 1,
   "metadata": {},
   "outputs": [
    {
     "name": "stdout",
     "output_type": "stream",
     "text": [
      "/mnt/s/Keep working hard/projects/python/farich-pics\n"
     ]
    }
   ],
   "source": [
    "%cd .."
   ]
  },
  {
   "cell_type": "code",
   "execution_count": 2,
   "metadata": {},
   "outputs": [],
   "source": [
    "%load_ext autoreload\n",
    "%autoreload 2"
   ]
  },
  {
   "cell_type": "code",
   "execution_count": 169,
   "metadata": {},
   "outputs": [],
   "source": [
    "from farichlib.DataPreprocessing import DataPreprocessing"
   ]
  },
  {
   "cell_type": "code",
   "execution_count": 170,
   "metadata": {},
   "outputs": [
    {
     "name": "stdout",
     "output_type": "stream",
     "text": [
      "CPU times: user 45.3 s, sys: 844 ms, total: 46.1 s\n",
      "Wall time: 59.1 s\n"
     ]
    }
   ],
   "source": [
    "%%time\n",
    "dp = DataPreprocessing('data/farichSimRes_pi-kaon-_1000MeV_0-90deg_50.0k_2020-02-11.root')"
   ]
  },
  {
   "cell_type": "code",
   "execution_count": 190,
   "metadata": {},
   "outputs": [
    {
     "data": {
      "text/plain": [
       "25508"
      ]
     },
     "execution_count": 190,
     "metadata": {},
     "output_type": "execute_result"
    }
   ],
   "source": [
    "len(dp.X)"
   ]
  },
  {
   "cell_type": "code",
   "execution_count": 196,
   "metadata": {},
   "outputs": [],
   "source": [
    "yy = pd.DataFrame( dp.y )"
   ]
  },
  {
   "cell_type": "code",
   "execution_count": 198,
   "metadata": {},
   "outputs": [],
   "source": [
    "yy = yy.assign( tt= pd.Series(dp.X) )"
   ]
  },
  {
   "cell_type": "code",
   "execution_count": 206,
   "metadata": {},
   "outputs": [
    {
     "data": {
      "text/plain": [
       "scipy.sparse.coo.coo_matrix"
      ]
     },
     "execution_count": 206,
     "metadata": {},
     "output_type": "execute_result"
    }
   ],
   "source": [
    "type(yy['tt'][0])"
   ]
  },
  {
   "cell_type": "code",
   "execution_count": 217,
   "metadata": {},
   "outputs": [],
   "source": [
    "import pickle\n",
    "with open('data.pickle', 'wb') as f:\n",
    "    pickle.dump((dp.X, dp.y), f)"
   ]
  },
  {
   "cell_type": "code",
   "execution_count": 218,
   "metadata": {},
   "outputs": [],
   "source": [
    "with open('data.pickle', 'rb') as f:\n",
    "    X_n, y_n = pickle.load(f)"
   ]
  },
  {
   "cell_type": "code",
   "execution_count": 220,
   "metadata": {},
   "outputs": [
    {
     "data": {
      "text/plain": [
       "array([[32., 38., 14.],\n",
       "       [32., 38., 14.],\n",
       "       [32., 38., 14.],\n",
       "       ...,\n",
       "       [32., 38., 14.],\n",
       "       [32., 38., 14.],\n",
       "       [32., 38., 14.]])"
      ]
     },
     "execution_count": 220,
     "metadata": {},
     "output_type": "execute_result"
    }
   ],
   "source": [
    "y_n"
   ]
  },
  {
   "cell_type": "code",
   "execution_count": 67,
   "metadata": {},
   "outputs": [],
   "source": [
    "import uproot\n",
    "rootFile = 'data/farichSimRes_pi-kaon-_1000MeV_0-90deg_50.0k_2020-02-11.root'\n",
    "info_tree = uproot.open(rootFile)[\"info_sim\"]\n",
    "raw_tree = uproot.open(rootFile)[\"raw_data\"]"
   ]
  },
  {
   "cell_type": "code",
   "execution_count": 95,
   "metadata": {},
   "outputs": [
    {
     "data": {
      "text/plain": [
       "{b'events': array([50000], dtype=int32),\n",
       " b'momentum': array([1000.]),\n",
       " b'theta': array([0.]),\n",
       " b'phi': array([1.57079633]),\n",
       " b'zDis': array([1.]),\n",
       " b'layers': array([4], dtype=int32),\n",
       " b'layers.first': <JaggedArray [[1.041 1.0438 1.0468 1.05]] at 0x7f7370488090>,\n",
       " b'layers.second': <JaggedArray [[9.32 8.93 8.55 8.2]] at 0x7f7370488f90>,\n",
       " b'name': <ObjectArray [b'SensL_ARRAYJ-30020-64P-PCB_25V'] at 0x7f7370489e90>,\n",
       " b'num_side_x': array([8], dtype=int32),\n",
       " b'num_side_y': array([17], dtype=int32),\n",
       " b'gap': array([1.]),\n",
       " b'size': array([26.68]),\n",
       " b'chip_num_size': array([8], dtype=int32),\n",
       " b'chip_pitch': array([0.2]),\n",
       " b'chip_size': array([3.16]),\n",
       " b'chip_offset': array([0.]),\n",
       " b'focal_length': array([200.]),\n",
       " b'trg_window': array([20.]),\n",
       " b'origin_pos._2': array([201.]),\n",
       " b'origin_pos._1': array([106.72]),\n",
       " b'origin_pos._0': array([0.])}"
      ]
     },
     "execution_count": 95,
     "metadata": {},
     "output_type": "execute_result"
    }
   ],
   "source": [
    "info_arrays = info_tree.arrays()\n",
    "info_arrays"
   ]
  },
  {
   "cell_type": "code",
   "execution_count": 104,
   "metadata": {},
   "outputs": [
    {
     "data": {
      "text/plain": [
       "217.28"
      ]
     },
     "execution_count": 104,
     "metadata": {},
     "output_type": "execute_result"
    }
   ],
   "source": [
    "108.64*2"
   ]
  },
  {
   "cell_type": "code",
   "execution_count": 124,
   "metadata": {},
   "outputs": [
    {
     "name": "stdout",
     "output_type": "stream",
     "text": [
      "-111.8 111.8 64\n",
      "-129.64000000000001 343.08000000000004 136\n"
     ]
    }
   ],
   "source": [
    "x_size = info_arrays[b'num_side_x'][0]\n",
    "x_center = info_arrays[b'origin_pos._0'][0]\n",
    "chip_size = info_arrays[b'chip_num_size'][0]\n",
    "pmt_size = info_arrays[b'size'][0]\n",
    "gap = info_arrays[b'gap'][0]\n",
    "y_size = info_arrays[b'num_side_y'][0]\n",
    "y_center = info_arrays[b'origin_pos._1'][0]\n",
    "\n",
    "xmin = x_center - (x_size*pmt_size + (x_size-1)*gap + 3.16)/2\n",
    "xmax = x_center + (x_size*pmt_size + (x_size-1)*gap + 3.16)/2\n",
    "xbins = x_size*chip_size\n",
    "print(xmin, xmax, xbins)\n",
    "\n",
    "ymin = y_center -(y_size*pmt_size + (y_size-1)*gap + 3.16)/2\n",
    "ymax = y_center + (y_size*pmt_size + (y_size-1)*gap + 3.16)/2\n",
    "ybins = y_size*chip_size\n",
    "print(ymin, ymax, ybins)"
   ]
  },
  {
   "cell_type": "code",
   "execution_count": null,
   "metadata": {},
   "outputs": [],
   "source": []
  },
  {
   "cell_type": "code",
   "execution_count": 68,
   "metadata": {},
   "outputs": [],
   "source": [
    "raw_df = raw_tree.pandas.df()"
   ]
  },
  {
   "cell_type": "code",
   "execution_count": 69,
   "metadata": {},
   "outputs": [
    {
     "data": {
      "text/html": [
       "<div>\n",
       "<style scoped>\n",
       "    .dataframe tbody tr th:only-of-type {\n",
       "        vertical-align: middle;\n",
       "    }\n",
       "\n",
       "    .dataframe tbody tr th {\n",
       "        vertical-align: top;\n",
       "    }\n",
       "\n",
       "    .dataframe thead th {\n",
       "        text-align: right;\n",
       "    }\n",
       "</style>\n",
       "<table border=\"1\" class=\"dataframe\">\n",
       "  <thead>\n",
       "    <tr style=\"text-align: right;\">\n",
       "      <th></th>\n",
       "      <th>pos_primary._2</th>\n",
       "      <th>pos_primary._1</th>\n",
       "      <th>pos_primary._0</th>\n",
       "      <th>dir_primary._2</th>\n",
       "      <th>dir_primary._1</th>\n",
       "      <th>dir_primary._0</th>\n",
       "      <th>hits</th>\n",
       "      <th>hits.id_track</th>\n",
       "      <th>hits.id_track_parent</th>\n",
       "      <th>hits.id_hit</th>\n",
       "      <th>hits.wavelength</th>\n",
       "      <th>hits.time</th>\n",
       "      <th>hits.pos_exact._2</th>\n",
       "      <th>hits.pos_exact._1</th>\n",
       "      <th>hits.pos_exact._0</th>\n",
       "      <th>hits.pos_chip._2</th>\n",
       "      <th>hits.pos_chip._1</th>\n",
       "      <th>hits.pos_chip._0</th>\n",
       "    </tr>\n",
       "  </thead>\n",
       "  <tbody>\n",
       "    <tr>\n",
       "      <th>count</th>\n",
       "      <td>993407.0</td>\n",
       "      <td>993407.000000</td>\n",
       "      <td>993407.000000</td>\n",
       "      <td>993407.0</td>\n",
       "      <td>993407.0</td>\n",
       "      <td>993407.0</td>\n",
       "      <td>993407.000000</td>\n",
       "      <td>993407.000000</td>\n",
       "      <td>993407.000000</td>\n",
       "      <td>993407.0</td>\n",
       "      <td>993407.000000</td>\n",
       "      <td>993407.000000</td>\n",
       "      <td>993407.000000</td>\n",
       "      <td>993407.000000</td>\n",
       "      <td>993407.000000</td>\n",
       "      <td>9.934070e+05</td>\n",
       "      <td>993407.000000</td>\n",
       "      <td>993407.000000</td>\n",
       "    </tr>\n",
       "    <tr>\n",
       "      <th>mean</th>\n",
       "      <td>0.0</td>\n",
       "      <td>0.004829</td>\n",
       "      <td>-0.006412</td>\n",
       "      <td>1.0</td>\n",
       "      <td>0.0</td>\n",
       "      <td>0.0</td>\n",
       "      <td>40.765470</td>\n",
       "      <td>245.442823</td>\n",
       "      <td>2.550117</td>\n",
       "      <td>0.0</td>\n",
       "      <td>427.671705</td>\n",
       "      <td>0.716711</td>\n",
       "      <td>201.000570</td>\n",
       "      <td>3.791223</td>\n",
       "      <td>0.015351</td>\n",
       "      <td>2.010500e+02</td>\n",
       "      <td>3.792310</td>\n",
       "      <td>0.015192</td>\n",
       "    </tr>\n",
       "    <tr>\n",
       "      <th>std</th>\n",
       "      <td>0.0</td>\n",
       "      <td>0.969555</td>\n",
       "      <td>0.969505</td>\n",
       "      <td>0.0</td>\n",
       "      <td>0.0</td>\n",
       "      <td>0.0</td>\n",
       "      <td>7.795391</td>\n",
       "      <td>133.685231</td>\n",
       "      <td>19.852174</td>\n",
       "      <td>0.0</td>\n",
       "      <td>108.187371</td>\n",
       "      <td>0.087131</td>\n",
       "      <td>0.006132</td>\n",
       "      <td>47.696520</td>\n",
       "      <td>39.296890</td>\n",
       "      <td>2.496166e-09</td>\n",
       "      <td>47.718007</td>\n",
       "      <td>39.318050</td>\n",
       "    </tr>\n",
       "    <tr>\n",
       "      <th>min</th>\n",
       "      <td>0.0</td>\n",
       "      <td>-1.679763</td>\n",
       "      <td>-1.679778</td>\n",
       "      <td>1.0</td>\n",
       "      <td>0.0</td>\n",
       "      <td>0.0</td>\n",
       "      <td>1.000000</td>\n",
       "      <td>2.000000</td>\n",
       "      <td>1.000000</td>\n",
       "      <td>0.0</td>\n",
       "      <td>200.049021</td>\n",
       "      <td>0.671925</td>\n",
       "      <td>201.000000</td>\n",
       "      <td>-128.059814</td>\n",
       "      <td>-110.216036</td>\n",
       "      <td>2.010500e+02</td>\n",
       "      <td>-126.480000</td>\n",
       "      <td>-108.640000</td>\n",
       "    </tr>\n",
       "    <tr>\n",
       "      <th>25%</th>\n",
       "      <td>0.0</td>\n",
       "      <td>-0.827906</td>\n",
       "      <td>-0.845975</td>\n",
       "      <td>1.0</td>\n",
       "      <td>0.0</td>\n",
       "      <td>0.0</td>\n",
       "      <td>36.000000</td>\n",
       "      <td>137.000000</td>\n",
       "      <td>1.000000</td>\n",
       "      <td>0.0</td>\n",
       "      <td>348.774747</td>\n",
       "      <td>0.696598</td>\n",
       "      <td>201.000000</td>\n",
       "      <td>-35.261286</td>\n",
       "      <td>-37.159636</td>\n",
       "      <td>2.010500e+02</td>\n",
       "      <td>-36.720000</td>\n",
       "      <td>-36.480000</td>\n",
       "    </tr>\n",
       "    <tr>\n",
       "      <th>50%</th>\n",
       "      <td>0.0</td>\n",
       "      <td>-0.000010</td>\n",
       "      <td>-0.015476</td>\n",
       "      <td>1.0</td>\n",
       "      <td>0.0</td>\n",
       "      <td>0.0</td>\n",
       "      <td>40.000000</td>\n",
       "      <td>253.000000</td>\n",
       "      <td>1.000000</td>\n",
       "      <td>0.0</td>\n",
       "      <td>410.311039</td>\n",
       "      <td>0.697337</td>\n",
       "      <td>201.000000</td>\n",
       "      <td>1.651972</td>\n",
       "      <td>-0.505239</td>\n",
       "      <td>2.010500e+02</td>\n",
       "      <td>1.040000</td>\n",
       "      <td>-2.080000</td>\n",
       "    </tr>\n",
       "    <tr>\n",
       "      <th>75%</th>\n",
       "      <td>0.0</td>\n",
       "      <td>0.842198</td>\n",
       "      <td>0.831608</td>\n",
       "      <td>1.0</td>\n",
       "      <td>0.0</td>\n",
       "      <td>0.0</td>\n",
       "      <td>45.000000</td>\n",
       "      <td>353.000000</td>\n",
       "      <td>1.000000</td>\n",
       "      <td>0.0</td>\n",
       "      <td>483.119867</td>\n",
       "      <td>0.698236</td>\n",
       "      <td>201.000000</td>\n",
       "      <td>38.443551</td>\n",
       "      <td>37.230225</td>\n",
       "      <td>2.010500e+02</td>\n",
       "      <td>39.600000</td>\n",
       "      <td>36.480000</td>\n",
       "    </tr>\n",
       "    <tr>\n",
       "      <th>max</th>\n",
       "      <td>0.0</td>\n",
       "      <td>1.679900</td>\n",
       "      <td>1.679988</td>\n",
       "      <td>1.0</td>\n",
       "      <td>0.0</td>\n",
       "      <td>0.0</td>\n",
       "      <td>113.000000</td>\n",
       "      <td>4301.000000</td>\n",
       "      <td>2625.000000</td>\n",
       "      <td>0.0</td>\n",
       "      <td>899.990047</td>\n",
       "      <td>3.009657</td>\n",
       "      <td>201.099998</td>\n",
       "      <td>341.430033</td>\n",
       "      <td>110.218249</td>\n",
       "      <td>2.010500e+02</td>\n",
       "      <td>339.920000</td>\n",
       "      <td>108.640000</td>\n",
       "    </tr>\n",
       "  </tbody>\n",
       "</table>\n",
       "</div>"
      ],
      "text/plain": [
       "       pos_primary._2  pos_primary._1  pos_primary._0  dir_primary._2  \\\n",
       "count        993407.0   993407.000000   993407.000000        993407.0   \n",
       "mean              0.0        0.004829       -0.006412             1.0   \n",
       "std               0.0        0.969555        0.969505             0.0   \n",
       "min               0.0       -1.679763       -1.679778             1.0   \n",
       "25%               0.0       -0.827906       -0.845975             1.0   \n",
       "50%               0.0       -0.000010       -0.015476             1.0   \n",
       "75%               0.0        0.842198        0.831608             1.0   \n",
       "max               0.0        1.679900        1.679988             1.0   \n",
       "\n",
       "       dir_primary._1  dir_primary._0           hits  hits.id_track  \\\n",
       "count        993407.0        993407.0  993407.000000  993407.000000   \n",
       "mean              0.0             0.0      40.765470     245.442823   \n",
       "std               0.0             0.0       7.795391     133.685231   \n",
       "min               0.0             0.0       1.000000       2.000000   \n",
       "25%               0.0             0.0      36.000000     137.000000   \n",
       "50%               0.0             0.0      40.000000     253.000000   \n",
       "75%               0.0             0.0      45.000000     353.000000   \n",
       "max               0.0             0.0     113.000000    4301.000000   \n",
       "\n",
       "       hits.id_track_parent  hits.id_hit  hits.wavelength      hits.time  \\\n",
       "count         993407.000000     993407.0    993407.000000  993407.000000   \n",
       "mean               2.550117          0.0       427.671705       0.716711   \n",
       "std               19.852174          0.0       108.187371       0.087131   \n",
       "min                1.000000          0.0       200.049021       0.671925   \n",
       "25%                1.000000          0.0       348.774747       0.696598   \n",
       "50%                1.000000          0.0       410.311039       0.697337   \n",
       "75%                1.000000          0.0       483.119867       0.698236   \n",
       "max             2625.000000          0.0       899.990047       3.009657   \n",
       "\n",
       "       hits.pos_exact._2  hits.pos_exact._1  hits.pos_exact._0  \\\n",
       "count      993407.000000      993407.000000      993407.000000   \n",
       "mean          201.000570           3.791223           0.015351   \n",
       "std             0.006132          47.696520          39.296890   \n",
       "min           201.000000        -128.059814        -110.216036   \n",
       "25%           201.000000         -35.261286         -37.159636   \n",
       "50%           201.000000           1.651972          -0.505239   \n",
       "75%           201.000000          38.443551          37.230225   \n",
       "max           201.099998         341.430033         110.218249   \n",
       "\n",
       "       hits.pos_chip._2  hits.pos_chip._1  hits.pos_chip._0  \n",
       "count      9.934070e+05     993407.000000     993407.000000  \n",
       "mean       2.010500e+02          3.792310          0.015192  \n",
       "std        2.496166e-09         47.718007         39.318050  \n",
       "min        2.010500e+02       -126.480000       -108.640000  \n",
       "25%        2.010500e+02        -36.720000        -36.480000  \n",
       "50%        2.010500e+02          1.040000         -2.080000  \n",
       "75%        2.010500e+02         39.600000         36.480000  \n",
       "max        2.010500e+02        339.920000        108.640000  "
      ]
     },
     "execution_count": 69,
     "metadata": {},
     "output_type": "execute_result"
    }
   ],
   "source": [
    "raw_df.drop(['id_event','id_primary', 'hits.theta.first',\n",
    "             'hits.theta.second','hits.phi.first','hits.phi.second','hits.pos_vertex._2',\n",
    "             'hits.pos_vertex._1','hits.pos_vertex._0','hits.dir_vertex._2',\n",
    "             'hits.dir_vertex._1','hits.dir_vertex._0','hits.id_pmt','hits.id_chip',\n",
    "             'hits.id_layer'], axis=1).describe()"
   ]
  },
  {
   "cell_type": "code",
   "execution_count": 137,
   "metadata": {},
   "outputs": [],
   "source": [
    "df = raw_df[['hits.pos_chip._0','hits.pos_chip._1']].rename({'hits.pos_chip._0':'x','hits.pos_chip._1':'y'}, axis=1)"
   ]
  },
  {
   "cell_type": "code",
   "execution_count": 138,
   "metadata": {},
   "outputs": [],
   "source": [
    "bins = np.linspace(-100, 100, 100)\n",
    "df['x'] = np.digitize(df['x'],bins)\n",
    "df['y'] = np.digitize(df['y'],bins)\n",
    "df['d'] = np.ones(len(df))"
   ]
  },
  {
   "cell_type": "code",
   "execution_count": 139,
   "metadata": {},
   "outputs": [
    {
     "data": {
      "text/html": [
       "<div>\n",
       "<style scoped>\n",
       "    .dataframe tbody tr th:only-of-type {\n",
       "        vertical-align: middle;\n",
       "    }\n",
       "\n",
       "    .dataframe tbody tr th {\n",
       "        vertical-align: top;\n",
       "    }\n",
       "\n",
       "    .dataframe thead th {\n",
       "        text-align: right;\n",
       "    }\n",
       "</style>\n",
       "<table border=\"1\" class=\"dataframe\">\n",
       "  <thead>\n",
       "    <tr style=\"text-align: right;\">\n",
       "      <th></th>\n",
       "      <th></th>\n",
       "      <th>x</th>\n",
       "      <th>y</th>\n",
       "      <th>d</th>\n",
       "    </tr>\n",
       "    <tr>\n",
       "      <th>entry</th>\n",
       "      <th>subentry</th>\n",
       "      <th></th>\n",
       "      <th></th>\n",
       "      <th></th>\n",
       "    </tr>\n",
       "  </thead>\n",
       "  <tbody>\n",
       "    <tr>\n",
       "      <th rowspan=\"5\" valign=\"top\">0</th>\n",
       "      <th>0</th>\n",
       "      <td>1</td>\n",
       "      <td>16</td>\n",
       "      <td>1.0</td>\n",
       "    </tr>\n",
       "    <tr>\n",
       "      <th>1</th>\n",
       "      <td>32</td>\n",
       "      <td>33</td>\n",
       "      <td>1.0</td>\n",
       "    </tr>\n",
       "    <tr>\n",
       "      <th>2</th>\n",
       "      <td>32</td>\n",
       "      <td>33</td>\n",
       "      <td>1.0</td>\n",
       "    </tr>\n",
       "    <tr>\n",
       "      <th>3</th>\n",
       "      <td>32</td>\n",
       "      <td>35</td>\n",
       "      <td>1.0</td>\n",
       "    </tr>\n",
       "    <tr>\n",
       "      <th>4</th>\n",
       "      <td>27</td>\n",
       "      <td>61</td>\n",
       "      <td>1.0</td>\n",
       "    </tr>\n",
       "  </tbody>\n",
       "</table>\n",
       "</div>"
      ],
      "text/plain": [
       "                 x   y    d\n",
       "entry subentry             \n",
       "0     0          1  16  1.0\n",
       "      1         32  33  1.0\n",
       "      2         32  33  1.0\n",
       "      3         32  35  1.0\n",
       "      4         27  61  1.0"
      ]
     },
     "execution_count": 139,
     "metadata": {},
     "output_type": "execute_result"
    }
   ],
   "source": [
    "df.head()"
   ]
  },
  {
   "cell_type": "code",
   "execution_count": 140,
   "metadata": {},
   "outputs": [
    {
     "name": "stdout",
     "output_type": "stream",
     "text": [
      "CPU times: user 38.8 s, sys: 500 ms, total: 39.3 s\n",
      "Wall time: 42.3 s\n"
     ]
    }
   ],
   "source": [
    "%%time\n",
    "a = df.groupby('entry').apply(lambda x: coo_matrix((x['d'], (x['x'], x['y'])), shape=(101, 101)) )"
   ]
  },
  {
   "cell_type": "code",
   "execution_count": 136,
   "metadata": {},
   "outputs": [
    {
     "data": {
      "text/plain": [
       "<101x101 sparse matrix of type '<class 'numpy.float64'>'\n",
       "\twith 41 stored elements in COOrdinate format>"
      ]
     },
     "execution_count": 136,
     "metadata": {},
     "output_type": "execute_result"
    }
   ],
   "source": [
    "a.iloc[0]"
   ]
  },
  {
   "cell_type": "code",
   "execution_count": null,
   "metadata": {},
   "outputs": [],
   "source": []
  },
  {
   "cell_type": "code",
   "execution_count": 111,
   "metadata": {},
   "outputs": [
    {
     "data": {
      "text/html": [
       "<div>\n",
       "<style scoped>\n",
       "    .dataframe tbody tr th:only-of-type {\n",
       "        vertical-align: middle;\n",
       "    }\n",
       "\n",
       "    .dataframe tbody tr th {\n",
       "        vertical-align: top;\n",
       "    }\n",
       "\n",
       "    .dataframe thead th {\n",
       "        text-align: right;\n",
       "    }\n",
       "</style>\n",
       "<table border=\"1\" class=\"dataframe\">\n",
       "  <thead>\n",
       "    <tr style=\"text-align: right;\">\n",
       "      <th></th>\n",
       "      <th>hits.id_chip</th>\n",
       "      <th>hits.pos_chip._0</th>\n",
       "      <th>hits.pos_chip._1</th>\n",
       "    </tr>\n",
       "  </thead>\n",
       "  <tbody>\n",
       "    <tr>\n",
       "      <th>min</th>\n",
       "      <td>1</td>\n",
       "      <td>-108.64</td>\n",
       "      <td>-126.48</td>\n",
       "    </tr>\n",
       "    <tr>\n",
       "      <th>max</th>\n",
       "      <td>64</td>\n",
       "      <td>-85.12</td>\n",
       "      <td>-102.96</td>\n",
       "    </tr>\n",
       "  </tbody>\n",
       "</table>\n",
       "</div>"
      ],
      "text/plain": [
       "     hits.id_chip  hits.pos_chip._0  hits.pos_chip._1\n",
       "min             1           -108.64           -126.48\n",
       "max            64            -85.12           -102.96"
      ]
     },
     "execution_count": 111,
     "metadata": {},
     "output_type": "execute_result"
    }
   ],
   "source": [
    "raw_df[(raw_df['hits.id_pmt']==1)][['hits.id_chip','hits.pos_chip._0','hits.pos_chip._1']].\\\n",
    "sort_values(by='hits.id_chip').apply(['min', 'max'])"
   ]
  },
  {
   "cell_type": "code",
   "execution_count": 113,
   "metadata": {},
   "outputs": [
    {
     "data": {
      "text/html": [
       "<div>\n",
       "<style scoped>\n",
       "    .dataframe tbody tr th:only-of-type {\n",
       "        vertical-align: middle;\n",
       "    }\n",
       "\n",
       "    .dataframe tbody tr th {\n",
       "        vertical-align: top;\n",
       "    }\n",
       "\n",
       "    .dataframe thead th {\n",
       "        text-align: right;\n",
       "    }\n",
       "</style>\n",
       "<table border=\"1\" class=\"dataframe\">\n",
       "  <thead>\n",
       "    <tr style=\"text-align: right;\">\n",
       "      <th></th>\n",
       "      <th>hits.id_chip</th>\n",
       "      <th>hits.pos_chip._0</th>\n",
       "      <th>hits.pos_chip._1</th>\n",
       "    </tr>\n",
       "  </thead>\n",
       "  <tbody>\n",
       "    <tr>\n",
       "      <th>min</th>\n",
       "      <td>1</td>\n",
       "      <td>85.12</td>\n",
       "      <td>316.40</td>\n",
       "    </tr>\n",
       "    <tr>\n",
       "      <th>max</th>\n",
       "      <td>63</td>\n",
       "      <td>108.64</td>\n",
       "      <td>339.92</td>\n",
       "    </tr>\n",
       "  </tbody>\n",
       "</table>\n",
       "</div>"
      ],
      "text/plain": [
       "     hits.id_chip  hits.pos_chip._0  hits.pos_chip._1\n",
       "min             1             85.12            316.40\n",
       "max            63            108.64            339.92"
      ]
     },
     "execution_count": 113,
     "metadata": {},
     "output_type": "execute_result"
    }
   ],
   "source": [
    "raw_df[(raw_df['hits.id_pmt']==136)][['hits.id_chip','hits.pos_chip._0','hits.pos_chip._1']].\\\n",
    "sort_values(by='hits.id_chip').apply(['min', 'max'])"
   ]
  },
  {
   "cell_type": "code",
   "execution_count": 134,
   "metadata": {},
   "outputs": [],
   "source": [
    "import numpy as np\n",
    "from scipy.sparse import coo_matrix\n",
    "\n",
    "def foo(x):\n",
    "    coo = coo_matrix((x['d'], (x['x'], x['y'])), shape=(101, 101))\n",
    "    return coo"
   ]
  },
  {
   "cell_type": "code",
   "execution_count": 24,
   "metadata": {},
   "outputs": [
    {
     "data": {
      "text/plain": [
       "<100x100 sparse matrix of type '<class 'numpy.float64'>'\n",
       "\twith 43 stored elements in COOrdinate format>"
      ]
     },
     "execution_count": 24,
     "metadata": {},
     "output_type": "execute_result"
    }
   ],
   "source": [
    "foo(dp.df.iloc[2])"
   ]
  },
  {
   "cell_type": "code",
   "execution_count": 7,
   "metadata": {},
   "outputs": [
    {
     "data": {
      "text/html": [
       "<div>\n",
       "<style scoped>\n",
       "    .dataframe tbody tr th:only-of-type {\n",
       "        vertical-align: middle;\n",
       "    }\n",
       "\n",
       "    .dataframe tbody tr th {\n",
       "        vertical-align: top;\n",
       "    }\n",
       "\n",
       "    .dataframe thead th {\n",
       "        text-align: right;\n",
       "    }\n",
       "</style>\n",
       "<table border=\"1\" class=\"dataframe\">\n",
       "  <thead>\n",
       "    <tr style=\"text-align: right;\">\n",
       "      <th></th>\n",
       "      <th>chipx</th>\n",
       "      <th>chipy</th>\n",
       "      <th>px</th>\n",
       "      <th>py</th>\n",
       "      <th>radius</th>\n",
       "    </tr>\n",
       "    <tr>\n",
       "      <th>entry</th>\n",
       "      <th></th>\n",
       "      <th></th>\n",
       "      <th></th>\n",
       "      <th></th>\n",
       "      <th></th>\n",
       "    </tr>\n",
       "  </thead>\n",
       "  <tbody>\n",
       "    <tr>\n",
       "      <th>0</th>\n",
       "      <td>[-98.55999999999999, -36.47999999999999, -36.4...</td>\n",
       "      <td>[-67.75999999999999, -33.36000000000001, -33.3...</td>\n",
       "      <td>50</td>\n",
       "      <td>50</td>\n",
       "      <td>13</td>\n",
       "    </tr>\n",
       "    <tr>\n",
       "      <th>2</th>\n",
       "      <td>[-85.11999999999999, -85.11999999999999, -57.4...</td>\n",
       "      <td>[129.35999999999999, 205.67999999999995, 118.4...</td>\n",
       "      <td>50</td>\n",
       "      <td>50</td>\n",
       "      <td>13</td>\n",
       "    </tr>\n",
       "    <tr>\n",
       "      <th>3</th>\n",
       "      <td>[-33.11999999999999, -36.47999999999999, -43.1...</td>\n",
       "      <td>[-40.080000000000005, -30.000000000000007, -23...</td>\n",
       "      <td>50</td>\n",
       "      <td>50</td>\n",
       "      <td>13</td>\n",
       "    </tr>\n",
       "    <tr>\n",
       "      <th>4</th>\n",
       "      <td>[-91.83999999999999, -85.11999999999999, -77.6...</td>\n",
       "      <td>[-85.35999999999999, 74.0, -30.000000000000007...</td>\n",
       "      <td>50</td>\n",
       "      <td>50</td>\n",
       "      <td>13</td>\n",
       "    </tr>\n",
       "    <tr>\n",
       "      <th>8</th>\n",
       "      <td>[-33.11999999999999, -39.839999999999996, -49....</td>\n",
       "      <td>[-40.080000000000005, -30.000000000000007, -19...</td>\n",
       "      <td>50</td>\n",
       "      <td>50</td>\n",
       "      <td>13</td>\n",
       "    </tr>\n",
       "  </tbody>\n",
       "</table>\n",
       "</div>"
      ],
      "text/plain": [
       "                                                   chipx  \\\n",
       "entry                                                      \n",
       "0      [-98.55999999999999, -36.47999999999999, -36.4...   \n",
       "2      [-85.11999999999999, -85.11999999999999, -57.4...   \n",
       "3      [-33.11999999999999, -36.47999999999999, -43.1...   \n",
       "4      [-91.83999999999999, -85.11999999999999, -77.6...   \n",
       "8      [-33.11999999999999, -39.839999999999996, -49....   \n",
       "\n",
       "                                                   chipy  px  py  radius  \n",
       "entry                                                                     \n",
       "0      [-67.75999999999999, -33.36000000000001, -33.3...  50  50      13  \n",
       "2      [129.35999999999999, 205.67999999999995, 118.4...  50  50      13  \n",
       "3      [-40.080000000000005, -30.000000000000007, -23...  50  50      13  \n",
       "4      [-85.35999999999999, 74.0, -30.000000000000007...  50  50      13  \n",
       "8      [-40.080000000000005, -30.000000000000007, -19...  50  50      13  "
      ]
     },
     "execution_count": 7,
     "metadata": {},
     "output_type": "execute_result"
    }
   ],
   "source": [
    "dp.df.head()"
   ]
  },
  {
   "cell_type": "code",
   "execution_count": 160,
   "metadata": {},
   "outputs": [],
   "source": [
    "X, y = dp.get_images()"
   ]
  },
  {
   "cell_type": "code",
   "execution_count": 171,
   "metadata": {},
   "outputs": [],
   "source": [
    "import matplotlib.pyplot as plt\n",
    "import pandas as pd\n",
    "import numpy as np\n",
    "from matplotlib.patches import Ellipse, Circle\n",
    "\n",
    "%matplotlib inline"
   ]
  },
  {
   "cell_type": "code",
   "execution_count": 173,
   "metadata": {},
   "outputs": [
    {
     "data": {
      "text/plain": [
       "array([<64x136 sparse matrix of type '<class 'numpy.float64'>'\n",
       "\twith 41 stored elements in COOrdinate format>,\n",
       "       <64x136 sparse matrix of type '<class 'numpy.float64'>'\n",
       "\twith 39 stored elements in COOrdinate format>,\n",
       "       <64x136 sparse matrix of type '<class 'numpy.float64'>'\n",
       "\twith 43 stored elements in COOrdinate format>,\n",
       "       ...,\n",
       "       <64x136 sparse matrix of type '<class 'numpy.float64'>'\n",
       "\twith 40 stored elements in COOrdinate format>,\n",
       "       <64x136 sparse matrix of type '<class 'numpy.float64'>'\n",
       "\twith 39 stored elements in COOrdinate format>,\n",
       "       <64x136 sparse matrix of type '<class 'numpy.float64'>'\n",
       "\twith 54 stored elements in COOrdinate format>], dtype=object)"
      ]
     },
     "execution_count": 173,
     "metadata": {},
     "output_type": "execute_result"
    }
   ],
   "source": [
    "X"
   ]
  },
  {
   "cell_type": "code",
   "execution_count": 180,
   "metadata": {},
   "outputs": [
    {
     "data": {
      "text/plain": [
       "14.0"
      ]
     },
     "execution_count": 180,
     "metadata": {},
     "output_type": "execute_result"
    }
   ],
   "source": [
    "r"
   ]
  },
  {
   "cell_type": "code",
   "execution_count": 183,
   "metadata": {},
   "outputs": [
    {
     "data": {
      "text/plain": [
       "<matplotlib.collections.PathCollection at 0x7f9f4c815890>"
      ]
     },
     "execution_count": 183,
     "metadata": {},
     "output_type": "execute_result"
    },
    {
     "data": {
      "image/png": "[encoded data removed]",
      "text/plain": [
       "<Figure size 360x360 with 1 Axes>"
      ]
     },
     "metadata": {
      "needs_background": "light"
     },
     "output_type": "display_data"
    }
   ],
   "source": [
    "loc_ind = 1211\n",
    "xv = y[loc_ind][0]\n",
    "yv = y[loc_ind][1]\n",
    "r = y[loc_ind][2]\n",
    "\n",
    "fig = plt.figure(frameon=False, figsize=(5, 5) )\n",
    "ax = plt.Axes(fig, [0., 0., 1., (H.shape[1]/H.shape[0])])\n",
    "# ax.set_axis_off()\n",
    "fig.add_axes(ax)\n",
    "\n",
    "H = X[loc_ind].toarray()\n",
    "xedges = np.linspace(0, H.shape[0], H.shape[0])\n",
    "yedges = np.linspace(0, H.shape[1], H.shape[1])\n",
    "Xg, Yg = np.meshgrid(xedges, yedges)\n",
    "e = Circle(xy=(xv, yv), radius=r, linewidth=2, fill=False, edgecolor='green', alpha=0.5)\n",
    "ax.pcolormesh(Xg, Yg, H.T, cmap='gray')\n",
    "ax.add_artist(e)\n",
    "plt.scatter(xv, yv, marker='+', s=150)"
   ]
  },
  {
   "cell_type": "code",
   "execution_count": null,
   "metadata": {},
   "outputs": [],
   "source": []
  }
 ],
 "metadata": {
  "kernelspec": {
   "display_name": "Python 3",
   "language": "python",
   "name": "python3"
  },
  "language_info": {
   "codemirror_mode": {
    "name": "ipython",
    "version": 3
   },
   "file_extension": ".py",
   "mimetype": "text/x-python",
   "name": "python",
   "nbconvert_exporter": "python",
   "pygments_lexer": "ipython3",
   "version": "3.7.6"
  }
 },
 "nbformat": 4,
 "nbformat_minor": 4
}
