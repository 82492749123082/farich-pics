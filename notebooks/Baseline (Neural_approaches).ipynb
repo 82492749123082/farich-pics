{
  "nbformat": 4,
  "nbformat_minor": 0,
  "metadata": {
    "colab": {
      "name": "Neural approaches.ipynb",
      "provenance": [],
      "collapsed_sections": []
    },
    "kernelspec": {
      "name": "python3",
      "display_name": "Python 3"
    },
    "accelerator": "GPU"
  },
  "cells": [
    {
      "cell_type": "markdown",
      "metadata": {
        "id": "pPGeWsRp_ITr",
        "colab_type": "text"
      },
      "source": [
        "# Neural approaches"
      ]
    },
    {
      "cell_type": "markdown",
      "metadata": {
        "id": "Ak7jCmnZ_O34",
        "colab_type": "text"
      },
      "source": [
        "### Upload file on google colaboratory (from google drive)\n",
        "\n",
        "Original article [there](https://buomsoo-kim.github.io/colab/2018/04/16/Importing-files-from-Google-Drive-in-Google-Colab.md)"
      ]
    },
    {
      "cell_type": "code",
      "metadata": {
        "id": "vs-42Rjlse4p",
        "colab_type": "code",
        "colab": {}
      },
      "source": [
        "id_url = \"1qEYzNSo0EBhU0XfxputYvXxBFJ-CZ5OX\" #Enter your id of google drive document"
      ],
      "execution_count": 0,
      "outputs": []
    },
    {
      "cell_type": "code",
      "metadata": {
        "id": "ogNZboVh-sdU",
        "colab_type": "code",
        "colab": {}
      },
      "source": [
        "from pydrive.auth import GoogleAuth\n",
        "from pydrive.drive import GoogleDrive\n",
        "from google.colab import auth\n",
        "from oauth2client.client import GoogleCredentials"
      ],
      "execution_count": 0,
      "outputs": []
    },
    {
      "cell_type": "code",
      "metadata": {
        "id": "EpH7gqpb-vcn",
        "colab_type": "code",
        "colab": {}
      },
      "source": [
        "auth.authenticate_user()\n",
        "gauth = GoogleAuth()\n",
        "gauth.credentials = GoogleCredentials.get_application_default()\n",
        "drive = GoogleDrive(gauth)"
      ],
      "execution_count": 0,
      "outputs": []
    },
    {
      "cell_type": "code",
      "metadata": {
        "id": "fbTas_ca-xZh",
        "colab_type": "code",
        "colab": {}
      },
      "source": [
        "downloaded = drive.CreateFile({'id':id_url})"
      ],
      "execution_count": 0,
      "outputs": []
    },
    {
      "cell_type": "code",
      "metadata": {
        "id": "c-lYjNG5--Ah",
        "colab_type": "code",
        "colab": {}
      },
      "source": [
        "output_file = 'down.root'\n",
        "downloaded.GetContentFile(output_file)"
      ],
      "execution_count": 0,
      "outputs": []
    },
    {
      "cell_type": "markdown",
      "metadata": {
        "id": "M03CWNm4DSFB",
        "colab_type": "text"
      },
      "source": [
        "## Data preparation"
      ]
    },
    {
      "cell_type": "code",
      "metadata": {
        "id": "C1yIY4MElT7b",
        "colab_type": "code",
        "outputId": "434b4e5a-9ce7-4f46-d71a-23519fc4d063",
        "colab": {
          "base_uri": "https://localhost:8080/",
          "height": 54
        }
      },
      "source": [
        "!pip install uproot -q #for colab"
      ],
      "execution_count": 6,
      "outputs": [
        {
          "output_type": "stream",
          "text": [
            "\u001b[?25l\r\u001b[K     |██▉                             | 10kB 25.8MB/s eta 0:00:01\r\u001b[K     |█████▊                          | 20kB 4.8MB/s eta 0:00:01\r\u001b[K     |████████▋                       | 30kB 6.8MB/s eta 0:00:01\r\u001b[K     |███████████▌                    | 40kB 8.6MB/s eta 0:00:01\r\u001b[K     |██████████████▎                 | 51kB 5.5MB/s eta 0:00:01\r\u001b[K     |█████████████████▏              | 61kB 6.5MB/s eta 0:00:01\r\u001b[K     |████████████████████            | 71kB 7.4MB/s eta 0:00:01\r\u001b[K     |███████████████████████         | 81kB 8.2MB/s eta 0:00:01\r\u001b[K     |█████████████████████████▊      | 92kB 9.0MB/s eta 0:00:01\r\u001b[K     |████████████████████████████▋   | 102kB 7.2MB/s eta 0:00:01\r\u001b[K     |███████████████████████████████▌| 112kB 7.2MB/s eta 0:00:01\r\u001b[K     |████████████████████████████████| 122kB 7.2MB/s \n",
            "\u001b[?25h\u001b[?25l\r\u001b[K     |███▊                            | 10kB 25.0MB/s eta 0:00:01\r\u001b[K     |███████▌                        | 20kB 30.8MB/s eta 0:00:01\r\u001b[K     |███████████▏                    | 30kB 33.7MB/s eta 0:00:01\r\u001b[K     |███████████████                 | 40kB 36.2MB/s eta 0:00:01\r\u001b[K     |██████████████████▊             | 51kB 37.5MB/s eta 0:00:01\r\u001b[K     |██████████████████████▍         | 61kB 39.3MB/s eta 0:00:01\r\u001b[K     |██████████████████████████▏     | 71kB 39.7MB/s eta 0:00:01\r\u001b[K     |██████████████████████████████  | 81kB 40.4MB/s eta 0:00:01\r\u001b[K     |████████████████████████████████| 92kB 10.8MB/s \n",
            "\u001b[?25h"
          ],
          "name": "stdout"
        }
      ]
    },
    {
      "cell_type": "code",
      "metadata": {
        "id": "AtsNm3_V_DDH",
        "colab_type": "code",
        "colab": {}
      },
      "source": [
        "import uproot\n",
        "import pandas as pd\n",
        "import numpy as np\n",
        "import matplotlib.pyplot as plt\n",
        "import seaborn as sns\n",
        "import cv2\n",
        "from google.colab.patches import cv2_imshow\n",
        "from matplotlib.patches import Ellipse, Circle\n",
        "\n",
        "%matplotlib inline"
      ],
      "execution_count": 0,
      "outputs": []
    },
    {
      "cell_type": "code",
      "metadata": {
        "id": "-3rm8TSelSBQ",
        "colab_type": "code",
        "colab": {}
      },
      "source": [
        "info_tree = uproot.open(output_file)['info_sim']\n",
        "raw_tree = uproot.open(output_file)['raw_data']"
      ],
      "execution_count": 0,
      "outputs": []
    },
    {
      "cell_type": "markdown",
      "metadata": {
        "id": "EpPG7H2qEWb3",
        "colab_type": "text"
      },
      "source": [
        "Распечатаю информацию о моделироании"
      ]
    },
    {
      "cell_type": "code",
      "metadata": {
        "id": "ESjRwCyVTyk9",
        "colab_type": "code",
        "outputId": "6a1c9c89-ec02-4c3c-a5b5-07062f3fb6ea",
        "colab": {
          "base_uri": "https://localhost:8080/",
          "height": 167
        }
      },
      "source": [
        "info_tree.pandas.df(flatten=True).head(1)"
      ],
      "execution_count": 9,
      "outputs": [
        {
          "output_type": "execute_result",
          "data": {
            "text/html": [
              "<div>\n",
              "<style scoped>\n",
              "    .dataframe tbody tr th:only-of-type {\n",
              "        vertical-align: middle;\n",
              "    }\n",
              "\n",
              "    .dataframe tbody tr th {\n",
              "        vertical-align: top;\n",
              "    }\n",
              "\n",
              "    .dataframe thead th {\n",
              "        text-align: right;\n",
              "    }\n",
              "</style>\n",
              "<table border=\"1\" class=\"dataframe\">\n",
              "  <thead>\n",
              "    <tr style=\"text-align: right;\">\n",
              "      <th></th>\n",
              "      <th></th>\n",
              "      <th>events</th>\n",
              "      <th>momentum</th>\n",
              "      <th>theta</th>\n",
              "      <th>phi</th>\n",
              "      <th>zDis</th>\n",
              "      <th>layers</th>\n",
              "      <th>layers.first</th>\n",
              "      <th>layers.second</th>\n",
              "      <th>name</th>\n",
              "      <th>num_side_x</th>\n",
              "      <th>num_side_y</th>\n",
              "      <th>gap</th>\n",
              "      <th>size</th>\n",
              "      <th>chip_num_size</th>\n",
              "      <th>chip_pitch</th>\n",
              "      <th>chip_size</th>\n",
              "      <th>chip_offset</th>\n",
              "      <th>focal_length</th>\n",
              "      <th>trg_window</th>\n",
              "      <th>origin_pos._2</th>\n",
              "      <th>origin_pos._1</th>\n",
              "      <th>origin_pos._0</th>\n",
              "    </tr>\n",
              "    <tr>\n",
              "      <th>entry</th>\n",
              "      <th>subentry</th>\n",
              "      <th></th>\n",
              "      <th></th>\n",
              "      <th></th>\n",
              "      <th></th>\n",
              "      <th></th>\n",
              "      <th></th>\n",
              "      <th></th>\n",
              "      <th></th>\n",
              "      <th></th>\n",
              "      <th></th>\n",
              "      <th></th>\n",
              "      <th></th>\n",
              "      <th></th>\n",
              "      <th></th>\n",
              "      <th></th>\n",
              "      <th></th>\n",
              "      <th></th>\n",
              "      <th></th>\n",
              "      <th></th>\n",
              "      <th></th>\n",
              "      <th></th>\n",
              "      <th></th>\n",
              "    </tr>\n",
              "  </thead>\n",
              "  <tbody>\n",
              "    <tr>\n",
              "      <th>0</th>\n",
              "      <th>0</th>\n",
              "      <td>50000</td>\n",
              "      <td>1000.0</td>\n",
              "      <td>0.0</td>\n",
              "      <td>1.570796</td>\n",
              "      <td>1.0</td>\n",
              "      <td>4</td>\n",
              "      <td>1.041</td>\n",
              "      <td>9.32</td>\n",
              "      <td>b'SensL_ARRAYJ-30020-64P-PCB_25V'</td>\n",
              "      <td>8</td>\n",
              "      <td>17</td>\n",
              "      <td>1.0</td>\n",
              "      <td>26.68</td>\n",
              "      <td>8</td>\n",
              "      <td>0.2</td>\n",
              "      <td>3.16</td>\n",
              "      <td>0.0</td>\n",
              "      <td>200.0</td>\n",
              "      <td>20.0</td>\n",
              "      <td>201.0</td>\n",
              "      <td>106.72</td>\n",
              "      <td>0.0</td>\n",
              "    </tr>\n",
              "  </tbody>\n",
              "</table>\n",
              "</div>"
            ],
            "text/plain": [
              "                events  momentum  ...  origin_pos._1  origin_pos._0\n",
              "entry subentry                    ...                              \n",
              "0     0          50000    1000.0  ...         106.72            0.0\n",
              "\n",
              "[1 rows x 22 columns]"
            ]
          },
          "metadata": {
            "tags": []
          },
          "execution_count": 9
        }
      ]
    },
    {
      "cell_type": "markdown",
      "metadata": {
        "id": "JbXOr-oZEcAp",
        "colab_type": "text"
      },
      "source": [
        "Превращаю в таблицу данные моделирования"
      ]
    },
    {
      "cell_type": "code",
      "metadata": {
        "id": "icAkQQFXqqp6",
        "colab_type": "code",
        "outputId": "6256ddbd-5a21-489d-d9b0-628378195d61",
        "colab": {
          "base_uri": "https://localhost:8080/",
          "height": 195
        }
      },
      "source": [
        "fulldf = raw_tree.pandas.df()\n",
        "fulldf.head(3)"
      ],
      "execution_count": 10,
      "outputs": [
        {
          "output_type": "execute_result",
          "data": {
            "text/html": [
              "<div>\n",
              "<style scoped>\n",
              "    .dataframe tbody tr th:only-of-type {\n",
              "        vertical-align: middle;\n",
              "    }\n",
              "\n",
              "    .dataframe tbody tr th {\n",
              "        vertical-align: top;\n",
              "    }\n",
              "\n",
              "    .dataframe thead th {\n",
              "        text-align: right;\n",
              "    }\n",
              "</style>\n",
              "<table border=\"1\" class=\"dataframe\">\n",
              "  <thead>\n",
              "    <tr style=\"text-align: right;\">\n",
              "      <th></th>\n",
              "      <th></th>\n",
              "      <th>id_event</th>\n",
              "      <th>id_primary</th>\n",
              "      <th>pos_primary._2</th>\n",
              "      <th>pos_primary._1</th>\n",
              "      <th>pos_primary._0</th>\n",
              "      <th>dir_primary._2</th>\n",
              "      <th>dir_primary._1</th>\n",
              "      <th>dir_primary._0</th>\n",
              "      <th>hits</th>\n",
              "      <th>hits.id_pmt</th>\n",
              "      <th>hits.id_chip</th>\n",
              "      <th>hits.id_layer</th>\n",
              "      <th>hits.id_track</th>\n",
              "      <th>hits.id_track_parent</th>\n",
              "      <th>hits.id_hit</th>\n",
              "      <th>hits.id_fit</th>\n",
              "      <th>hits.wavelength</th>\n",
              "      <th>hits.time</th>\n",
              "      <th>hits.pos_exact._2</th>\n",
              "      <th>hits.pos_exact._1</th>\n",
              "      <th>hits.pos_exact._0</th>\n",
              "      <th>hits.pos_chip._2</th>\n",
              "      <th>hits.pos_chip._1</th>\n",
              "      <th>hits.pos_chip._0</th>\n",
              "      <th>hits.pos_vertex._2</th>\n",
              "      <th>hits.pos_vertex._1</th>\n",
              "      <th>hits.pos_vertex._0</th>\n",
              "      <th>hits.dir_vertex._2</th>\n",
              "      <th>hits.dir_vertex._1</th>\n",
              "      <th>hits.dir_vertex._0</th>\n",
              "      <th>hits.theta.first</th>\n",
              "      <th>hits.theta.second</th>\n",
              "      <th>hits.phi.first</th>\n",
              "      <th>hits.phi.second</th>\n",
              "    </tr>\n",
              "    <tr>\n",
              "      <th>entry</th>\n",
              "      <th>subentry</th>\n",
              "      <th></th>\n",
              "      <th></th>\n",
              "      <th></th>\n",
              "      <th></th>\n",
              "      <th></th>\n",
              "      <th></th>\n",
              "      <th></th>\n",
              "      <th></th>\n",
              "      <th></th>\n",
              "      <th></th>\n",
              "      <th></th>\n",
              "      <th></th>\n",
              "      <th></th>\n",
              "      <th></th>\n",
              "      <th></th>\n",
              "      <th></th>\n",
              "      <th></th>\n",
              "      <th></th>\n",
              "      <th></th>\n",
              "      <th></th>\n",
              "      <th></th>\n",
              "      <th></th>\n",
              "      <th></th>\n",
              "      <th></th>\n",
              "      <th></th>\n",
              "      <th></th>\n",
              "      <th></th>\n",
              "      <th></th>\n",
              "      <th></th>\n",
              "      <th></th>\n",
              "      <th></th>\n",
              "      <th></th>\n",
              "      <th></th>\n",
              "      <th></th>\n",
              "    </tr>\n",
              "  </thead>\n",
              "  <tbody>\n",
              "    <tr>\n",
              "      <th rowspan=\"3\" valign=\"top\">0</th>\n",
              "      <th>0</th>\n",
              "      <td>1</td>\n",
              "      <td>-211</td>\n",
              "      <td>0.0</td>\n",
              "      <td>1.1148</td>\n",
              "      <td>1.618337</td>\n",
              "      <td>1.0</td>\n",
              "      <td>0.0</td>\n",
              "      <td>0.0</td>\n",
              "      <td>41</td>\n",
              "      <td>3</td>\n",
              "      <td>26</td>\n",
              "      <td>1</td>\n",
              "      <td>103</td>\n",
              "      <td>1</td>\n",
              "      <td>0</td>\n",
              "      <td>False</td>\n",
              "      <td>247.980966</td>\n",
              "      <td>1.186275</td>\n",
              "      <td>201.0</td>\n",
              "      <td>-66.336377</td>\n",
              "      <td>-98.485695</td>\n",
              "      <td>201.05</td>\n",
              "      <td>-67.76</td>\n",
              "      <td>-98.56</td>\n",
              "      <td>3.379924</td>\n",
              "      <td>1.114795</td>\n",
              "      <td>1.618330</td>\n",
              "      <td>0.967016</td>\n",
              "      <td>-0.156788</td>\n",
              "      <td>-0.200743</td>\n",
              "      <td>0.0</td>\n",
              "      <td>0.0</td>\n",
              "      <td>0.0</td>\n",
              "      <td>0.0</td>\n",
              "    </tr>\n",
              "    <tr>\n",
              "      <th>1</th>\n",
              "      <td>1</td>\n",
              "      <td>-211</td>\n",
              "      <td>0.0</td>\n",
              "      <td>1.1148</td>\n",
              "      <td>1.618337</td>\n",
              "      <td>1.0</td>\n",
              "      <td>0.0</td>\n",
              "      <td>0.0</td>\n",
              "      <td>41</td>\n",
              "      <td>38</td>\n",
              "      <td>44</td>\n",
              "      <td>2</td>\n",
              "      <td>209</td>\n",
              "      <td>1</td>\n",
              "      <td>0</td>\n",
              "      <td>False</td>\n",
              "      <td>443.882665</td>\n",
              "      <td>0.697833</td>\n",
              "      <td>201.0</td>\n",
              "      <td>-32.497428</td>\n",
              "      <td>-37.196591</td>\n",
              "      <td>201.05</td>\n",
              "      <td>-33.36</td>\n",
              "      <td>-36.48</td>\n",
              "      <td>12.017793</td>\n",
              "      <td>1.116089</td>\n",
              "      <td>1.616093</td>\n",
              "      <td>0.967547</td>\n",
              "      <td>-0.165428</td>\n",
              "      <td>-0.191016</td>\n",
              "      <td>0.0</td>\n",
              "      <td>0.0</td>\n",
              "      <td>0.0</td>\n",
              "      <td>0.0</td>\n",
              "    </tr>\n",
              "    <tr>\n",
              "      <th>2</th>\n",
              "      <td>1</td>\n",
              "      <td>-211</td>\n",
              "      <td>0.0</td>\n",
              "      <td>1.1148</td>\n",
              "      <td>1.618337</td>\n",
              "      <td>1.0</td>\n",
              "      <td>0.0</td>\n",
              "      <td>0.0</td>\n",
              "      <td>41</td>\n",
              "      <td>38</td>\n",
              "      <td>44</td>\n",
              "      <td>3</td>\n",
              "      <td>300</td>\n",
              "      <td>1</td>\n",
              "      <td>0</td>\n",
              "      <td>False</td>\n",
              "      <td>313.202599</td>\n",
              "      <td>0.698814</td>\n",
              "      <td>201.0</td>\n",
              "      <td>-34.353607</td>\n",
              "      <td>-36.644516</td>\n",
              "      <td>201.05</td>\n",
              "      <td>-33.36</td>\n",
              "      <td>-36.48</td>\n",
              "      <td>22.021227</td>\n",
              "      <td>1.124123</td>\n",
              "      <td>1.605685</td>\n",
              "      <td>0.963424</td>\n",
              "      <td>-0.182237</td>\n",
              "      <td>-0.196478</td>\n",
              "      <td>0.0</td>\n",
              "      <td>0.0</td>\n",
              "      <td>0.0</td>\n",
              "      <td>0.0</td>\n",
              "    </tr>\n",
              "  </tbody>\n",
              "</table>\n",
              "</div>"
            ],
            "text/plain": [
              "                id_event  id_primary  ...  hits.phi.first  hits.phi.second\n",
              "entry subentry                        ...                                 \n",
              "0     0                1        -211  ...             0.0              0.0\n",
              "      1                1        -211  ...             0.0              0.0\n",
              "      2                1        -211  ...             0.0              0.0\n",
              "\n",
              "[3 rows x 34 columns]"
            ]
          },
          "metadata": {
            "tags": []
          },
          "execution_count": 10
        }
      ]
    },
    {
      "cell_type": "code",
      "metadata": {
        "id": "KZ0i7Ih4Lx2r",
        "colab_type": "code",
        "outputId": "0ccfac79-7253-4bc3-82ba-f9a1995b8776",
        "colab": {
          "base_uri": "https://localhost:8080/",
          "height": 320
        }
      },
      "source": [
        "fulldf.describe()"
      ],
      "execution_count": 11,
      "outputs": [
        {
          "output_type": "execute_result",
          "data": {
            "text/html": [
              "<div>\n",
              "<style scoped>\n",
              "    .dataframe tbody tr th:only-of-type {\n",
              "        vertical-align: middle;\n",
              "    }\n",
              "\n",
              "    .dataframe tbody tr th {\n",
              "        vertical-align: top;\n",
              "    }\n",
              "\n",
              "    .dataframe thead th {\n",
              "        text-align: right;\n",
              "    }\n",
              "</style>\n",
              "<table border=\"1\" class=\"dataframe\">\n",
              "  <thead>\n",
              "    <tr style=\"text-align: right;\">\n",
              "      <th></th>\n",
              "      <th>id_event</th>\n",
              "      <th>id_primary</th>\n",
              "      <th>pos_primary._2</th>\n",
              "      <th>pos_primary._1</th>\n",
              "      <th>pos_primary._0</th>\n",
              "      <th>dir_primary._2</th>\n",
              "      <th>dir_primary._1</th>\n",
              "      <th>dir_primary._0</th>\n",
              "      <th>hits</th>\n",
              "      <th>hits.id_pmt</th>\n",
              "      <th>hits.id_chip</th>\n",
              "      <th>hits.id_layer</th>\n",
              "      <th>hits.id_track</th>\n",
              "      <th>hits.id_track_parent</th>\n",
              "      <th>hits.id_hit</th>\n",
              "      <th>hits.wavelength</th>\n",
              "      <th>hits.time</th>\n",
              "      <th>hits.pos_exact._2</th>\n",
              "      <th>hits.pos_exact._1</th>\n",
              "      <th>hits.pos_exact._0</th>\n",
              "      <th>hits.pos_chip._2</th>\n",
              "      <th>hits.pos_chip._1</th>\n",
              "      <th>hits.pos_chip._0</th>\n",
              "      <th>hits.pos_vertex._2</th>\n",
              "      <th>hits.pos_vertex._1</th>\n",
              "      <th>hits.pos_vertex._0</th>\n",
              "      <th>hits.dir_vertex._2</th>\n",
              "      <th>hits.dir_vertex._1</th>\n",
              "      <th>hits.dir_vertex._0</th>\n",
              "      <th>hits.theta.first</th>\n",
              "      <th>hits.theta.second</th>\n",
              "      <th>hits.phi.first</th>\n",
              "      <th>hits.phi.second</th>\n",
              "    </tr>\n",
              "  </thead>\n",
              "  <tbody>\n",
              "    <tr>\n",
              "      <th>count</th>\n",
              "      <td>993407.000000</td>\n",
              "      <td>993407.000000</td>\n",
              "      <td>993407.0</td>\n",
              "      <td>993407.000000</td>\n",
              "      <td>993407.000000</td>\n",
              "      <td>993407.0</td>\n",
              "      <td>993407.0</td>\n",
              "      <td>993407.0</td>\n",
              "      <td>993407.000000</td>\n",
              "      <td>993407.000000</td>\n",
              "      <td>993407.000000</td>\n",
              "      <td>993407.000000</td>\n",
              "      <td>993407.000000</td>\n",
              "      <td>993407.000000</td>\n",
              "      <td>993407.0</td>\n",
              "      <td>993407.000000</td>\n",
              "      <td>993407.000000</td>\n",
              "      <td>993407.000000</td>\n",
              "      <td>993407.000000</td>\n",
              "      <td>993407.000000</td>\n",
              "      <td>9.934070e+05</td>\n",
              "      <td>993407.000000</td>\n",
              "      <td>993407.000000</td>\n",
              "      <td>993407.000000</td>\n",
              "      <td>993407.000000</td>\n",
              "      <td>993407.000000</td>\n",
              "      <td>993407.000000</td>\n",
              "      <td>993407.000000</td>\n",
              "      <td>993407.000000</td>\n",
              "      <td>993407.0</td>\n",
              "      <td>993407.0</td>\n",
              "      <td>993407.0</td>\n",
              "      <td>993407.0</td>\n",
              "    </tr>\n",
              "    <tr>\n",
              "      <th>mean</th>\n",
              "      <td>25035.193149</td>\n",
              "      <td>-211.588530</td>\n",
              "      <td>0.0</td>\n",
              "      <td>0.004829</td>\n",
              "      <td>-0.006412</td>\n",
              "      <td>1.0</td>\n",
              "      <td>0.0</td>\n",
              "      <td>0.0</td>\n",
              "      <td>40.765470</td>\n",
              "      <td>64.782044</td>\n",
              "      <td>32.552517</td>\n",
              "      <td>2.747392</td>\n",
              "      <td>245.442823</td>\n",
              "      <td>2.550117</td>\n",
              "      <td>0.0</td>\n",
              "      <td>427.671705</td>\n",
              "      <td>0.716711</td>\n",
              "      <td>201.000570</td>\n",
              "      <td>3.791223</td>\n",
              "      <td>0.015351</td>\n",
              "      <td>2.010500e+02</td>\n",
              "      <td>3.792310</td>\n",
              "      <td>0.015192</td>\n",
              "      <td>21.247246</td>\n",
              "      <td>0.011625</td>\n",
              "      <td>-0.004948</td>\n",
              "      <td>0.963746</td>\n",
              "      <td>0.002538</td>\n",
              "      <td>0.000148</td>\n",
              "      <td>0.0</td>\n",
              "      <td>0.0</td>\n",
              "      <td>0.0</td>\n",
              "      <td>0.0</td>\n",
              "    </tr>\n",
              "    <tr>\n",
              "      <th>std</th>\n",
              "      <td>14414.621555</td>\n",
              "      <td>8.024464</td>\n",
              "      <td>0.0</td>\n",
              "      <td>0.969555</td>\n",
              "      <td>0.969505</td>\n",
              "      <td>0.0</td>\n",
              "      <td>0.0</td>\n",
              "      <td>0.0</td>\n",
              "      <td>7.795391</td>\n",
              "      <td>23.256084</td>\n",
              "      <td>17.668222</td>\n",
              "      <td>1.101370</td>\n",
              "      <td>133.685231</td>\n",
              "      <td>19.852174</td>\n",
              "      <td>0.0</td>\n",
              "      <td>108.187371</td>\n",
              "      <td>0.087131</td>\n",
              "      <td>0.006132</td>\n",
              "      <td>47.696520</td>\n",
              "      <td>39.296890</td>\n",
              "      <td>2.496166e-09</td>\n",
              "      <td>47.718007</td>\n",
              "      <td>39.318050</td>\n",
              "      <td>9.932300</td>\n",
              "      <td>1.279194</td>\n",
              "      <td>1.160645</td>\n",
              "      <td>0.021641</td>\n",
              "      <td>0.187929</td>\n",
              "      <td>0.188154</td>\n",
              "      <td>0.0</td>\n",
              "      <td>0.0</td>\n",
              "      <td>0.0</td>\n",
              "      <td>0.0</td>\n",
              "    </tr>\n",
              "    <tr>\n",
              "      <th>min</th>\n",
              "      <td>1.000000</td>\n",
              "      <td>-321.000000</td>\n",
              "      <td>0.0</td>\n",
              "      <td>-1.679763</td>\n",
              "      <td>-1.679778</td>\n",
              "      <td>1.0</td>\n",
              "      <td>0.0</td>\n",
              "      <td>0.0</td>\n",
              "      <td>1.000000</td>\n",
              "      <td>1.000000</td>\n",
              "      <td>1.000000</td>\n",
              "      <td>1.000000</td>\n",
              "      <td>2.000000</td>\n",
              "      <td>1.000000</td>\n",
              "      <td>0.0</td>\n",
              "      <td>200.049021</td>\n",
              "      <td>0.671925</td>\n",
              "      <td>201.000000</td>\n",
              "      <td>-128.059814</td>\n",
              "      <td>-110.216036</td>\n",
              "      <td>2.010500e+02</td>\n",
              "      <td>-126.480000</td>\n",
              "      <td>-108.640000</td>\n",
              "      <td>1.000155</td>\n",
              "      <td>-93.654610</td>\n",
              "      <td>-84.189243</td>\n",
              "      <td>-0.983523</td>\n",
              "      <td>-0.999515</td>\n",
              "      <td>-0.998301</td>\n",
              "      <td>0.0</td>\n",
              "      <td>0.0</td>\n",
              "      <td>0.0</td>\n",
              "      <td>0.0</td>\n",
              "    </tr>\n",
              "    <tr>\n",
              "      <th>25%</th>\n",
              "      <td>12664.000000</td>\n",
              "      <td>-211.000000</td>\n",
              "      <td>0.0</td>\n",
              "      <td>-0.827906</td>\n",
              "      <td>-0.845975</td>\n",
              "      <td>1.0</td>\n",
              "      <td>0.0</td>\n",
              "      <td>0.0</td>\n",
              "      <td>36.000000</td>\n",
              "      <td>40.000000</td>\n",
              "      <td>17.000000</td>\n",
              "      <td>2.000000</td>\n",
              "      <td>137.000000</td>\n",
              "      <td>1.000000</td>\n",
              "      <td>0.0</td>\n",
              "      <td>348.774747</td>\n",
              "      <td>0.696598</td>\n",
              "      <td>201.000000</td>\n",
              "      <td>-35.261286</td>\n",
              "      <td>-37.159636</td>\n",
              "      <td>2.010500e+02</td>\n",
              "      <td>-36.720000</td>\n",
              "      <td>-36.480000</td>\n",
              "      <td>13.241316</td>\n",
              "      <td>-0.835164</td>\n",
              "      <td>-0.851899</td>\n",
              "      <td>0.962136</td>\n",
              "      <td>-0.179502</td>\n",
              "      <td>-0.187729</td>\n",
              "      <td>0.0</td>\n",
              "      <td>0.0</td>\n",
              "      <td>0.0</td>\n",
              "      <td>0.0</td>\n",
              "    </tr>\n",
              "    <tr>\n",
              "      <th>50%</th>\n",
              "      <td>24856.000000</td>\n",
              "      <td>-211.000000</td>\n",
              "      <td>0.0</td>\n",
              "      <td>-0.000010</td>\n",
              "      <td>-0.015476</td>\n",
              "      <td>1.0</td>\n",
              "      <td>0.0</td>\n",
              "      <td>0.0</td>\n",
              "      <td>40.000000</td>\n",
              "      <td>68.000000</td>\n",
              "      <td>33.000000</td>\n",
              "      <td>3.000000</td>\n",
              "      <td>253.000000</td>\n",
              "      <td>1.000000</td>\n",
              "      <td>0.0</td>\n",
              "      <td>410.311039</td>\n",
              "      <td>0.697337</td>\n",
              "      <td>201.000000</td>\n",
              "      <td>1.651972</td>\n",
              "      <td>-0.505239</td>\n",
              "      <td>2.010500e+02</td>\n",
              "      <td>1.040000</td>\n",
              "      <td>-2.080000</td>\n",
              "      <td>22.538553</td>\n",
              "      <td>0.001009</td>\n",
              "      <td>-0.014494</td>\n",
              "      <td>0.964887</td>\n",
              "      <td>0.002793</td>\n",
              "      <td>0.000080</td>\n",
              "      <td>0.0</td>\n",
              "      <td>0.0</td>\n",
              "      <td>0.0</td>\n",
              "      <td>0.0</td>\n",
              "    </tr>\n",
              "    <tr>\n",
              "      <th>75%</th>\n",
              "      <td>37516.000000</td>\n",
              "      <td>-211.000000</td>\n",
              "      <td>0.0</td>\n",
              "      <td>0.842198</td>\n",
              "      <td>0.831608</td>\n",
              "      <td>1.0</td>\n",
              "      <td>0.0</td>\n",
              "      <td>0.0</td>\n",
              "      <td>45.000000</td>\n",
              "      <td>89.000000</td>\n",
              "      <td>48.000000</td>\n",
              "      <td>4.000000</td>\n",
              "      <td>353.000000</td>\n",
              "      <td>1.000000</td>\n",
              "      <td>0.0</td>\n",
              "      <td>483.119867</td>\n",
              "      <td>0.698236</td>\n",
              "      <td>201.000000</td>\n",
              "      <td>38.443551</td>\n",
              "      <td>37.230225</td>\n",
              "      <td>2.010500e+02</td>\n",
              "      <td>39.600000</td>\n",
              "      <td>36.480000</td>\n",
              "      <td>29.958778</td>\n",
              "      <td>0.851051</td>\n",
              "      <td>0.839157</td>\n",
              "      <td>0.967844</td>\n",
              "      <td>0.183594</td>\n",
              "      <td>0.188108</td>\n",
              "      <td>0.0</td>\n",
              "      <td>0.0</td>\n",
              "      <td>0.0</td>\n",
              "      <td>0.0</td>\n",
              "    </tr>\n",
              "    <tr>\n",
              "      <th>max</th>\n",
              "      <td>50000.000000</td>\n",
              "      <td>-211.000000</td>\n",
              "      <td>0.0</td>\n",
              "      <td>1.679900</td>\n",
              "      <td>1.679988</td>\n",
              "      <td>1.0</td>\n",
              "      <td>0.0</td>\n",
              "      <td>0.0</td>\n",
              "      <td>113.000000</td>\n",
              "      <td>136.000000</td>\n",
              "      <td>64.000000</td>\n",
              "      <td>4.000000</td>\n",
              "      <td>4301.000000</td>\n",
              "      <td>2625.000000</td>\n",
              "      <td>0.0</td>\n",
              "      <td>899.990047</td>\n",
              "      <td>3.009657</td>\n",
              "      <td>201.099998</td>\n",
              "      <td>341.430033</td>\n",
              "      <td>110.218249</td>\n",
              "      <td>2.010500e+02</td>\n",
              "      <td>339.920000</td>\n",
              "      <td>108.640000</td>\n",
              "      <td>35.999992</td>\n",
              "      <td>93.090047</td>\n",
              "      <td>80.333879</td>\n",
              "      <td>0.999997</td>\n",
              "      <td>0.998824</td>\n",
              "      <td>0.991826</td>\n",
              "      <td>0.0</td>\n",
              "      <td>0.0</td>\n",
              "      <td>0.0</td>\n",
              "      <td>0.0</td>\n",
              "    </tr>\n",
              "  </tbody>\n",
              "</table>\n",
              "</div>"
            ],
            "text/plain": [
              "            id_event     id_primary  ...  hits.phi.first  hits.phi.second\n",
              "count  993407.000000  993407.000000  ...        993407.0         993407.0\n",
              "mean    25035.193149    -211.588530  ...             0.0              0.0\n",
              "std     14414.621555       8.024464  ...             0.0              0.0\n",
              "min         1.000000    -321.000000  ...             0.0              0.0\n",
              "25%     12664.000000    -211.000000  ...             0.0              0.0\n",
              "50%     24856.000000    -211.000000  ...             0.0              0.0\n",
              "75%     37516.000000    -211.000000  ...             0.0              0.0\n",
              "max     50000.000000    -211.000000  ...             0.0              0.0\n",
              "\n",
              "[8 rows x 33 columns]"
            ]
          },
          "metadata": {
            "tags": []
          },
          "execution_count": 11
        }
      ]
    },
    {
      "cell_type": "code",
      "metadata": {
        "id": "VJCpzQ7VleCu",
        "colab_type": "code",
        "colab": {}
      },
      "source": [
        "df = raw_tree.pandas.df(branches=['hits.pos_chip._0', 'hits.pos_chip._1', 'hits.pos_vertex._0', 'hits.pos_vertex._1'])\n",
        "df = df.rename({'hits.pos_chip._0':'chip_x', 'hits.pos_chip._1':'chip_y', 'hits.pos_vertex._0':'vertex_x', 'hits.pos_vertex._1':'vertex_y'}, axis=1)"
      ],
      "execution_count": 0,
      "outputs": []
    },
    {
      "cell_type": "code",
      "metadata": {
        "id": "j4Z0vr8BFC_H",
        "colab_type": "code",
        "colab": {}
      },
      "source": [
        "data = df.groupby('entry').agg({'chip_x': list, 'chip_y': list, 'vertex_x': 'mean', 'vertex_y': 'mean'})"
      ],
      "execution_count": 0,
      "outputs": []
    },
    {
      "cell_type": "code",
      "metadata": {
        "id": "R1fSNRc3FC6n",
        "colab_type": "code",
        "outputId": "b4f53a77-e411-4b85-9065-eff766ae9e0d",
        "colab": {
          "base_uri": "https://localhost:8080/",
          "height": 237
        }
      },
      "source": [
        "data.head()"
      ],
      "execution_count": 14,
      "outputs": [
        {
          "output_type": "execute_result",
          "data": {
            "text/html": [
              "<div>\n",
              "<style scoped>\n",
              "    .dataframe tbody tr th:only-of-type {\n",
              "        vertical-align: middle;\n",
              "    }\n",
              "\n",
              "    .dataframe tbody tr th {\n",
              "        vertical-align: top;\n",
              "    }\n",
              "\n",
              "    .dataframe thead th {\n",
              "        text-align: right;\n",
              "    }\n",
              "</style>\n",
              "<table border=\"1\" class=\"dataframe\">\n",
              "  <thead>\n",
              "    <tr style=\"text-align: right;\">\n",
              "      <th></th>\n",
              "      <th>chip_x</th>\n",
              "      <th>chip_y</th>\n",
              "      <th>vertex_x</th>\n",
              "      <th>vertex_y</th>\n",
              "    </tr>\n",
              "    <tr>\n",
              "      <th>entry</th>\n",
              "      <th></th>\n",
              "      <th></th>\n",
              "      <th></th>\n",
              "      <th></th>\n",
              "    </tr>\n",
              "  </thead>\n",
              "  <tbody>\n",
              "    <tr>\n",
              "      <th>0</th>\n",
              "      <td>[-98.55999999999999, -36.47999999999999, -36.4...</td>\n",
              "      <td>[-67.75999999999999, -33.36000000000001, -33.3...</td>\n",
              "      <td>1.609652</td>\n",
              "      <td>1.125650</td>\n",
              "    </tr>\n",
              "    <tr>\n",
              "      <th>2</th>\n",
              "      <td>[-85.11999999999999, -85.11999999999999, -57.4...</td>\n",
              "      <td>[129.35999999999999, 205.67999999999995, 118.4...</td>\n",
              "      <td>0.241547</td>\n",
              "      <td>0.048154</td>\n",
              "    </tr>\n",
              "    <tr>\n",
              "      <th>3</th>\n",
              "      <td>[-33.11999999999999, -36.47999999999999, -43.1...</td>\n",
              "      <td>[-40.080000000000005, -30.000000000000007, -23...</td>\n",
              "      <td>1.526540</td>\n",
              "      <td>0.478399</td>\n",
              "    </tr>\n",
              "    <tr>\n",
              "      <th>4</th>\n",
              "      <td>[-91.83999999999999, -85.11999999999999, -77.6...</td>\n",
              "      <td>[-85.35999999999999, 74.0, -30.000000000000007...</td>\n",
              "      <td>1.102120</td>\n",
              "      <td>-1.260826</td>\n",
              "    </tr>\n",
              "    <tr>\n",
              "      <th>8</th>\n",
              "      <td>[-33.11999999999999, -39.839999999999996, -49....</td>\n",
              "      <td>[-40.080000000000005, -30.000000000000007, -19...</td>\n",
              "      <td>0.040140</td>\n",
              "      <td>-0.860000</td>\n",
              "    </tr>\n",
              "  </tbody>\n",
              "</table>\n",
              "</div>"
            ],
            "text/plain": [
              "                                                  chip_x  ...  vertex_y\n",
              "entry                                                     ...          \n",
              "0      [-98.55999999999999, -36.47999999999999, -36.4...  ...  1.125650\n",
              "2      [-85.11999999999999, -85.11999999999999, -57.4...  ...  0.048154\n",
              "3      [-33.11999999999999, -36.47999999999999, -43.1...  ...  0.478399\n",
              "4      [-91.83999999999999, -85.11999999999999, -77.6...  ... -1.260826\n",
              "8      [-33.11999999999999, -39.839999999999996, -49....  ... -0.860000\n",
              "\n",
              "[5 rows x 4 columns]"
            ]
          },
          "metadata": {
            "tags": []
          },
          "execution_count": 14
        }
      ]
    },
    {
      "cell_type": "markdown",
      "metadata": {
        "id": "fi9ylKmtK4Cr",
        "colab_type": "text"
      },
      "source": [
        "Теперь у меня подготовленные данные. Разобью таблицу на `train` и `test` части. Финальный результат буду формировать по результатам на `test`. Так можно будет сравнивать подходы"
      ]
    },
    {
      "cell_type": "code",
      "metadata": {
        "id": "cf-H6E-9K3hs",
        "colab_type": "code",
        "colab": {}
      },
      "source": [
        "from sklearn.model_selection import train_test_split\n",
        "X = data[['chip_x', 'chip_y']]\n",
        "y = data[['vertex_x', 'vertex_y']]\n",
        "X_train, X_test, y_train, y_test = train_test_split(X, y, random_state=42)"
      ],
      "execution_count": 0,
      "outputs": []
    },
    {
      "cell_type": "markdown",
      "metadata": {
        "id": "Y2VwphIPS6p6",
        "colab_type": "text"
      },
      "source": [
        "## Пример события"
      ]
    },
    {
      "cell_type": "code",
      "metadata": {
        "id": "aRDZpYh9n8fa",
        "colab_type": "code",
        "outputId": "fe0faa47-bc4c-4f83-f34d-029e8e85e1f6",
        "colab": {
          "base_uri": "https://localhost:8080/",
          "height": 410
        }
      },
      "source": [
        "loc_ind = 15940 # 21\n",
        "x = data['chip_x'].loc[loc_ind]\n",
        "y = data['chip_y'].loc[loc_ind]\n",
        "xv = data['vertex_x'].loc[loc_ind]\n",
        "yv = data['vertex_y'].loc[loc_ind]\n",
        "xedges = np.linspace(-200, 200, 100)\n",
        "yedges = np.linspace(-200, 200, 100)\n",
        "H, xedges, yedges = np.histogram2d(x, y, bins=(xedges, yedges))\n",
        "\n",
        "fig = plt.figure(frameon=False, figsize=(5, 5) )\n",
        "ax = plt.Axes(fig, [0., 0., 1., 1.])\n",
        "ax.set_axis_off()\n",
        "fig.add_axes(ax)\n",
        "X, Y = np.meshgrid(xedges, yedges)\n",
        "ax.pcolormesh(X, Y, H, cmap='gray')\n",
        "plt.scatter(xv, yv, marker='+', s=150) #mean vertex\n",
        "# fig.savefig('data.png', dpi=40) #real figure size = figsize*dpi"
      ],
      "execution_count": 16,
      "outputs": [
        {
          "output_type": "execute_result",
          "data": {
            "text/plain": [
              "<matplotlib.collections.PathCollection at 0x7f1dfa28c2b0>"
            ]
          },
          "metadata": {
            "tags": []
          },
          "execution_count": 16
        },
        {
          "output_type": "display_data",
          "data": {
            "image/png": "[encoded data removed]",
            "text/plain": [
              "<Figure size 360x360 with 1 Axes>"
            ]
          },
          "metadata": {
            "tags": []
          }
        }
      ]
    },
    {
      "cell_type": "markdown",
      "metadata": {
        "id": "bHVVgUfiUC6J",
        "colab_type": "text"
      },
      "source": [
        "## Подходы"
      ]
    },
    {
      "cell_type": "markdown",
      "metadata": {
        "id": "AN2gpg-2UMUv",
        "colab_type": "text"
      },
      "source": [
        "### FitEllipse\n",
        "____\n",
        "фитирование эллипса методом наименьших квадратов\n",
        "\n",
        "дополнительно используется `hit-or-miss` фильтр, чтоб избежать негативного воздействия шумов на фит эллипса"
      ]
    },
    {
      "cell_type": "code",
      "metadata": {
        "id": "vN-_urLLxe-J",
        "colab_type": "code",
        "colab": {}
      },
      "source": [
        "def hit_or_miss_cleaner(img, kernel_size=9):\n",
        "    kernel = (np.zeros((kernel_size,kernel_size))-1).astype('int')\n",
        "    c = (kernel_size-1)//2\n",
        "    kernel[c, c] = 1\n",
        "    dst = cv2.morphologyEx(img, cv2.MORPH_HITMISS, kernel)\n",
        "    dst = cv2.bitwise_not(dst)\n",
        "    dst = cv2.bitwise_and(img, dst)\n",
        "    return dst\n",
        "\n",
        "def ellipse_finder(img, kernel_size):\n",
        "    dst = hit_or_miss_cleaner(img, kernel_size)\n",
        "    nzs= cv2.findNonZero(dst)\n",
        "    try:\n",
        "        ellipse = cv2.fitEllipse(nzs)\n",
        "        ellipse = ( [ellipse[0][0]-len(img)//2, ellipse[0][1]-len(img)//2], [ellipse[1][0]*4, ellipse[1][1]*4], ellipse[2] ) \n",
        "    except:\n",
        "        ellipse = ( [0, 0], [0, 0], 0)\n",
        "    return ellipse, dst\n",
        "\n",
        "def show_picture(ellipse, img, xedges, yedges, ax):\n",
        "    X, Y = np.meshgrid(xedges, yedges)\n",
        "\n",
        "    ax.set_axis_off()\n",
        "    ax.pcolormesh(X, Y, img, cmap='gray')\n",
        "    e = Ellipse(xy=(ellipse[0][0], ellipse[0][1]), width=ellipse[1][0], height=ellipse[1][1],\\\n",
        "                angle=ellipse[2], linewidth=2, fill=False, edgecolor='green', alpha=0.5)\n",
        "    ax.add_artist(e)\n",
        "    return\n",
        "\n",
        "def get_image_from_row(loc_ind, X):\n",
        "    x = X['chip_x'].iloc[loc_ind]\n",
        "    y = X['chip_y'].iloc[loc_ind]\n",
        "    xedges = np.linspace(-200, 200, 100)\n",
        "    yedges = np.linspace(-200, 200, 100)\n",
        "    H, xedges, yedges = np.histogram2d(x, y, bins=(xedges, yedges))\n",
        "    img = (np.where(H>0, 255, 0)).astype(np.uint8)\n",
        "    return (img, xedges, yedges)\n",
        "\n",
        "def full_finder(loc_ind, X, kernel_size=20, return_images=True):\n",
        "    img, xedges, yedges = get_image_from_row(loc_ind, X)\n",
        "    ellipse, dst = ellipse_finder(img, kernel_size)\n",
        "    return (ellipse, [img, dst, xedges, yedges]) if return_images else ellipse"
      ],
      "execution_count": 0,
      "outputs": []
    },
    {
      "cell_type": "markdown",
      "metadata": {
        "id": "lG5s_XvPY0UA",
        "colab_type": "text"
      },
      "source": [
        "#### Пример"
      ]
    },
    {
      "cell_type": "markdown",
      "metadata": {
        "id": "yDYVswpDJaOC",
        "colab_type": "text"
      },
      "source": [
        "Left image: **original**, \n",
        "\n",
        "Right image: **filtered**"
      ]
    },
    {
      "cell_type": "code",
      "metadata": {
        "id": "15vQHZt4gnen",
        "colab_type": "code",
        "outputId": "d6f36cd8-55b0-4e99-e8a1-808701d335ff",
        "colab": {
          "base_uri": "https://localhost:8080/",
          "height": 278
        }
      },
      "source": [
        "index = 52\n",
        "\n",
        "ellipse, imgs = full_finder(index, X_train, 9, return_images=True)\n",
        "fig = plt.figure(frameon=False, figsize=(10, 10) )\n",
        "ax = plt.subplot(221)\n",
        "show_picture(ellipse, imgs[0], imgs[2], imgs[3], ax)\n",
        "ax.scatter(y_train['vertex_x'].iloc[index], y_train['vertex_y'].iloc[index], marker='+', s=150) #mean vertex\n",
        "ax.scatter(ellipse[0][0], ellipse[0][1], marker='x', s=100) #mean vertex\n",
        "ax2 = plt.subplot(222)\n",
        "show_picture(ellipse, imgs[1], imgs[2], imgs[3], ax2)"
      ],
      "execution_count": 18,
      "outputs": [
        {
          "output_type": "display_data",
          "data": {
            "image/png": "[encoded data removed]",
            "text/plain": [
              "<Figure size 720x720 with 2 Axes>"
            ]
          },
          "metadata": {
            "tags": []
          }
        }
      ]
    },
    {
      "cell_type": "markdown",
      "metadata": {
        "id": "VZkwbmseY4K9",
        "colab_type": "text"
      },
      "source": [
        "#### Теперь получу параметры эллипсов и возьму лучшие записи эллипсов для обучения нейросети"
      ]
    },
    {
      "cell_type": "code",
      "metadata": {
        "id": "cScsO1KS4Ls2",
        "colab_type": "code",
        "colab": {}
      },
      "source": [
        "X = X.reset_index(drop=True)\n",
        "y = y.reset_index(drop=True)"
      ],
      "execution_count": 0,
      "outputs": []
    },
    {
      "cell_type": "code",
      "metadata": {
        "id": "S2AuNRAU4_DI",
        "colab_type": "code",
        "colab": {}
      },
      "source": [
        "y_pred = pd.DataFrame( np.array( [ full_finder(i, X, 9, False) for i in range(len(y)) ] ), columns=['cen_pred', 'rad_pred', 'ang_pred'] )\n",
        "y_pred['x_pred'], y_pred['y_pred'] = np.array( y_pred['cen_pred'].tolist() ).T\n",
        "y_pred['radius_pred'] = np.array(y_pred['rad_pred'].tolist()).mean(axis=1)\n",
        "y_pred.drop(['cen_pred', 'rad_pred', 'ang_pred'], axis=1, inplace=True)"
      ],
      "execution_count": 0,
      "outputs": []
    },
    {
      "cell_type": "code",
      "metadata": {
        "id": "wbk3k63l599-",
        "colab_type": "code",
        "colab": {}
      },
      "source": [
        "result_table = pd.concat([y_pred, y], axis=1)"
      ],
      "execution_count": 0,
      "outputs": []
    },
    {
      "cell_type": "code",
      "metadata": {
        "id": "hd1RryC_ak7j",
        "colab_type": "code",
        "outputId": "9cb48f1c-9efd-4dbd-98bc-b5cc40737d6f",
        "colab": {
          "base_uri": "https://localhost:8080/",
          "height": 206
        }
      },
      "source": [
        "result_table.head()"
      ],
      "execution_count": 37,
      "outputs": [
        {
          "output_type": "execute_result",
          "data": {
            "text/html": [
              "<div>\n",
              "<style scoped>\n",
              "    .dataframe tbody tr th:only-of-type {\n",
              "        vertical-align: middle;\n",
              "    }\n",
              "\n",
              "    .dataframe tbody tr th {\n",
              "        vertical-align: top;\n",
              "    }\n",
              "\n",
              "    .dataframe thead th {\n",
              "        text-align: right;\n",
              "    }\n",
              "</style>\n",
              "<table border=\"1\" class=\"dataframe\">\n",
              "  <thead>\n",
              "    <tr style=\"text-align: right;\">\n",
              "      <th></th>\n",
              "      <th>x_pred</th>\n",
              "      <th>y_pred</th>\n",
              "      <th>radius_pred</th>\n",
              "      <th>vertex_x</th>\n",
              "      <th>vertex_y</th>\n",
              "    </tr>\n",
              "  </thead>\n",
              "  <tbody>\n",
              "    <tr>\n",
              "      <th>0</th>\n",
              "      <td>1.554207</td>\n",
              "      <td>-0.718327</td>\n",
              "      <td>112.937634</td>\n",
              "      <td>1.609652</td>\n",
              "      <td>1.125650</td>\n",
              "    </tr>\n",
              "    <tr>\n",
              "      <th>1</th>\n",
              "      <td>0.068363</td>\n",
              "      <td>-0.021889</td>\n",
              "      <td>101.519123</td>\n",
              "      <td>0.241547</td>\n",
              "      <td>0.048154</td>\n",
              "    </tr>\n",
              "    <tr>\n",
              "      <th>2</th>\n",
              "      <td>-0.249451</td>\n",
              "      <td>0.143044</td>\n",
              "      <td>102.022346</td>\n",
              "      <td>1.526540</td>\n",
              "      <td>0.478399</td>\n",
              "    </tr>\n",
              "    <tr>\n",
              "      <th>3</th>\n",
              "      <td>-0.534019</td>\n",
              "      <td>0.300720</td>\n",
              "      <td>100.633137</td>\n",
              "      <td>1.102120</td>\n",
              "      <td>-1.260826</td>\n",
              "    </tr>\n",
              "    <tr>\n",
              "      <th>4</th>\n",
              "      <td>-0.430103</td>\n",
              "      <td>0.026142</td>\n",
              "      <td>100.728416</td>\n",
              "      <td>0.040140</td>\n",
              "      <td>-0.860000</td>\n",
              "    </tr>\n",
              "  </tbody>\n",
              "</table>\n",
              "</div>"
            ],
            "text/plain": [
              "     x_pred    y_pred  radius_pred  vertex_x  vertex_y\n",
              "0  1.554207 -0.718327   112.937634  1.609652  1.125650\n",
              "1  0.068363 -0.021889   101.519123  0.241547  0.048154\n",
              "2 -0.249451  0.143044   102.022346  1.526540  0.478399\n",
              "3 -0.534019  0.300720   100.633137  1.102120 -1.260826\n",
              "4 -0.430103  0.026142   100.728416  0.040140 -0.860000"
            ]
          },
          "metadata": {
            "tags": []
          },
          "execution_count": 37
        }
      ]
    },
    {
      "cell_type": "code",
      "metadata": {
        "id": "TX1o1wuvWU01",
        "colab_type": "code",
        "colab": {}
      },
      "source": [
        "r = result_table\n",
        "r['distance'] = np.sqrt( (r['x_pred']-r['vertex_x'])**2 + (r['y_pred']-r['vertex_y'])**2 )"
      ],
      "execution_count": 0,
      "outputs": []
    },
    {
      "cell_type": "code",
      "metadata": {
        "id": "OWQn-0a3cEhK",
        "colab_type": "code",
        "outputId": "bd2d60c3-c22c-4c0b-8f78-18fa5fe0531b",
        "colab": {
          "base_uri": "https://localhost:8080/",
          "height": 265
        }
      },
      "source": [
        "plt.style.use('dark_background')\n",
        "plt.hist(r.distance, histtype='step', bins=100, range=(0, 80), lw=2);\n",
        "plt.grid(linestyle='--')\n",
        "plt.yscale('log')"
      ],
      "execution_count": 39,
      "outputs": [
        {
          "output_type": "display_data",
          "data": {
            "image/png": "[encoded data removed]",
            "text/plain": [
              "<Figure size 432x288 with 1 Axes>"
            ]
          },
          "metadata": {
            "tags": []
          }
        }
      ]
    },
    {
      "cell_type": "markdown",
      "metadata": {
        "id": "yGOjBCXIdteT",
        "colab_type": "text"
      },
      "source": [
        "**Результат**"
      ]
    },
    {
      "cell_type": "code",
      "metadata": {
        "id": "uVskrdgdazPz",
        "colab_type": "code",
        "colab": {}
      },
      "source": [
        "y_new = r.query('distance<3')[['vertex_x', 'vertex_y', 'radius_pred']].copy()\n",
        "X_new = X.loc[y_new.index].copy()"
      ],
      "execution_count": 0,
      "outputs": []
    },
    {
      "cell_type": "markdown",
      "metadata": {
        "id": "dhYY7aOtbigR",
        "colab_type": "text"
      },
      "source": [
        "Теперь этап написания нейронной сети\n",
        "\n",
        "По аналогии с [примером](https://pytorch.org/tutorials/beginner/blitz/neural_networks_tutorial.html#sphx-glr-beginner-blitz-neural-networks-tutorial-py)"
      ]
    },
    {
      "cell_type": "code",
      "metadata": {
        "id": "LcL0G45Wu-1z",
        "colab_type": "code",
        "colab": {}
      },
      "source": [
        "import torch\n",
        "import torch.nn as nn\n",
        "import torch.nn.functional as F\n",
        "from torch.autograd import Variable"
      ],
      "execution_count": 0,
      "outputs": []
    },
    {
      "cell_type": "code",
      "metadata": {
        "id": "g6nN0Zv20hv8",
        "colab_type": "code",
        "outputId": "30eca648-2bda-4121-a98b-f19755381008",
        "colab": {
          "base_uri": "https://localhost:8080/",
          "height": 128
        }
      },
      "source": [
        "class Net(nn.Module):\n",
        "\n",
        "    def __init__(self):\n",
        "        super(Net, self).__init__()\n",
        "        #kernel\n",
        "        self.conv1 = nn.Conv2d(1, 6, 3)\n",
        "        self.conv2 = nn.Conv2d(6, 16, 3)\n",
        "\n",
        "        self.fc1 = nn.Linear( 16 * 6 * 6, 120)\n",
        "        # self.fc2 = nn.Linear( 120, 84)\n",
        "        self.fc3 = nn.Linear( 120, 3)\n",
        "\n",
        "    def forward(self, x):\n",
        "        x = F.max_pool2d(F.relu(self.conv1(x)), (2,2))\n",
        "        x = F.max_pool2d(F.relu(self.conv2(x)), 2)\n",
        "        x = x.view(-1, self.num_flat_features(x))\n",
        "        x = F.relu(self.fc1(x))\n",
        "        # x = F.relu(self.fc2(x))\n",
        "        x = self.fc3(x)\n",
        "        return x\n",
        "    \n",
        "    def num_flat_features(self, x):\n",
        "        size = x.size()[1:]\n",
        "        num_features = 1\n",
        "        for s in size:\n",
        "            num_features *= s\n",
        "        return num_features\n",
        "\n",
        "\n",
        "net = Net()\n",
        "print(net)"
      ],
      "execution_count": 140,
      "outputs": [
        {
          "output_type": "stream",
          "text": [
            "Net(\n",
            "  (conv1): Conv2d(1, 6, kernel_size=(3, 3), stride=(1, 1))\n",
            "  (conv2): Conv2d(6, 16, kernel_size=(3, 3), stride=(1, 1))\n",
            "  (fc1): Linear(in_features=576, out_features=120, bias=True)\n",
            "  (fc3): Linear(in_features=120, out_features=3, bias=True)\n",
            ")\n"
          ],
          "name": "stdout"
        }
      ]
    },
    {
      "cell_type": "code",
      "metadata": {
        "id": "kU5oLJoE7k2L",
        "colab_type": "code",
        "outputId": "29866203-055e-4c15-b605-9ac835c86e4a",
        "colab": {
          "base_uri": "https://localhost:8080/",
          "height": 54
        }
      },
      "source": [
        "params = list(net.parameters())\n",
        "print(len(params))\n",
        "print(params[0].size())"
      ],
      "execution_count": 141,
      "outputs": [
        {
          "output_type": "stream",
          "text": [
            "8\n",
            "torch.Size([6, 1, 3, 3])\n"
          ],
          "name": "stdout"
        }
      ]
    },
    {
      "cell_type": "code",
      "metadata": {
        "id": "2wCSAjJP7wbP",
        "colab_type": "code",
        "colab": {}
      },
      "source": [
        "hists = []\n",
        "for x,y in zip(X_new.chip_x.values, X_new.chip_y.values):\n",
        "    h, _, _ = np.histogram2d(x,y, bins=np.linspace(-100, 100, 33))\n",
        "    hists.append( [h] ) #np.ravel(h) )\n",
        "X_hists = np.array(hists)"
      ],
      "execution_count": 0,
      "outputs": []
    },
    {
      "cell_type": "code",
      "metadata": {
        "id": "dN5vmMhn_cZr",
        "colab_type": "code",
        "colab": {}
      },
      "source": [
        "from sklearn.model_selection import train_test_split\n",
        "X_train, X_test, y_train, y_test = train_test_split(X_hists, y_new, random_state=42)"
      ],
      "execution_count": 0,
      "outputs": []
    },
    {
      "cell_type": "code",
      "metadata": {
        "id": "Bu4OI7WAxNbs",
        "colab_type": "code",
        "colab": {}
      },
      "source": [
        "input = torch.Tensor(X_train)"
      ],
      "execution_count": 0,
      "outputs": []
    },
    {
      "cell_type": "code",
      "metadata": {
        "id": "itTlVIJEYc0I",
        "colab_type": "code",
        "outputId": "585e6888-4b32-4785-988b-a3967dd14637",
        "colab": {
          "base_uri": "https://localhost:8080/",
          "height": 128
        }
      },
      "source": [
        "# defining the model\n",
        "model = net\n",
        "# defining the optimizer\n",
        "optimizer = torch.optim.Adam(model.parameters(), lr=0.3)\n",
        "# defining the loss function\n",
        "criterion = nn.MSELoss()\n",
        "# checking if GPU is available\n",
        "if torch.cuda.is_available():\n",
        "    model = model.cuda()\n",
        "    criterion = criterion.cuda()\n",
        "    \n",
        "print(model)"
      ],
      "execution_count": 190,
      "outputs": [
        {
          "output_type": "stream",
          "text": [
            "Net(\n",
            "  (conv1): Conv2d(1, 6, kernel_size=(3, 3), stride=(1, 1))\n",
            "  (conv2): Conv2d(6, 16, kernel_size=(3, 3), stride=(1, 1))\n",
            "  (fc1): Linear(in_features=576, out_features=120, bias=True)\n",
            "  (fc3): Linear(in_features=120, out_features=3, bias=True)\n",
            ")\n"
          ],
          "name": "stdout"
        }
      ]
    },
    {
      "cell_type": "code",
      "metadata": {
        "id": "8Lx-SlTGYdQK",
        "colab_type": "code",
        "colab": {}
      },
      "source": [
        "def train(epoch):\n",
        "    model.train()\n",
        "    tr_loss = 0\n",
        "    # getting the training set\n",
        "    x_tr, y_tr = Variable(torch.Tensor(X_train)), Variable( torch.Tensor( y_train[['radius_pred', 'vertex_x', 'vertex_y']].values ) )\n",
        "    # getting the validation set\n",
        "    x_val, y_val = Variable(torch.Tensor(X_test[:100])), Variable( torch.Tensor( y_test[['radius_pred', 'vertex_x', 'vertex_y']].values[:100] ) )\n",
        "    # converting the data into GPU format\n",
        "    if torch.cuda.is_available():\n",
        "        x_tr = x_tr.cuda()\n",
        "        y_tr = y_tr.cuda()\n",
        "        x_val = x_val.cuda()\n",
        "        y_val = y_val.cuda()\n",
        "\n",
        "    # clearing the Gradients of the model parameters\n",
        "    optimizer.zero_grad()\n",
        "    \n",
        "    # prediction for training and validation set\n",
        "    output_train = model(x_tr)\n",
        "    output_val = model(x_val)\n",
        "\n",
        "    # computing the training and validation loss\n",
        "    loss_train = criterion(output_train, y_tr)\n",
        "    loss_val = criterion(output_val, y_val)\n",
        "    train_losses.append(loss_train)\n",
        "    val_losses.append(loss_val)\n",
        "\n",
        "    # computing the updated weights of all the model parameters\n",
        "    loss_train.backward()\n",
        "    optimizer.step()\n",
        "    tr_loss = loss_train.item()\n",
        "    if epoch%2 == 0:\n",
        "        # printing the validation loss\n",
        "        print('Epoch : ',epoch+1, '\\t', 'loss :', loss_train.cpu().detach().numpy(), '| Val loss :', loss_val.cpu().detach().numpy())"
      ],
      "execution_count": 0,
      "outputs": []
    },
    {
      "cell_type": "code",
      "metadata": {
        "id": "TY_KvglRYyrJ",
        "colab_type": "code",
        "outputId": "9fe3efc5-e670-499f-ff00-b15e66881bc4",
        "colab": {
          "base_uri": "https://localhost:8080/",
          "height": 110
        }
      },
      "source": [
        "# defining the number of epochs\n",
        "n_epochs = 100\n",
        "# empty list to store training losses\n",
        "train_losses = []\n",
        "# empty list to store validation losses\n",
        "val_losses = []\n",
        "# training the model\n",
        "for epoch in range(n_epochs):\n",
        "    train(epoch)"
      ],
      "execution_count": 234,
      "outputs": [
        {
          "output_type": "stream",
          "text": [
            "Epoch :  1 \t loss : 41.94025 | Val loss : 135.38359\n",
            "Epoch :  3 \t loss : 41.747154 | Val loss : 135.38333\n",
            "Epoch :  5 \t loss : 41.563217 | Val loss : 135.388\n",
            "Epoch :  7 \t loss : 41.38805 | Val loss : 135.39726\n",
            "Epoch :  9 \t loss : 41.221275 | Val loss : 135.41084\n"
          ],
          "name": "stdout"
        }
      ]
    },
    {
      "cell_type": "code",
      "metadata": {
        "id": "5Cdgi5JLYdFv",
        "colab_type": "code",
        "colab": {
          "base_uri": "https://localhost:8080/",
          "height": 284
        },
        "outputId": "8432f19b-2e1c-4c7e-8762-32d0dc568ed5"
      },
      "source": [
        "plt.plot(train_losses)\n",
        "plt.plot(val_losses)"
      ],
      "execution_count": 235,
      "outputs": [
        {
          "output_type": "execute_result",
          "data": {
            "text/plain": [
              "[<matplotlib.lines.Line2D at 0x7f1da21d9668>]"
            ]
          },
          "metadata": {
            "tags": []
          },
          "execution_count": 235
        },
        {
          "output_type": "display_data",
          "data": {
            "image/png": "[encoded data removed]",
            "text/plain": [
              "<Figure size 432x288 with 1 Axes>"
            ]
          },
          "metadata": {
            "tags": []
          }
        }
      ]
    },
    {
      "cell_type": "code",
      "metadata": {
        "id": "NVzNVdzkGOfu",
        "colab_type": "code",
        "colab": {}
      },
      "source": [
        "nn_result = model(torch.Tensor(X_test).cuda()).cpu().data.numpy()"
      ],
      "execution_count": 0,
      "outputs": []
    },
    {
      "cell_type": "code",
      "metadata": {
        "id": "EGmUdi7BIQDn",
        "colab_type": "code",
        "colab": {}
      },
      "source": [
        "_, X_test, _, y_test = train_test_split(X_new, y_new, random_state=42)\n",
        "X_test = X_test.reset_index(drop=True)\n",
        "y_test = y_test.reset_index(drop=True)"
      ],
      "execution_count": 0,
      "outputs": []
    },
    {
      "cell_type": "code",
      "metadata": {
        "id": "ceHiOobYG2Q0",
        "colab_type": "code",
        "colab": {}
      },
      "source": [
        "y_pred = pd.DataFrame(nn_result, columns=['rad_pred', 'x_pred', 'y_pred'])"
      ],
      "execution_count": 0,
      "outputs": []
    },
    {
      "cell_type": "code",
      "metadata": {
        "id": "DyA9ExlNHreU",
        "colab_type": "code",
        "colab": {}
      },
      "source": [
        "result = pd.concat([X_test, y_test, y_pred], axis=1)"
      ],
      "execution_count": 0,
      "outputs": []
    },
    {
      "cell_type": "code",
      "metadata": {
        "id": "ULBpM8DiHsfJ",
        "colab_type": "code",
        "colab": {}
      },
      "source": [
        "loc_ind = 15940 # 21\n",
        "x = data['chip_x'].loc[loc_ind]\n",
        "y = data['chip_y'].loc[loc_ind]\n",
        "xv = data['vertex_x'].loc[loc_ind]\n",
        "yv = data['vertex_y'].loc[loc_ind]\n",
        "xedges = np.linspace(-200, 200, 100)\n",
        "yedges = np.linspace(-200, 200, 100)\n",
        "H, xedges, yedges = np.histogram2d(x, y, bins=(xedges, yedges))\n",
        "\n",
        "fig = plt.figure(frameon=False, figsize=(5, 5) )\n",
        "ax = plt.Axes(fig, [0., 0., 1., 1.])\n",
        "ax.set_axis_off()\n",
        "fig.add_axes(ax)\n",
        "X, Y = np.meshgrid(xedges, yedges)\n",
        "ax.pcolormesh(X, Y, H, cmap='gray')\n",
        "plt.scatter(xv, yv, marker='+', s=150) #mean vertex\n",
        "# fig.savefig('data.png', dpi=40) #real figure size = figsize*dpi"
      ],
      "execution_count": 0,
      "outputs": []
    }
  ]
}