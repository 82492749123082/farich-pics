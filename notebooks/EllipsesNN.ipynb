{
  "nbformat": 4,
  "nbformat_minor": 0,
  "metadata": {
    "accelerator": "GPU",
    "colab": {
      "name": "CirclesNN.ipynb",
      "provenance": [],
      "collapsed_sections": []
    },
    "kernelspec": {
      "display_name": "Python 3",
      "language": "python",
      "name": "python3"
    },
    "language_info": {
      "codemirror_mode": {
        "name": "ipython",
        "version": 3
      },
      "file_extension": ".py",
      "mimetype": "text/x-python",
      "name": "python",
      "nbconvert_exporter": "python",
      "pygments_lexer": "ipython3",
      "version": "3.7.7"
    }
  },
  "cells": [
    {
      "cell_type": "markdown",
      "metadata": {
        "colab_type": "text",
        "id": "htk1RwcvAkcZ"
      },
      "source": [
        "## Easy run on colab\n",
        "Open this notebook in colab (dev-branch) [![Quick run in Colab (dev-ветка)](https://colab.research.google.com/assets/colab-badge.svg)](https://colab.research.google.com/github/82492749123082/farich-pics/blob/dev/notebooks/CirclesNN.ipynb) \n",
        "\n",
        "[by this discussion](https://gist.github.com/iamtekeste/3cdfd0366ebfd2c0d805)"
      ]
    },
    {
      "cell_type": "code",
      "metadata": {
        "colab_type": "code",
        "id": "_y9b4P4n5Z3J",
        "outputId": "3dd42e45-a75e-4ba8-8b62-2d613e6cf0b1",
        "colab": {
          "base_uri": "https://localhost:8080/",
          "height": 158
        }
      },
      "source": [
        "!git clone https://github.com/82492749123082/farich-pics.git -b dev_nikitap #clone dev-branch\n",
        "%cd farich-pics\n",
        "!pip install gdown -q #install package"
      ],
      "execution_count": 1,
      "outputs": [
        {
          "output_type": "stream",
          "text": [
            "Cloning into 'farich-pics'...\n",
            "remote: Enumerating objects: 94, done.\u001b[K\n",
            "remote: Counting objects: 100% (94/94), done.\u001b[K\n",
            "remote: Compressing objects: 100% (82/82), done.\u001b[K\n",
            "remote: Total 383 (delta 24), reused 78 (delta 12), pack-reused 289\u001b[K\n",
            "Receiving objects: 100% (383/383), 4.33 MiB | 3.81 MiB/s, done.\n",
            "Resolving deltas: 100% (157/157), done.\n",
            "/content/farich-pics\n"
          ],
          "name": "stdout"
        }
      ]
    },
    {
      "cell_type": "code",
      "metadata": {
        "colab_type": "code",
        "id": "YEa1x2OX5uAb",
        "colab": {}
      },
      "source": [
        "url_dataset, dataset_path = \"1V1r0P1QMRpoYhI1tKcGnWXEjdutjXcIV\", \"dataset.pkl\" #many circles dataset\n",
        "# url_dataset, dataset_path = \"1_Fm3mRAlioL3sCO0Gm9elb7fVa-KugkO\", \"dataset.pkl\" #one circle dataset\n",
        "url_nn, path_nn = \"1gQtXr_WBY54sFpwNK-XLISqGiPMyzVvj\", \"nn.pth\""
      ],
      "execution_count": 0,
      "outputs": []
    },
    {
      "cell_type": "code",
      "metadata": {
        "colab_type": "code",
        "id": "fsicLiM8GTts",
        "outputId": "20433e69-400d-4d2f-d885-88c8a92a22c3",
        "colab": {
          "base_uri": "https://localhost:8080/",
          "height": 87
        }
      },
      "source": [
        "# !gdown --id $url_dataset -O $dataset_path\n",
        "!gdown --id $url_nn -O $path_nn"
      ],
      "execution_count": 3,
      "outputs": [
        {
          "output_type": "stream",
          "text": [
            "Downloading...\n",
            "From: https://drive.google.com/uc?id=1gQtXr_WBY54sFpwNK-XLISqGiPMyzVvj\n",
            "To: /content/farich-pics/nn.pth\n",
            "176MB [00:03, 45.5MB/s]\n"
          ],
          "name": "stdout"
        }
      ]
    },
    {
      "cell_type": "markdown",
      "metadata": {
        "colab_type": "text",
        "id": "5Sd4jlGp2eLm"
      },
      "source": [
        "## Defining the Dataset\n",
        "\n"
      ]
    },
    {
      "cell_type": "markdown",
      "metadata": {
        "colab_type": "text",
        "id": "GfJL7i6fLRd5"
      },
      "source": [
        "We have prepared dataset with `farich.DataPreprocessing`\n",
        "\n",
        "Let's see on that"
      ]
    },
    {
      "cell_type": "code",
      "metadata": {
        "id": "7qCoR3YRqQvZ",
        "colab_type": "code",
        "colab": {
          "base_uri": "https://localhost:8080/",
          "height": 52
        },
        "outputId": "db80b8f3-27bf-4ddf-8e6a-e0ef653be483"
      },
      "source": [
        "!pip install uproot -q"
      ],
      "execution_count": 4,
      "outputs": [
        {
          "output_type": "stream",
          "text": [
            "\u001b[?25l\r\u001b[K     |██▉                             | 10kB 23.7MB/s eta 0:00:01\r\u001b[K     |█████▊                          | 20kB 1.8MB/s eta 0:00:01\r\u001b[K     |████████▋                       | 30kB 2.3MB/s eta 0:00:01\r\u001b[K     |███████████▌                    | 40kB 2.6MB/s eta 0:00:01\r\u001b[K     |██████████████▎                 | 51kB 2.0MB/s eta 0:00:01\r\u001b[K     |█████████████████▏              | 61kB 2.3MB/s eta 0:00:01\r\u001b[K     |████████████████████            | 71kB 2.5MB/s eta 0:00:01\r\u001b[K     |███████████████████████         | 81kB 2.7MB/s eta 0:00:01\r\u001b[K     |█████████████████████████▊      | 92kB 3.0MB/s eta 0:00:01\r\u001b[K     |████████████████████████████▋   | 102kB 2.8MB/s eta 0:00:01\r\u001b[K     |███████████████████████████████▌| 112kB 2.8MB/s eta 0:00:01\r\u001b[K     |████████████████████████████████| 122kB 2.8MB/s \n",
            "\u001b[?25h\u001b[?25l\r\u001b[K     |███▊                            | 10kB 24.6MB/s eta 0:00:01\r\u001b[K     |███████▌                        | 20kB 19.7MB/s eta 0:00:01\r\u001b[K     |███████████▏                    | 30kB 14.5MB/s eta 0:00:01\r\u001b[K     |███████████████                 | 40kB 13.3MB/s eta 0:00:01\r\u001b[K     |██████████████████▊             | 51kB 10.4MB/s eta 0:00:01\r\u001b[K     |██████████████████████▍         | 61kB 10.5MB/s eta 0:00:01\r\u001b[K     |██████████████████████████▏     | 71kB 10.5MB/s eta 0:00:01\r\u001b[K     |██████████████████████████████  | 81kB 10.5MB/s eta 0:00:01\r\u001b[K     |████████████████████████████████| 92kB 6.1MB/s \n",
            "\u001b[?25h"
          ],
          "name": "stdout"
        }
      ]
    },
    {
      "cell_type": "code",
      "metadata": {
        "id": "lHbr2UrEqVgo",
        "colab_type": "code",
        "colab": {
          "base_uri": "https://localhost:8080/",
          "height": 52
        },
        "outputId": "d6a37483-f9b3-40a0-ceb5-aaa030984d47"
      },
      "source": [
        "from farichlib.DataPreprocessing import DataPreprocessing\n",
        "import pickle\n",
        "\n",
        "dp = DataPreprocessing(True)\n",
        "H, y, masks = dp.generate_boards_randnum(100, 3, 1000)\n",
        "with open(dataset_path, \"wb\") as f:\n",
        "    pickle.dump((H, y, masks), f)"
      ],
      "execution_count": 34,
      "outputs": [
        {
          "output_type": "stream",
          "text": [
            "Generate toy boards\n",
            "dss\n"
          ],
          "name": "stdout"
        }
      ]
    },
    {
      "cell_type": "code",
      "metadata": {
        "colab_type": "code",
        "id": "Ekj-1Vo7K84P",
        "colab": {}
      },
      "source": [
        "import pickle\n",
        "\n",
        "with open(dataset_path, \"rb\") as f:\n",
        "    H_res, h_res, mask_res = pickle.load(f)"
      ],
      "execution_count": 0,
      "outputs": []
    },
    {
      "cell_type": "code",
      "metadata": {
        "colab_type": "code",
        "id": "zbXfYWVVK87f",
        "colab": {}
      },
      "source": [
        "import matplotlib.pyplot as plt\n",
        "import pandas as pd\n",
        "import numpy as np\n",
        "from matplotlib.patches import Ellipse, Circle, Rectangle\n",
        "\n",
        "%matplotlib inline"
      ],
      "execution_count": 0,
      "outputs": []
    },
    {
      "cell_type": "code",
      "metadata": {
        "id": "cmIVIQAirC83",
        "colab_type": "code",
        "colab": {
          "base_uri": "https://localhost:8080/",
          "height": 52
        },
        "outputId": "3ecb4c87-a065-4d5f-d7ec-98b6cd33e744"
      },
      "source": [
        "%load_ext autoreload\n",
        "%autoreload 2"
      ],
      "execution_count": 37,
      "outputs": [
        {
          "output_type": "stream",
          "text": [
            "The autoreload extension is already loaded. To reload it, use:\n",
            "  %reload_ext autoreload\n"
          ],
          "name": "stdout"
        }
      ]
    },
    {
      "cell_type": "code",
      "metadata": {
        "colab_type": "code",
        "id": "yNjMU2IUHJTe",
        "outputId": "725c3a5f-9233-40b9-a294-5df49a788fc0",
        "colab": {
          "base_uri": "https://localhost:8080/",
          "height": 412
        }
      },
      "source": [
        "# loc_ind = 233\n",
        "loc_ind +=1\n",
        "\n",
        "coords = h_res[loc_ind]\n",
        "H = H_res[loc_ind].toarray()\n",
        "\n",
        "fig = plt.figure(frameon=False, figsize=(5,5))\n",
        "ax = plt.Axes(fig, [0., 0., 1., (H.shape[1]/H.shape[0])])\n",
        "fig.add_axes(ax)\n",
        "\n",
        "xedges = np.linspace(0, H.shape[0], H.shape[0])\n",
        "yedges = np.linspace(0, H.shape[1], H.shape[1])\n",
        "Xg, Yg = np.meshgrid(xedges, yedges)\n",
        "ax.pcolormesh(Xg, Yg, H, cmap='gray')\n",
        "\n",
        "for m in mask_res[loc_ind]:\n",
        "    ax.pcolormesh(Xg, Yg, m.toarray(), cmap='gray', alpha=0.1)\n",
        "\n",
        "# print(coords)\n",
        "for x,y,r,a,b in coords:\n",
        "    e = Ellipse((x,y), 2*r, 2*a, b*180/np.pi, linewidth=2, fill=False, edgecolor='green', alpha=0.5)\n",
        "    # e = Circle(xy=(x, y), radius=r, linewidth=2, fill=False, edgecolor='green', alpha=0.5)\n",
        "    ax.add_artist(e)\n",
        "    plt.scatter(x, y, marker='+', s=150)"
      ],
      "execution_count": 48,
      "outputs": [
        {
          "output_type": "display_data",
          "data": {
            "image/png": "[encoded data removed]",
            "text/plain": [
              "<Figure size 360x360 with 1 Axes>"
            ]
          },
          "metadata": {
            "tags": [],
            "needs_background": "light"
          }
        }
      ]
    },
    {
      "cell_type": "markdown",
      "metadata": {
        "colab_type": "text",
        "id": "XL7pFjg3qff3"
      },
      "source": [
        "Prepare dataset with `farichlib.Dataset` to pytorch style"
      ]
    },
    {
      "cell_type": "code",
      "metadata": {
        "colab_type": "code",
        "id": "_oM5Pa1ZNroU",
        "colab": {}
      },
      "source": [
        "import torch\n",
        "from farichlib.Dataset import Dataset"
      ],
      "execution_count": 0,
      "outputs": []
    },
    {
      "cell_type": "code",
      "metadata": {
        "colab_type": "code",
        "id": "p2uu7LlvPnr3",
        "colab": {
          "base_uri": "https://localhost:8080/",
          "height": 52
        },
        "outputId": "bc7b862b-4ddb-4168-8ad4-9c313cead7dd"
      },
      "source": [
        "data = Dataset(noise_level=0.1) #add noise to data\n",
        "data.load(dataset_path)"
      ],
      "execution_count": 50,
      "outputs": [
        {
          "output_type": "stream",
          "text": [
            "torch.Size([1000, 100, 100])\n",
            "torch.Size([1000, 100, 100])\n"
          ],
          "name": "stdout"
        }
      ]
    },
    {
      "cell_type": "code",
      "metadata": {
        "colab_type": "code",
        "id": "PcCyNms_lR4F",
        "outputId": "472aa479-932e-4f36-ba81-d2cb8f9153a5",
        "colab": {
          "base_uri": "https://localhost:8080/",
          "height": 492
        }
      },
      "source": [
        "data[0] #check"
      ],
      "execution_count": 51,
      "outputs": [
        {
          "output_type": "execute_result",
          "data": {
            "text/plain": [
              "(tensor([[[0., 0., 0.,  ..., 0., 0., 0.],\n",
              "          [0., 0., 0.,  ..., 0., 0., 0.],\n",
              "          [0., 0., 0.,  ..., 0., 0., 0.],\n",
              "          ...,\n",
              "          [0., 0., 0.,  ..., 0., 0., 0.],\n",
              "          [0., 0., 0.,  ..., 0., 0., 0.],\n",
              "          [0., 0., 0.,  ..., 0., 0., 0.]]]),\n",
              " {'area': tensor([248.5772, 412.2679]),\n",
              "  'boxes': tensor([[30.5634, 13.3451, 43.4366, 32.6549],\n",
              "          [60.6877, 21.2578, 87.3123, 36.7422]]),\n",
              "  'image_id': tensor([0]),\n",
              "  'labels': tensor([1, 1]),\n",
              "  'masks': tensor([[[0., 0., 0.,  ..., 0., 0., 0.],\n",
              "           [0., 0., 0.,  ..., 0., 0., 0.],\n",
              "           [0., 0., 0.,  ..., 0., 0., 0.],\n",
              "           ...,\n",
              "           [0., 0., 0.,  ..., 0., 0., 0.],\n",
              "           [0., 0., 0.,  ..., 0., 0., 0.],\n",
              "           [0., 0., 0.,  ..., 0., 0., 0.]],\n",
              "  \n",
              "          [[0., 0., 0.,  ..., 0., 0., 0.],\n",
              "           [0., 0., 0.,  ..., 0., 0., 0.],\n",
              "           [0., 0., 0.,  ..., 0., 0., 0.],\n",
              "           ...,\n",
              "           [0., 0., 0.,  ..., 0., 0., 0.],\n",
              "           [0., 0., 0.,  ..., 0., 0., 0.],\n",
              "           [0., 0., 0.,  ..., 0., 0., 0.]]])})"
            ]
          },
          "metadata": {
            "tags": []
          },
          "execution_count": 51
        }
      ]
    },
    {
      "cell_type": "markdown",
      "metadata": {
        "colab_type": "text",
        "id": "RoAEkUgn4uEq"
      },
      "source": [
        "## Defining the model\n",
        "\n",
        "Upload pretrained model"
      ]
    },
    {
      "cell_type": "code",
      "metadata": {
        "colab_type": "code",
        "id": "2wz3YSkulVFh",
        "colab": {}
      },
      "source": [
        "import torchvision\n",
        "import math\n",
        "import random\n",
        "from torchvision.models.detection.faster_rcnn import FastRCNNPredictor\n",
        "from torchvision.models.detection.mask_rcnn import MaskRCNNPredictor\n",
        "\n",
        "def get_model(load_trained=None):\n",
        "    if load_trained is None:\n",
        "        num_classes = 2\n",
        "        model = torchvision.models.detection.maskrcnn_resnet50_fpn(pretrained=True)\n",
        "        in_features = model.roi_heads.box_predictor.cls_score.in_features\n",
        "        model.roi_heads.box_predictor = FastRCNNPredictor(in_features, num_classes)\n",
        "        in_features_mask = model.roi_heads.mask_predictor.conv5_mask.in_channels\n",
        "        hidden_layer = 256\n",
        "        model.roi_heads.mask_predictor = MaskRCNNPredictor(in_features_mask, hidden_layer, num_classes)\n",
        "        return model\n",
        "    return torch.load(load_trained)"
      ],
      "execution_count": 0,
      "outputs": []
    },
    {
      "cell_type": "code",
      "metadata": {
        "colab_type": "code",
        "id": "v7zfKrS1wHYU",
        "colab": {}
      },
      "source": [
        "model = get_model(path_nn) #use pretrained model on noiseless data"
      ],
      "execution_count": 0,
      "outputs": []
    },
    {
      "cell_type": "markdown",
      "metadata": {
        "colab_type": "text",
        "id": "-WXLwePV5ieP"
      },
      "source": [
        "That's it, this will make model be ready to be trained and evaluated on our custom dataset.\n",
        "\n",
        "## Training and evaluation functions\n"
      ]
    },
    {
      "cell_type": "code",
      "metadata": {
        "colab_type": "code",
        "id": "X1OP2xOumDIa",
        "colab": {}
      },
      "source": [
        "from farichlib import utils"
      ],
      "execution_count": 0,
      "outputs": []
    },
    {
      "cell_type": "code",
      "metadata": {
        "colab_type": "code",
        "id": "ylN0IAYJybNf",
        "colab": {}
      },
      "source": [
        "def train_one_epoch(model, optimizer, data_loader, device, epoch, print_freq):\n",
        "    model.train(mode=True)\n",
        "    metric_logger = utils.MetricLogger(delimiter=\"  \")\n",
        "    metric_logger.add_meter('lr', utils.SmoothedValue(window_size=1, fmt='{value:.6f}'))\n",
        "    header = 'Epoch: [{}]'.format(epoch)\n",
        "\n",
        "    lr_scheduler = None\n",
        "    if epoch == 0:\n",
        "        warmup_factor = 1. / 1000\n",
        "        warmup_iters = min(1000, len(data_loader) - 1)\n",
        "\n",
        "        lr_scheduler = utils.warmup_lr_scheduler(optimizer, warmup_iters, warmup_factor)\n",
        "\n",
        "    for images, targets in metric_logger.log_every(data_loader, print_freq, header):\n",
        "        images = list(image.to(device) for image in images)\n",
        "        targets = [{k: v.to(device) for k, v in t.items()} for t in targets]\n",
        "\n",
        "        loss_dict = model(images, targets)\n",
        "\n",
        "        losses = sum(loss for loss in loss_dict.values())\n",
        "\n",
        "        # reduce losses over all GPUs for logging purposes\n",
        "        loss_dict_reduced = utils.reduce_dict(loss_dict)\n",
        "        losses_reduced = sum(loss for loss in loss_dict_reduced.values())\n",
        "\n",
        "        loss_value = losses_reduced.item()\n",
        "\n",
        "        if not math.isfinite(loss_value):\n",
        "            print(\"Loss is {}, stopping training\".format(loss_value))\n",
        "            print(loss_dict_reduced)\n",
        "            sys.exit(1)\n",
        "\n",
        "        optimizer.zero_grad()\n",
        "        losses.backward()\n",
        "        optimizer.step()\n",
        "\n",
        "        if lr_scheduler is not None:\n",
        "            lr_scheduler.step()\n",
        "\n",
        "        metric_logger.update(loss=losses_reduced, **loss_dict_reduced)\n",
        "        metric_logger.update(lr=optimizer.param_groups[0][\"lr\"])"
      ],
      "execution_count": 0,
      "outputs": []
    },
    {
      "cell_type": "markdown",
      "metadata": {
        "colab_type": "text",
        "id": "3YFJGJxk6XEs"
      },
      "source": [
        "### Putting everything together\n",
        "\n",
        "We now have the dataset class, the models and the data transforms. Let's instantiate them"
      ]
    },
    {
      "cell_type": "code",
      "metadata": {
        "colab_type": "code",
        "id": "htZ2uxdnVpv9",
        "colab": {}
      },
      "source": [
        "# split the dataset in train and test set\n",
        "torch.manual_seed(1)\n",
        "indices = torch.randperm(len(data)).tolist()\n",
        "dataset = torch.utils.data.Subset(data, indices[:500]) #yes, only 500 images in train set | but it's enough\n",
        "dataset_test = torch.utils.data.Subset(data, indices[500:])\n",
        "\n",
        "# define training and validation data loaders\n",
        "data_loader = torch.utils.data.DataLoader(\n",
        "    dataset, batch_size=2, shuffle=True, num_workers=4,\n",
        "    collate_fn=utils.collate_fn)\n",
        "\n",
        "data_loader_test = torch.utils.data.DataLoader(\n",
        "    dataset_test, batch_size=1, shuffle=False, num_workers=4,\n",
        "    collate_fn=utils.collate_fn)"
      ],
      "execution_count": 0,
      "outputs": []
    },
    {
      "cell_type": "markdown",
      "metadata": {
        "colab_type": "text",
        "id": "L5yvZUprj4ZN"
      },
      "source": [
        "Now let's instantiate the model and the optimizer"
      ]
    },
    {
      "cell_type": "code",
      "metadata": {
        "colab_type": "code",
        "id": "zoenkCj18C4h",
        "colab": {}
      },
      "source": [
        "device = torch.device('cuda') if torch.cuda.is_available() else torch.device('cpu')\n",
        "\n",
        "# our dataset has two classes only - background and person\n",
        "num_classes = 2\n",
        "\n",
        "# move model to the right device\n",
        "model.to(device)\n",
        "\n",
        "# construct an optimizer\n",
        "params = [p for p in model.parameters() if p.requires_grad]\n",
        "optimizer = torch.optim.SGD(params, lr=0.005,\n",
        "                            momentum=0.9, weight_decay=0.0005)\n",
        "\n",
        "# and a learning rate scheduler which decreases the learning rate by\n",
        "# 10x every 3 epochs\n",
        "lr_scheduler = torch.optim.lr_scheduler.StepLR(optimizer,\n",
        "                                               step_size=3,\n",
        "                                               gamma=0.1)"
      ],
      "execution_count": 0,
      "outputs": []
    },
    {
      "cell_type": "markdown",
      "metadata": {
        "colab_type": "text",
        "id": "XAd56lt4kDxc"
      },
      "source": [
        "And now let's train the model for 1 epochs, (no) evaluating at the end of every epoch."
      ]
    },
    {
      "cell_type": "code",
      "metadata": {
        "colab_type": "code",
        "id": "at-h4OWK0aoc",
        "outputId": "6a528bb9-b46f-4a85-f4b3-9e0eab3c518a",
        "colab": {
          "base_uri": "https://localhost:8080/",
          "height": 54
        }
      },
      "source": [
        "# let's train it for 1 epoch\n",
        "num_epochs = 5\n",
        "\n",
        "for epoch in range(num_epochs):\n",
        "    # train for one epoch, printing every 10 iterations\n",
        "    train_one_epoch(model, optimizer, data_loader, device, epoch+1, print_freq=50)\n",
        "    # update the learning rate\n",
        "    lr_scheduler.step()\n",
        "    # evaluate on the test dataset\n",
        "    #evaluate(model, data_loader_test, device=device)"
      ],
      "execution_count": 0,
      "outputs": [
        {
          "output_type": "stream",
          "text": [
            "Epoch: [1]  [  0/250]  eta: 0:06:25  lr: 0.005000  loss: 0.2907 (0.2907)  loss_classifier: 0.0571 (0.0571)  loss_box_reg: 0.0681 (0.0681)  loss_mask: 0.1554 (0.1554)  loss_objectness: 0.0001 (0.0001)  loss_rpn_box_reg: 0.0100 (0.0100)  time: 1.5412  data: 0.2929  max mem: 2145\n"
          ],
          "name": "stdout"
        }
      ]
    },
    {
      "cell_type": "markdown",
      "metadata": {
        "colab_type": "text",
        "id": "Z6mYGFLxkO8F"
      },
      "source": [
        "Now that training has finished, let's have a look at what it actually predicts in a test image"
      ]
    },
    {
      "cell_type": "markdown",
      "metadata": {
        "colab_type": "text",
        "id": "DmN602iKsuey"
      },
      "source": [
        "Printing the prediction shows that we have a list of dictionaries. Each element of the list corresponds to a different image. As we have a single image, there is a single dictionary in the list.\n",
        "The dictionary contains the predictions for the image we passed. In this case, we can see that it contains `boxes`, `labels`, `masks` and `scores` as fields."
      ]
    },
    {
      "cell_type": "markdown",
      "metadata": {
        "colab_type": "text",
        "id": "RwT21rzotFbH"
      },
      "source": [
        "Let's inspect the image and the predicted segmentation masks."
      ]
    },
    {
      "cell_type": "code",
      "metadata": {
        "colab_type": "code",
        "id": "Z8aHhVEv8M9n",
        "colab": {}
      },
      "source": [
        "from farichlib.utils import iou_score, show_nn_result"
      ],
      "execution_count": 0,
      "outputs": []
    },
    {
      "cell_type": "code",
      "metadata": {
        "colab_type": "code",
        "id": "NaDegU-A8Wjb",
        "outputId": "f91ab109-2b63-413d-9ff3-c273d728a64a",
        "colab": {
          "base_uri": "https://localhost:8080/",
          "height": 595
        }
      },
      "source": [
        "ind = random.randint(0, len(dataset_test)-1)\n",
        "show_nn_result(model, dataset_test[ind], 0.99)"
      ],
      "execution_count": 96,
      "outputs": [
        {
          "output_type": "display_data",
          "data": {
            "image/png": "[encoded data removed]",
            "text/plain": [
              "<Figure size 1500x1500 with 2 Axes>"
            ]
          },
          "metadata": {
            "tags": [],
            "needs_background": "light"
          }
        }
      ]
    },
    {
      "cell_type": "markdown",
      "metadata": {
        "colab_type": "text",
        "id": "BJ7Jt3Wz-vgR"
      },
      "source": [
        "##Save entire model ([guide](https://pytorch.org/tutorials/beginner/saving_loading_models.html))"
      ]
    },
    {
      "cell_type": "code",
      "metadata": {
        "colab_type": "code",
        "id": "KiupVS063Aig",
        "colab": {}
      },
      "source": [
        "# torch.save(model, '/content/drive/Shared drives/ML&HEP/data/CirclesNN_040420.pth')"
      ],
      "execution_count": 0,
      "outputs": []
    },
    {
      "cell_type": "markdown",
      "metadata": {
        "colab_type": "text",
        "id": "mW4gb8QKLUTe"
      },
      "source": [
        "## Some analytics\n",
        "Works only for __one circle__ dataset\n",
        "\n",
        "Объявляю следующие условия:\n",
        "* TP: круг найден с IOU > 0.8\n",
        "* FP: круг найден с IOU < 0.8\n",
        "* FN: круг не найден, но он есть\n",
        "* TN: круга нет и он не найден"
      ]
    },
    {
      "cell_type": "code",
      "metadata": {
        "colab_type": "code",
        "id": "MGCAMWCrVwwT",
        "colab": {}
      },
      "source": [
        "def iou_score2(mask1, masks2):\n",
        "    masks1 = np.broadcast_to(mask1, masks2.shape)\n",
        "    inter = np.logical_and(masks1, masks2).sum(axis=(1,2))\n",
        "    union = np.logical_or(masks1, masks2).sum(axis=(1,2))\n",
        "    return inter/union"
      ],
      "execution_count": 0,
      "outputs": []
    },
    {
      "cell_type": "code",
      "metadata": {
        "colab_type": "code",
        "id": "HJixIrNHU7ce",
        "colab": {}
      },
      "source": [
        "def iou_imgage(index, thresholds=np.linspace(0,1,10)):\n",
        "    img, bbox = data[index+500]\n",
        "    mask1 = bbox['masks'][0].numpy().astype('bool')\n",
        "    model.eval()\n",
        "    prediction = model([img.to(device)])\n",
        "    # print(img.sum())\n",
        "    try:\n",
        "        masks2 = (prediction[0]['masks'][:,0].cpu().detach().numpy() > 0.5).astype('bool')\n",
        "        scores = prediction[0]['scores'].cpu().detach().numpy()\n",
        "    except:\n",
        "        return np.array([[]])\n",
        "    rates = np.vstack( (iou_score2(mask1, masks2), scores ) ).T\n",
        "    return rates"
      ],
      "execution_count": 0,
      "outputs": []
    },
    {
      "cell_type": "code",
      "metadata": {
        "colab_type": "code",
        "id": "LFVn1c-oWUtq",
        "colab": {}
      },
      "source": [
        "n_images = 100\n",
        "iou_thresh = 0.8\n",
        "r = np.concatenate([ iou_imgage(i) for i in range(n_images)])"
      ],
      "execution_count": 0,
      "outputs": []
    },
    {
      "cell_type": "code",
      "metadata": {
        "colab_type": "code",
        "id": "fCiVWZBFdfXS",
        "colab": {}
      },
      "source": [
        "TP_FN = r[r[:,0]>iou_thresh][:,1]\n",
        "FP = r[r[:,0]<iou_thresh][:,1]"
      ],
      "execution_count": 0,
      "outputs": []
    },
    {
      "cell_type": "code",
      "metadata": {
        "colab_type": "code",
        "id": "FQkVZuBRWXQL",
        "colab": {}
      },
      "source": [
        "threshold = np.linspace(0, 0.999, 1000)\n",
        "TP0 = (TP_FN.reshape((-1,1))>threshold).sum(axis=0)\n",
        "FN0 = np.where( n_images - TP0 > 0, n_images - TP0, 0 )\n",
        "FP0 = (FP.reshape((-1,1))>threshold).sum(axis=0)\n",
        "TN0 = np.zeros(threshold.shape, dtype=int)"
      ],
      "execution_count": 0,
      "outputs": []
    },
    {
      "cell_type": "code",
      "metadata": {
        "colab_type": "code",
        "id": "niS4B_EDexuE",
        "colab": {}
      },
      "source": [
        "precision = TP0/(TP0+FP0)\n",
        "recall = TP0/(TP0+FN0)"
      ],
      "execution_count": 0,
      "outputs": []
    },
    {
      "cell_type": "code",
      "metadata": {
        "colab_type": "code",
        "id": "8A3AnxFdgAWn",
        "outputId": "44309798-1ed1-4d2c-e9cc-61540b7616de",
        "colab": {
          "base_uri": "https://localhost:8080/",
          "height": 510
        }
      },
      "source": [
        "plt.figure(dpi=130)\n",
        "plt.plot(threshold, precision, label='Precision')\n",
        "plt.plot(threshold, recall, label='Recall')\n",
        "plt.grid(linestyle='--')\n",
        "plt.xlabel('Predictor score threshold')\n",
        "plt.legend()"
      ],
      "execution_count": 0,
      "outputs": [
        {
          "output_type": "execute_result",
          "data": {
            "text/plain": [
              "<matplotlib.legend.Legend at 0x7f3b278d55c0>"
            ]
          },
          "metadata": {
            "tags": []
          },
          "execution_count": 59
        },
        {
          "output_type": "display_data",
          "data": {
            "image/png": "[encoded data removed]",
            "text/plain": [
              "<Figure size 780x520 with 1 Axes>"
            ]
          },
          "metadata": {
            "tags": []
          }
        }
      ]
    },
    {
      "cell_type": "code",
      "metadata": {
        "colab_type": "code",
        "id": "o98lgh8vgDMx",
        "colab": {}
      },
      "source": [
        ""
      ],
      "execution_count": 0,
      "outputs": []
    }
  ]
}