{
 "cells": [
  {
   "cell_type": "code",
   "execution_count": 174,
   "metadata": {},
   "outputs": [
    {
     "name": "stdout",
     "output_type": "stream",
     "text": [
      "/mnt/s/Keep working hard/projects/python\n"
     ]
    }
   ],
   "source": [
    "import numpy as np\n",
    "import pandas as pd\n",
    "import matplotlib.pyplot as plt\n",
    "from numba import jit, njit, vectorize\n",
    "import torch\n",
    "\n",
    "%matplotlib inline\n",
    "%cd .."
   ]
  },
  {
   "cell_type": "code",
   "execution_count": 2,
   "metadata": {},
   "outputs": [],
   "source": [
    "%load_ext autoreload\n",
    "%autoreload 2"
   ]
  },
  {
   "cell_type": "markdown",
   "metadata": {},
   "source": [
    "### План\n",
    "\n",
    "`def add_ellipse(H, x, y, a, b, angle)`"
   ]
  },
  {
   "cell_type": "code",
   "execution_count": 182,
   "metadata": {},
   "outputs": [],
   "source": [
    "from farichlib.DataPreprocessing import Augmentator"
   ]
  },
  {
   "cell_type": "code",
   "execution_count": 113,
   "metadata": {},
   "outputs": [],
   "source": [
    "from matplotlib.patches import Ellipse"
   ]
  },
  {
   "cell_type": "code",
   "execution_count": 178,
   "metadata": {},
   "outputs": [],
   "source": [
    "H,y = Augmentator.get_boards(100, 5000, 3)"
   ]
  },
  {
   "cell_type": "code",
   "execution_count": 180,
   "metadata": {},
   "outputs": [
    {
     "name": "stdout",
     "output_type": "stream",
     "text": [
      "\u001b[0m\u001b[34;42maugmentations_comptech\u001b[0m/  \u001b[34;42mfarich-pics\u001b[0m/  \u001b[34;42mlectures\u001b[0m/  \u001b[34;42msnake_yaroslav\u001b[0m/     \u001b[34;42mvk\u001b[0m/\r\n",
      "\u001b[34;42mbanks\u001b[0m/                   \u001b[34;42mflask\u001b[0m/        \u001b[34;42mneurohep\u001b[0m/  \u001b[34;42mstepik_algorithms\u001b[0m/\r\n"
     ]
    }
   ],
   "source": [
    "%ls"
   ]
  },
  {
   "cell_type": "code",
   "execution_count": 183,
   "metadata": {},
   "outputs": [],
   "source": [
    "Augmentator.save_data_as_torch(H, y, \"farich-pics/data/ellipses.pkl\")"
   ]
  },
  {
   "cell_type": "code",
   "execution_count": 108,
   "metadata": {},
   "outputs": [],
   "source": [
    "i=0"
   ]
  },
  {
   "cell_type": "code",
   "execution_count": 171,
   "metadata": {},
   "outputs": [
    {
     "data": {
      "image/png": "[encoded data removed]",
      "text/plain": [
       "<Figure size 576x576 with 1 Axes>"
      ]
     },
     "metadata": {
      "needs_background": "light"
     },
     "output_type": "display_data"
    }
   ],
   "source": [
    "i+=1\n",
    "H0 = H[i]\n",
    "\n",
    "fig = plt.figure(frameon=False, figsize=(8,8))\n",
    "ax = plt.Axes(fig, [0., 0., 1., (H0.shape[1]/H0.shape[0])])\n",
    "fig.add_axes(ax)\n",
    "\n",
    "xedges = np.linspace(0, H0.shape[0], H0.shape[0])\n",
    "yedges = np.linspace(0, H0.shape[1], H0.shape[1])\n",
    "Xg, Yg = np.meshgrid(xedges, yedges)\n",
    "ax.pcolormesh(Xg, Yg, H0.T, cmap='gnuplot')\n",
    "\n",
    "# print(y[i])\n",
    "for x0,y0,a0,b0,phi0 in y[i]:\n",
    "    e = Ellipse((x0+1, y0+1), 2*a0, 2*b0, 180*phi0/np.pi, fill=False, edgecolor='green', alpha=1)\n",
    "    ax.add_artist(e)\n",
    "    plt.scatter(x0+1, y0+1, marker='+', s=150)"
   ]
  },
  {
   "cell_type": "code",
   "execution_count": null,
   "metadata": {},
   "outputs": [],
   "source": []
  }
 ],
 "metadata": {
  "kernelspec": {
   "display_name": "Python 3",
   "language": "python",
   "name": "python3"
  },
  "language_info": {
   "codemirror_mode": {
    "name": "ipython",
    "version": 3
   },
   "file_extension": ".py",
   "mimetype": "text/x-python",
   "name": "python",
   "nbconvert_exporter": "python",
   "pygments_lexer": "ipython3",
   "version": "3.7.7"
  }
 },
 "nbformat": 4,
 "nbformat_minor": 4
}
