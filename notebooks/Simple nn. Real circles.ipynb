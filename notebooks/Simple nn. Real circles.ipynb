{
 "cells": [
  {
   "cell_type": "markdown",
   "metadata": {},
   "source": [
    "# Simple nn for real circles ( based on [this article](https://towardsdatascience.com/object-detection-with-neural-networks-a4e2c46b4491) and [this tutorial](https://pytorch.org/tutorials/beginner/blitz/neural_networks_tutorial.html#sphx-glr-beginner-blitz-neural-networks-tutorial-py) )"
   ]
  },
  {
   "cell_type": "code",
   "execution_count": 1,
   "metadata": {},
   "outputs": [
    {
     "name": "stdout",
     "output_type": "stream",
     "text": [
      "/mnt/s/Keep working hard/projects/python/farich-pics\n"
     ]
    }
   ],
   "source": [
    "%cd .."
   ]
  },
  {
   "cell_type": "code",
   "execution_count": 2,
   "metadata": {},
   "outputs": [],
   "source": [
    "import torch\n",
    "import numpy as np\n",
    "import matplotlib.pyplot as plt\n",
    "import matplotlib\n",
    "from farichlib.DataPreprocessing import DataPreprocessing\n",
    "%matplotlib inline"
   ]
  },
  {
   "cell_type": "markdown",
   "metadata": {},
   "source": [
    "Start"
   ]
  },
  {
   "cell_type": "code",
   "execution_count": 5,
   "metadata": {},
   "outputs": [],
   "source": [
    "dp = DataPreprocessing()\n",
    "# dp.parse_root('data/farichSimRes_pi-kaon-_1000MeV_0-90deg_50.0k_2020-02-11.root')"
   ]
  },
  {
   "cell_type": "code",
   "execution_count": 6,
   "metadata": {},
   "outputs": [],
   "source": [
    "dp.parse_pickle('data/pik0.pkl')"
   ]
  },
  {
   "cell_type": "code",
   "execution_count": 254,
   "metadata": {},
   "outputs": [],
   "source": [
    "imgs, y = dp.get_images()"
   ]
  },
  {
   "cell_type": "code",
   "execution_count": 255,
   "metadata": {},
   "outputs": [],
   "source": [
    "for i,j in zip(imgs, y):\n",
    "    roll_mat(i,j) "
   ]
  },
  {
   "cell_type": "code",
   "execution_count": 253,
   "metadata": {},
   "outputs": [],
   "source": [
    "def roll_mat(img, y):\n",
    "    sx, sy = img.shape\n",
    "#     img = img.copy()\n",
    "#     y = y.copy()\n",
    "    x_shift = random.randint(-10, 10)\n",
    "    y_shift = random.randint(-20, 40)\n",
    "    img.row = np.remainder(img.row + x_shift, sx)\n",
    "    img.col = np.remainder(img.col + y_shift, sy)\n",
    "    \n",
    "    y[0] += x_shift\n",
    "    y[1] += y_shift\n",
    "    return# [img, y]"
   ]
  },
  {
   "cell_type": "code",
   "execution_count": 258,
   "metadata": {},
   "outputs": [
    {
     "data": {
      "text/plain": [
       "<matplotlib.patches.Circle at 0x7fb6eecf33d0>"
      ]
     },
     "execution_count": 258,
     "metadata": {},
     "output_type": "execute_result"
    },
    {
     "data": {
      "image/png": "[encoded data removed]",
      "text/plain": [
       "<Figure size 432x288 with 1 Axes>"
      ]
     },
     "metadata": {
      "needs_background": "light"
     },
     "output_type": "display_data"
    }
   ],
   "source": [
    "i = 44\n",
    "img, bbox = imgs[i], y[i]\n",
    "img = img.toarray()\n",
    "plt.imshow(img.T, cmap='Greys', interpolation='none', origin='lower', \n",
    "           extent=[0, imgs[i].shape[0], 0, imgs[i].shape[1]])\n",
    "# bbox = y[i]\n",
    "plt.gca().add_patch(matplotlib.patches.Circle((bbox[0], bbox[1]), bbox[2], ec='r', fc='none'))"
   ]
  },
  {
   "cell_type": "code",
   "execution_count": 259,
   "metadata": {},
   "outputs": [
    {
     "data": {
      "text/plain": [
       "(64, 136)"
      ]
     },
     "execution_count": 259,
     "metadata": {},
     "output_type": "execute_result"
    }
   ],
   "source": [
    "imgs[0].shape"
   ]
  },
  {
   "cell_type": "code",
   "execution_count": 260,
   "metadata": {},
   "outputs": [],
   "source": [
    "def getXtraintest():\n",
    "    part = int(0.8*len(imgs))\n",
    "    iTrain = np.concatenate( [np.ones(len(imgs[i].row))*i for i in range(part)] ).astype(int)\n",
    "    iTest = np.concatenate( [np.ones(len(imgs[i].row))*(i-part) for i in range(part, len(imgs))] ).astype(int)\n",
    "    i = np.concatenate( [iTrain, iTest] )\n",
    "    x = np.concatenate( [img.row for img in imgs]  )\n",
    "    y = np.concatenate( [img.col for img in imgs]  )\n",
    "    \n",
    "    ind = torch.LongTensor(np.vstack((i, x, y)))\n",
    "    val = torch.FloatTensor( np.ones(len(i)) )\n",
    "    \n",
    "    X_train = torch.sparse.FloatTensor(ind[:,:len(iTrain)], val[:len(iTrain)], torch.Size([part, 64, 136]))\n",
    "    X_test  = torch.sparse.FloatTensor(ind[:,len(iTrain):], val[len(iTrain):], torch.Size([len(imgs)-part, 64, 136]))\n",
    "    \n",
    "    X_train = X_train.unsqueeze(1)\n",
    "    X_test  = X_test.unsqueeze(1)\n",
    "    return X_train, X_test\n",
    "    "
   ]
  },
  {
   "cell_type": "code",
   "execution_count": 261,
   "metadata": {},
   "outputs": [],
   "source": [
    "X_train, X_test = getXtraintest()"
   ]
  },
  {
   "cell_type": "code",
   "execution_count": 262,
   "metadata": {},
   "outputs": [
    {
     "data": {
      "text/plain": [
       "torch.Size([5102, 1, 64, 136])"
      ]
     },
     "execution_count": 262,
     "metadata": {},
     "output_type": "execute_result"
    }
   ],
   "source": [
    "X_test.shape"
   ]
  },
  {
   "cell_type": "code",
   "execution_count": 263,
   "metadata": {},
   "outputs": [
    {
     "data": {
      "text/plain": [
       "((25508, 3), 31.30091213214155, 17.38333927949254)"
      ]
     },
     "execution_count": 263,
     "metadata": {},
     "output_type": "execute_result"
    }
   ],
   "source": [
    "# Normalize x, y, w, h by img_size\n",
    "# y = у / img_size\n",
    "y.shape, np.mean(y), np.std(y)"
   ]
  },
  {
   "cell_type": "code",
   "execution_count": 264,
   "metadata": {},
   "outputs": [],
   "source": [
    "# Split training and test.\n",
    "i = int(0.8 * len(imgs))\n",
    "# X_train = X[:i]\n",
    "# X_test = X[i:]\n",
    "y_train = y[:i]\n",
    "y_test = y[i:]\n",
    "test_imgs = imgs[i:]\n",
    "# test_bboxes = bboxes[i:]"
   ]
  },
  {
   "cell_type": "code",
   "execution_count": 265,
   "metadata": {},
   "outputs": [
    {
     "data": {
      "text/plain": [
       "torch.Size([20406, 1, 64, 136])"
      ]
     },
     "execution_count": 265,
     "metadata": {},
     "output_type": "execute_result"
    }
   ],
   "source": [
    "X_train.shape"
   ]
  },
  {
   "cell_type": "code",
   "execution_count": 266,
   "metadata": {},
   "outputs": [
    {
     "data": {
      "text/plain": [
       "(20406, 3)"
      ]
     },
     "execution_count": 266,
     "metadata": {},
     "output_type": "execute_result"
    }
   ],
   "source": [
    "y_train.shape"
   ]
  },
  {
   "cell_type": "code",
   "execution_count": 267,
   "metadata": {},
   "outputs": [],
   "source": [
    "# Use torch data format\n",
    "# X_train = torch.FloatTensor(X_train).unsqueeze(1) #Add one dimension to the tensor\n",
    "# X_test  = torch.FloatTensor(X_test).unsqueeze(1)\n",
    "\n",
    "y_train = torch.FloatTensor(y_train)\n",
    "y_test  = torch.FloatTensor(y_test)"
   ]
  },
  {
   "cell_type": "code",
   "execution_count": 268,
   "metadata": {},
   "outputs": [
    {
     "data": {
      "text/plain": [
       "torch.Size([5102, 1, 64, 136])"
      ]
     },
     "execution_count": 268,
     "metadata": {},
     "output_type": "execute_result"
    }
   ],
   "source": [
    "X_test.shape"
   ]
  },
  {
   "cell_type": "code",
   "execution_count": 269,
   "metadata": {},
   "outputs": [
    {
     "data": {
      "text/plain": [
       "torch.Size([5102, 3])"
      ]
     },
     "execution_count": 269,
     "metadata": {},
     "output_type": "execute_result"
    }
   ],
   "source": [
    "y_test.shape"
   ]
  },
  {
   "cell_type": "code",
   "execution_count": 270,
   "metadata": {},
   "outputs": [],
   "source": [
    "import torch\n",
    "from torch import nn\n",
    "import torch.nn.functional as F"
   ]
  },
  {
   "cell_type": "code",
   "execution_count": 271,
   "metadata": {},
   "outputs": [
    {
     "name": "stdout",
     "output_type": "stream",
     "text": [
      "Net(\n",
      "  (conv1): Conv2d(1, 6, kernel_size=(3, 3), stride=(1, 1))\n",
      "  (conv2): Conv2d(6, 10, kernel_size=(3, 3), stride=(1, 1))\n",
      "  (fc1): Linear(in_features=4480, out_features=120, bias=True)\n",
      "  (fc2): Linear(in_features=120, out_features=84, bias=True)\n",
      "  (fc3): Linear(in_features=84, out_features=3, bias=True)\n",
      ")\n"
     ]
    }
   ],
   "source": [
    "class Net(nn.Module):\n",
    "\n",
    "    def __init__(self):\n",
    "        super(Net, self).__init__()\n",
    "        # 1 input image channel, 6 output channels, 3x3 square convolution\n",
    "        # kernel\n",
    "        self.conv1 = nn.Conv2d(1, 6, 3)\n",
    "        self.conv2 = nn.Conv2d(6, 10, 3)\n",
    "        # an affine operation: y = Wx + b\n",
    "        self.fc1 = nn.Linear( 4480, 120)  # 6*6 from image dimension\n",
    "        self.fc2 = nn.Linear(120, 84)\n",
    "        self.fc3 = nn.Linear(84, 3)\n",
    "\n",
    "    def forward(self, x):\n",
    "        # Max pooling over a (2, 2) window\n",
    "        x = F.max_pool2d(F.relu(self.conv1(x)), (2, 2))\n",
    "        # If the size is a square you can only specify a single number\n",
    "        x = F.max_pool2d(F.relu(self.conv2(x)), 2)\n",
    "        x = x.view(-1, self.num_flat_features(x))\n",
    "        x = F.relu(self.fc1(x))\n",
    "        x = F.relu(self.fc2(x))\n",
    "        x = self.fc3(x)\n",
    "        return x\n",
    "\n",
    "    def num_flat_features(self, x):\n",
    "        size = x.size()[1:]  # all dimensions except the batch dimension\n",
    "        num_features = 1\n",
    "        for s in size:\n",
    "            num_features *= s\n",
    "        return num_features\n",
    "\n",
    "\n",
    "model = Net()\n",
    "print(model)"
   ]
  },
  {
   "cell_type": "code",
   "execution_count": 275,
   "metadata": {},
   "outputs": [
    {
     "name": "stdout",
     "output_type": "stream",
     "text": [
      "10\n",
      "torch.Size([6, 1, 3, 3])\n"
     ]
    }
   ],
   "source": [
    "params = list(model.parameters())\n",
    "print(len(params))\n",
    "print(params[0].size())"
   ]
  },
  {
   "cell_type": "code",
   "execution_count": 276,
   "metadata": {},
   "outputs": [],
   "source": [
    "# Check that network passes data\n",
    "input = torch.randn(1, 1, 64, 136)\n",
    "out = model(input)"
   ]
  },
  {
   "cell_type": "code",
   "execution_count": 277,
   "metadata": {},
   "outputs": [
    {
     "data": {
      "text/plain": [
       "tensor([[-0.0063,  0.0051, -0.1522]], grad_fn=<AddmmBackward>)"
      ]
     },
     "execution_count": 277,
     "metadata": {},
     "output_type": "execute_result"
    }
   ],
   "source": [
    "out"
   ]
  },
  {
   "cell_type": "code",
   "execution_count": 415,
   "metadata": {},
   "outputs": [],
   "source": [
    "loss_fn = nn.MSELoss()\n",
    "optimizer = torch.optim.SGD(model.parameters(), 1e-2) #Adam"
   ]
  },
  {
   "cell_type": "code",
   "execution_count": 279,
   "metadata": {},
   "outputs": [],
   "source": [
    "X_train = X_train.to_dense()\n",
    "X_test = X_test.to_dense()"
   ]
  },
  {
   "cell_type": "code",
   "execution_count": 280,
   "metadata": {},
   "outputs": [
    {
     "data": {
      "text/plain": [
       "torch.Size([2, 1, 64, 136])"
      ]
     },
     "execution_count": 280,
     "metadata": {},
     "output_type": "execute_result"
    }
   ],
   "source": [
    "X_test[:2].shape"
   ]
  },
  {
   "cell_type": "code",
   "execution_count": 282,
   "metadata": {},
   "outputs": [],
   "source": [
    "permutation = torch.randperm(X_train.size()[0])"
   ]
  },
  {
   "cell_type": "code",
   "execution_count": 314,
   "metadata": {},
   "outputs": [],
   "source": [
    "batch_size = 100\n",
    "num_train = X_train.size()[0]\n",
    "num_test = X_test.size()[0]\n",
    "train_losses = []\n",
    "test_losses = []"
   ]
  },
  {
   "cell_type": "code",
   "execution_count": 407,
   "metadata": {},
   "outputs": [],
   "source": [
    "def train(num_epoch):\n",
    "    for i in range(num_epoch): \n",
    "        perm_train = torch.randperm(num_train)\n",
    "        model.train(True)\n",
    "        for j in range(0, num_train, batch_size):\n",
    "            indices = perm_train[i:i+batch_size]\n",
    "            X_batch, y_batch = X_train[indices], y_train[indices]\n",
    "            \n",
    "            #Loss\n",
    "            y_pred = model(X_batch)\n",
    "            train_loss = loss_fn(y_pred, y_batch)\n",
    "            train_losses.append( float(train_loss) )\n",
    "            #zero grad\n",
    "            optimizer.zero_grad()\n",
    "            #back prop\n",
    "            train_loss.backward()\n",
    "            #update weigths\n",
    "            optimizer.step()\n",
    "\n",
    "            model.train(False)\n",
    "            \n",
    "            test_check = np.random.randint(0, len(y_test), 40)\n",
    "            y_pred = model(X_test[test_check])\n",
    "            test_loss = loss_fn(y_pred, y_test[test_check])\n",
    "            test_losses.append( float(test_loss) )\n",
    "\n",
    "            train_l = float(train_loss)\n",
    "            test_l = float(test_loss)\n",
    "            if j%1000==0:\n",
    "                print(f'Epoch {i}:{j//batch_size} | Train loss: {train_l:.4f}; Test loss: {test_l:.4f}',)\n",
    "\n",
    "    return"
   ]
  },
  {
   "cell_type": "code",
   "execution_count": 416,
   "metadata": {
    "scrolled": true
   },
   "outputs": [
    {
     "name": "stdout",
     "output_type": "stream",
     "text": [
      "Epoch 0:0 | Train loss: 119.6942; Test loss: 122.3263\n",
      "Epoch 0:1 | Train loss: 119.6551; Test loss: 127.5492\n",
      "Epoch 0:2 | Train loss: 119.6169; Test loss: 118.7976\n",
      "Epoch 0:3 | Train loss: 119.5799; Test loss: 131.4726\n",
      "Epoch 0:4 | Train loss: 119.5438; Test loss: 148.0735\n",
      "Epoch 0:5 | Train loss: 119.5086; Test loss: 138.0058\n",
      "Epoch 0:6 | Train loss: 119.4744; Test loss: 119.0042\n",
      "Epoch 0:7 | Train loss: 119.4411; Test loss: 118.9938\n",
      "Epoch 0:8 | Train loss: 119.4086; Test loss: 133.9864\n",
      "Epoch 0:9 | Train loss: 119.3771; Test loss: 109.2825\n",
      "Epoch 0:10 | Train loss: 119.3463; Test loss: 113.5063\n",
      "Epoch 0:11 | Train loss: 119.3164; Test loss: 110.2639\n",
      "Epoch 0:12 | Train loss: 119.2874; Test loss: 137.9814\n",
      "Epoch 0:13 | Train loss: 119.2590; Test loss: 114.2148\n",
      "Epoch 0:14 | Train loss: 119.2314; Test loss: 128.5371\n",
      "Epoch 0:15 | Train loss: 119.2045; Test loss: 112.0212\n",
      "Epoch 0:16 | Train loss: 119.1783; Test loss: 117.8723\n",
      "Epoch 0:17 | Train loss: 119.1529; Test loss: 108.1036\n",
      "Epoch 0:18 | Train loss: 119.1281; Test loss: 132.2365\n",
      "Epoch 0:19 | Train loss: 119.1039; Test loss: 127.3494\n",
      "Epoch 0:20 | Train loss: 119.0804; Test loss: 118.2390\n",
      "Epoch 0:21 | Train loss: 119.0576; Test loss: 125.1895\n",
      "Epoch 0:22 | Train loss: 119.0353; Test loss: 135.4885\n",
      "Epoch 0:23 | Train loss: 119.0136; Test loss: 136.7112\n",
      "Epoch 0:24 | Train loss: 118.9925; Test loss: 127.0092\n",
      "Epoch 0:25 | Train loss: 118.9720; Test loss: 110.4434\n",
      "Epoch 0:26 | Train loss: 118.9520; Test loss: 113.3201\n",
      "Epoch 0:27 | Train loss: 118.9325; Test loss: 136.1604\n",
      "Epoch 0:28 | Train loss: 118.9136; Test loss: 114.4276\n",
      "Epoch 0:29 | Train loss: 118.8951; Test loss: 141.5568\n",
      "Epoch 0:30 | Train loss: 118.8772; Test loss: 110.7599\n",
      "Epoch 0:31 | Train loss: 118.8596; Test loss: 116.0232\n",
      "Epoch 0:32 | Train loss: 118.8426; Test loss: 142.3697\n",
      "Epoch 0:33 | Train loss: 118.8261; Test loss: 137.9453\n",
      "Epoch 0:34 | Train loss: 118.8099; Test loss: 88.9518\n",
      "Epoch 0:35 | Train loss: 118.7942; Test loss: 105.4224\n",
      "Epoch 0:36 | Train loss: 118.7789; Test loss: 121.4589\n",
      "Epoch 0:37 | Train loss: 118.7640; Test loss: 122.3641\n",
      "Epoch 0:38 | Train loss: 118.7495; Test loss: 118.0753\n",
      "Epoch 0:39 | Train loss: 118.7354; Test loss: 123.7161\n",
      "Epoch 0:40 | Train loss: 118.7217; Test loss: 102.9768\n",
      "Epoch 0:41 | Train loss: 118.7083; Test loss: 109.5948\n",
      "Epoch 0:42 | Train loss: 118.6953; Test loss: 111.7626\n",
      "Epoch 0:43 | Train loss: 118.6827; Test loss: 104.0088\n",
      "Epoch 0:44 | Train loss: 118.6703; Test loss: 134.9536\n",
      "Epoch 0:45 | Train loss: 118.6583; Test loss: 130.5934\n",
      "Epoch 0:46 | Train loss: 118.6466; Test loss: 133.0817\n",
      "Epoch 0:47 | Train loss: 118.6352; Test loss: 137.1565\n",
      "Epoch 0:48 | Train loss: 118.6242; Test loss: 118.2020\n",
      "Epoch 0:49 | Train loss: 118.6133; Test loss: 134.0722\n",
      "Epoch 0:50 | Train loss: 118.6028; Test loss: 97.3991\n",
      "Epoch 0:51 | Train loss: 118.5926; Test loss: 114.1484\n",
      "Epoch 0:52 | Train loss: 118.5826; Test loss: 117.5129\n",
      "Epoch 0:53 | Train loss: 118.5730; Test loss: 128.0268\n",
      "Epoch 0:54 | Train loss: 118.5636; Test loss: 119.7576\n",
      "Epoch 0:55 | Train loss: 118.5544; Test loss: 127.7601\n",
      "Epoch 0:56 | Train loss: 118.5455; Test loss: 114.5975\n",
      "Epoch 0:57 | Train loss: 118.5368; Test loss: 114.6031\n",
      "Epoch 0:58 | Train loss: 118.5283; Test loss: 139.7230\n",
      "Epoch 0:59 | Train loss: 118.5200; Test loss: 128.7602\n",
      "Epoch 0:60 | Train loss: 118.5120; Test loss: 123.9791\n",
      "Epoch 0:61 | Train loss: 118.5042; Test loss: 98.9773\n",
      "Epoch 0:62 | Train loss: 118.4966; Test loss: 124.5328\n",
      "Epoch 0:63 | Train loss: 118.4891; Test loss: 98.0901\n",
      "Epoch 0:64 | Train loss: 118.4820; Test loss: 108.2956\n",
      "Epoch 0:65 | Train loss: 118.4749; Test loss: 110.5454\n",
      "Epoch 0:66 | Train loss: 118.4681; Test loss: 108.5107\n",
      "Epoch 0:67 | Train loss: 118.4614; Test loss: 138.3046\n",
      "Epoch 0:68 | Train loss: 118.4549; Test loss: 104.7235\n",
      "Epoch 0:69 | Train loss: 118.4487; Test loss: 123.3728\n",
      "Epoch 0:70 | Train loss: 118.4425; Test loss: 141.6514\n",
      "Epoch 0:71 | Train loss: 118.4366; Test loss: 104.6404\n",
      "Epoch 0:72 | Train loss: 118.4307; Test loss: 118.4685\n",
      "Epoch 0:73 | Train loss: 118.4251; Test loss: 127.7800\n",
      "Epoch 0:74 | Train loss: 118.4196; Test loss: 103.8977\n",
      "Epoch 0:75 | Train loss: 118.4142; Test loss: 122.0043\n",
      "Epoch 0:76 | Train loss: 118.4089; Test loss: 112.1401\n",
      "Epoch 0:77 | Train loss: 118.4039; Test loss: 116.8222\n",
      "Epoch 0:78 | Train loss: 118.3989; Test loss: 127.4732\n",
      "Epoch 0:79 | Train loss: 118.3941; Test loss: 98.1987\n",
      "Epoch 0:80 | Train loss: 118.3894; Test loss: 105.1999\n",
      "Epoch 0:81 | Train loss: 118.3848; Test loss: 145.7846\n",
      "Epoch 0:82 | Train loss: 118.3804; Test loss: 112.1686\n",
      "Epoch 0:83 | Train loss: 118.3761; Test loss: 127.6173\n",
      "Epoch 0:84 | Train loss: 118.3718; Test loss: 132.9637\n",
      "Epoch 0:85 | Train loss: 118.3678; Test loss: 107.1808\n",
      "Epoch 0:86 | Train loss: 118.3637; Test loss: 134.6906\n",
      "Epoch 0:87 | Train loss: 118.3599; Test loss: 130.2929\n",
      "Epoch 0:88 | Train loss: 118.3561; Test loss: 131.6973\n",
      "Epoch 0:89 | Train loss: 118.3524; Test loss: 112.3433\n",
      "Epoch 0:90 | Train loss: 118.3488; Test loss: 102.2628\n",
      "Epoch 0:91 | Train loss: 118.3453; Test loss: 111.9651\n",
      "Epoch 0:92 | Train loss: 118.3419; Test loss: 97.8848\n",
      "Epoch 0:93 | Train loss: 118.3386; Test loss: 136.6431\n",
      "Epoch 0:94 | Train loss: 118.3354; Test loss: 127.5554\n",
      "Epoch 0:95 | Train loss: 118.3322; Test loss: 132.6885\n",
      "Epoch 0:96 | Train loss: 118.3292; Test loss: 104.1975\n",
      "Epoch 0:97 | Train loss: 118.3262; Test loss: 147.6408\n",
      "Epoch 0:98 | Train loss: 118.3233; Test loss: 105.6139\n",
      "Epoch 0:99 | Train loss: 118.3205; Test loss: 156.8011\n",
      "Epoch 0:100 | Train loss: 118.3178; Test loss: 132.7703\n",
      "Epoch 0:101 | Train loss: 118.3151; Test loss: 125.8453\n",
      "Epoch 0:102 | Train loss: 118.3125; Test loss: 114.7928\n",
      "Epoch 0:103 | Train loss: 118.3100; Test loss: 116.1612\n",
      "Epoch 0:104 | Train loss: 118.3075; Test loss: 115.5656\n",
      "Epoch 0:105 | Train loss: 118.3051; Test loss: 119.4123\n",
      "Epoch 0:106 | Train loss: 118.3028; Test loss: 110.3111\n",
      "Epoch 0:107 | Train loss: 118.3005; Test loss: 140.3606\n",
      "Epoch 0:108 | Train loss: 118.2983; Test loss: 113.3462\n",
      "Epoch 0:109 | Train loss: 118.2961; Test loss: 153.7232\n",
      "Epoch 0:110 | Train loss: 118.2940; Test loss: 115.0639\n",
      "Epoch 0:111 | Train loss: 118.2919; Test loss: 117.7630\n",
      "Epoch 0:112 | Train loss: 118.2900; Test loss: 123.3888\n",
      "Epoch 0:113 | Train loss: 118.2880; Test loss: 135.4640\n",
      "Epoch 0:114 | Train loss: 118.2862; Test loss: 137.1921\n",
      "Epoch 0:115 | Train loss: 118.2843; Test loss: 134.6140\n",
      "Epoch 0:116 | Train loss: 118.2826; Test loss: 108.4341\n",
      "Epoch 0:117 | Train loss: 118.2808; Test loss: 114.3958\n",
      "Epoch 0:118 | Train loss: 118.2791; Test loss: 134.5821\n",
      "Epoch 0:119 | Train loss: 118.2775; Test loss: 103.3448\n",
      "Epoch 0:120 | Train loss: 118.2759; Test loss: 109.7929\n",
      "Epoch 0:121 | Train loss: 118.2743; Test loss: 100.5559\n",
      "Epoch 0:122 | Train loss: 118.2728; Test loss: 104.9472\n",
      "Epoch 0:123 | Train loss: 118.2713; Test loss: 134.7764\n",
      "Epoch 0:124 | Train loss: 118.2699; Test loss: 128.3656\n",
      "Epoch 0:125 | Train loss: 118.2685; Test loss: 144.8966\n",
      "Epoch 0:126 | Train loss: 118.2671; Test loss: 109.4678\n",
      "Epoch 0:127 | Train loss: 118.2658; Test loss: 107.4942\n",
      "Epoch 0:128 | Train loss: 118.2645; Test loss: 144.3259\n",
      "Epoch 0:129 | Train loss: 118.2632; Test loss: 136.3150\n",
      "Epoch 0:130 | Train loss: 118.2620; Test loss: 135.1665\n",
      "Epoch 0:131 | Train loss: 118.2608; Test loss: 108.5842\n",
      "Epoch 0:132 | Train loss: 118.2596; Test loss: 128.9312\n",
      "Epoch 0:133 | Train loss: 118.2585; Test loss: 111.0801\n",
      "Epoch 0:134 | Train loss: 118.2574; Test loss: 102.9326\n",
      "Epoch 0:135 | Train loss: 118.2563; Test loss: 127.4338\n",
      "Epoch 0:136 | Train loss: 118.2553; Test loss: 95.7726\n",
      "Epoch 0:137 | Train loss: 118.2542; Test loss: 128.3271\n",
      "Epoch 0:138 | Train loss: 118.2533; Test loss: 135.2976\n",
      "Epoch 0:139 | Train loss: 118.2523; Test loss: 133.3331\n",
      "Epoch 0:140 | Train loss: 118.2514; Test loss: 126.1009\n",
      "Epoch 0:141 | Train loss: 118.2504; Test loss: 125.8403\n",
      "Epoch 0:142 | Train loss: 118.2496; Test loss: 112.3957\n",
      "Epoch 0:143 | Train loss: 118.2487; Test loss: 138.6202\n",
      "Epoch 0:144 | Train loss: 118.2478; Test loss: 110.8694\n",
      "Epoch 0:145 | Train loss: 118.2471; Test loss: 112.8539\n",
      "Epoch 0:146 | Train loss: 118.2463; Test loss: 155.9951\n",
      "Epoch 0:147 | Train loss: 118.2455; Test loss: 121.1892\n",
      "Epoch 0:148 | Train loss: 118.2448; Test loss: 123.8092\n"
     ]
    },
    {
     "name": "stdout",
     "output_type": "stream",
     "text": [
      "Epoch 0:149 | Train loss: 118.2440; Test loss: 106.7205\n",
      "Epoch 0:150 | Train loss: 118.2433; Test loss: 98.9680\n",
      "Epoch 0:151 | Train loss: 118.2426; Test loss: 132.5930\n",
      "Epoch 0:152 | Train loss: 118.2419; Test loss: 115.6693\n",
      "Epoch 0:153 | Train loss: 118.2413; Test loss: 99.8761\n",
      "Epoch 0:154 | Train loss: 118.2406; Test loss: 128.6995\n",
      "Epoch 0:155 | Train loss: 118.2399; Test loss: 100.8500\n",
      "Epoch 0:156 | Train loss: 118.2393; Test loss: 105.8255\n",
      "Epoch 0:157 | Train loss: 118.2388; Test loss: 136.8861\n",
      "Epoch 0:158 | Train loss: 118.2382; Test loss: 120.9909\n",
      "Epoch 0:159 | Train loss: 118.2376; Test loss: 111.0072\n",
      "Epoch 0:160 | Train loss: 118.2371; Test loss: 113.3349\n",
      "Epoch 0:161 | Train loss: 118.2365; Test loss: 128.6820\n",
      "Epoch 0:162 | Train loss: 118.2360; Test loss: 110.0052\n",
      "Epoch 0:163 | Train loss: 118.2355; Test loss: 103.8209\n",
      "Epoch 0:164 | Train loss: 118.2350; Test loss: 102.3493\n",
      "Epoch 0:165 | Train loss: 118.2345; Test loss: 144.6866\n",
      "Epoch 0:166 | Train loss: 118.2340; Test loss: 125.7528\n",
      "Epoch 0:167 | Train loss: 118.2336; Test loss: 123.1023\n",
      "Epoch 0:168 | Train loss: 118.2332; Test loss: 111.0611\n",
      "Epoch 0:169 | Train loss: 118.2327; Test loss: 134.6909\n",
      "Epoch 0:170 | Train loss: 118.2323; Test loss: 117.1860\n",
      "Epoch 0:171 | Train loss: 118.2319; Test loss: 126.3392\n",
      "Epoch 0:172 | Train loss: 118.2315; Test loss: 137.5807\n",
      "Epoch 0:173 | Train loss: 118.2311; Test loss: 104.6344\n",
      "Epoch 0:174 | Train loss: 118.2307; Test loss: 117.8478\n",
      "Epoch 0:175 | Train loss: 118.2304; Test loss: 117.4143\n",
      "Epoch 0:176 | Train loss: 118.2300; Test loss: 103.7114\n",
      "Epoch 0:177 | Train loss: 118.2297; Test loss: 108.3995\n",
      "Epoch 0:178 | Train loss: 118.2293; Test loss: 126.8713\n",
      "Epoch 0:179 | Train loss: 118.2290; Test loss: 125.5196\n",
      "Epoch 0:180 | Train loss: 118.2287; Test loss: 92.5912\n",
      "Epoch 0:181 | Train loss: 118.2284; Test loss: 136.0116\n",
      "Epoch 0:182 | Train loss: 118.2281; Test loss: 127.8827\n",
      "Epoch 0:183 | Train loss: 118.2278; Test loss: 135.1514\n",
      "Epoch 0:184 | Train loss: 118.2275; Test loss: 89.4068\n",
      "Epoch 0:185 | Train loss: 118.2272; Test loss: 105.4013\n",
      "Epoch 0:186 | Train loss: 118.2270; Test loss: 125.6175\n",
      "Epoch 0:187 | Train loss: 118.2267; Test loss: 120.9893\n",
      "Epoch 0:188 | Train loss: 118.2265; Test loss: 110.5538\n",
      "Epoch 0:189 | Train loss: 118.2262; Test loss: 103.2851\n",
      "Epoch 0:190 | Train loss: 118.2260; Test loss: 106.1742\n",
      "Epoch 0:191 | Train loss: 118.2257; Test loss: 111.3660\n",
      "Epoch 0:192 | Train loss: 118.2255; Test loss: 108.3937\n",
      "Epoch 0:193 | Train loss: 118.2253; Test loss: 117.2044\n",
      "Epoch 0:194 | Train loss: 118.2250; Test loss: 107.1406\n",
      "Epoch 0:195 | Train loss: 118.2248; Test loss: 113.3280\n",
      "Epoch 0:196 | Train loss: 118.2246; Test loss: 135.0784\n",
      "Epoch 0:197 | Train loss: 118.2244; Test loss: 125.4961\n",
      "Epoch 0:198 | Train loss: 118.2242; Test loss: 115.9414\n",
      "Epoch 0:199 | Train loss: 118.2240; Test loss: 117.4253\n",
      "Epoch 0:200 | Train loss: 118.2238; Test loss: 105.9986\n",
      "Epoch 0:201 | Train loss: 118.2236; Test loss: 128.2431\n",
      "Epoch 0:202 | Train loss: 118.2235; Test loss: 117.2701\n",
      "Epoch 0:203 | Train loss: 118.2233; Test loss: 112.6711\n",
      "Epoch 0:204 | Train loss: 118.2231; Test loss: 141.8027\n"
     ]
    }
   ],
   "source": [
    "train(1)"
   ]
  },
  {
   "cell_type": "code",
   "execution_count": 423,
   "metadata": {},
   "outputs": [
    {
     "data": {
      "text/plain": [
       "<matplotlib.legend.Legend at 0x7fb6eede55d0>"
      ]
     },
     "execution_count": 423,
     "metadata": {},
     "output_type": "execute_result"
    },
    {
     "data": {
      "image/png": "[encoded data removed]",
      "text/plain": [
       "<Figure size 432x288 with 1 Axes>"
      ]
     },
     "metadata": {
      "needs_background": "light"
     },
     "output_type": "display_data"
    }
   ],
   "source": [
    "plot_train = train_losses[:]\n",
    "plot_test  = test_losses[:]\n",
    "plt.plot(range(len(plot_train)), plot_train, label='Train')\n",
    "plt.plot(range(len(plot_test)), plot_test, label='Test')\n",
    "plt.legend()"
   ]
  },
  {
   "cell_type": "code",
   "execution_count": 418,
   "metadata": {},
   "outputs": [],
   "source": [
    "test_check = np.random.randint(0, len(y_test), 10)\n",
    "y_pred = model(X_test[test_check])"
   ]
  },
  {
   "cell_type": "code",
   "execution_count": 419,
   "metadata": {},
   "outputs": [],
   "source": [
    "# AS TWO SQUARES\n",
    "def IOU(bbox1, bbox2):\n",
    "    x1, y1, w1 = bbox1[0], bbox1[1], 2*bbox1[2]\n",
    "    x2, y2, w2 = bbox2[0], bbox2[1], 2*bbox2[2]\n",
    "    x1, y1, x2, y2 = x1-w1, y1-w1, x2-w2, y2-w2\n",
    "\n",
    "    w_I = min(x1 + w1, x2 + w2) - max(x1, x2)\n",
    "    h_I = min(y1 + w1, y2 + w2) - max(y1, y2)\n",
    "    if w_I <= 0 or h_I <= 0:  # no overlap\n",
    "        return 0.\n",
    "    I = w_I * h_I\n",
    "\n",
    "    U = w1 * w1 + w2 * w2 - I\n",
    "\n",
    "    return I / U"
   ]
  },
  {
   "cell_type": "code",
   "execution_count": 420,
   "metadata": {},
   "outputs": [
    {
     "data": {
      "image/png": "[encoded data removed]",
      "text/plain": [
       "<Figure size 432x288 with 1 Axes>"
      ]
     },
     "metadata": {
      "needs_background": "light"
     },
     "output_type": "display_data"
    }
   ],
   "source": [
    "import random\n",
    "i = random.randint(0, len(test_check)-1)\n",
    "img = X_test[i][0].numpy()\n",
    "exp_box = y_test[i].numpy()\n",
    "pred_box = y_pred[i].detach().numpy()\n",
    "plt.imshow(img.T, cmap='Greys', interpolation='none', origin='lower', \n",
    "           extent=[0, img.shape[0], 0, img.shape[1]])\n",
    "plt.gca().add_patch(matplotlib.patches.Circle((exp_box[0], exp_box[1]), exp_box[2], ec='r', fc='red', alpha=0.1))\n",
    "plt.gca().add_patch(matplotlib.patches.Circle((pred_box[0], pred_box[1]), pred_box[2], ec='g', fc='none'))\n",
    "plt.annotate('IOU: {:.2f}'.format(IOU(pred_box, exp_box)), (pred_box[0], pred_box[1]+pred_box[2]+0.2), color='r');"
   ]
  },
  {
   "cell_type": "code",
   "execution_count": 421,
   "metadata": {},
   "outputs": [],
   "source": [
    "pred_bboxes = y_pred.detach().numpy()\n",
    "test_bboxes = y_test.numpy()"
   ]
  },
  {
   "cell_type": "code",
   "execution_count": 422,
   "metadata": {},
   "outputs": [
    {
     "data": {
      "text/plain": [
       "0.2580322049225413"
      ]
     },
     "execution_count": 422,
     "metadata": {},
     "output_type": "execute_result"
    }
   ],
   "source": [
    "summed_IOU = 0.\n",
    "for pred_bbox, test_bbox in zip(pred_bboxes, test_bboxes):\n",
    "    summed_IOU += IOU(pred_bbox, test_bbox)\n",
    "mean_IOU = summed_IOU / len(pred_bboxes)\n",
    "mean_IOU"
   ]
  },
  {
   "cell_type": "code",
   "execution_count": null,
   "metadata": {},
   "outputs": [],
   "source": []
  }
 ],
 "metadata": {
  "kernelspec": {
   "display_name": "Python 3",
   "language": "python",
   "name": "python3"
  },
  "language_info": {
   "codemirror_mode": {
    "name": "ipython",
    "version": 3
   },
   "file_extension": ".py",
   "mimetype": "text/x-python",
   "name": "python",
   "nbconvert_exporter": "python",
   "pygments_lexer": "ipython3",
   "version": "3.7.6"
  }
 },
 "nbformat": 4,
 "nbformat_minor": 4
}
