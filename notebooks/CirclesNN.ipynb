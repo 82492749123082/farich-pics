{
  "nbformat": 4,
  "nbformat_minor": 0,
  "metadata": {
    "accelerator": "GPU",
    "colab": {
      "name": "CirclesNN.ipynb",
      "provenance": [],
      "collapsed_sections": []
    },
    "kernelspec": {
      "display_name": "Python 3",
      "language": "python",
      "name": "python3"
    },
    "language_info": {
      "codemirror_mode": {
        "name": "ipython",
        "version": 3
      },
      "file_extension": ".py",
      "mimetype": "text/x-python",
      "name": "python",
      "nbconvert_exporter": "python",
      "pygments_lexer": "ipython3",
      "version": "3.6.4"
    }
  },
  "cells": [
    {
      "cell_type": "code",
      "metadata": {
        "id": "mfpDKqEfCMrE",
        "colab_type": "code",
        "outputId": "6e93c0fb-0f71-4c4c-dafa-5165c51921a2",
        "colab": {
          "base_uri": "https://localhost:8080/",
          "height": 36
        }
      },
      "source": [
        "from google.colab import drive\n",
        "drive.mount('/content/drive')"
      ],
      "execution_count": 4,
      "outputs": [
        {
          "output_type": "stream",
          "text": [
            "Drive already mounted at /content/drive; to attempt to forcibly remount, call drive.mount(\"/content/drive\", force_remount=True).\n"
          ],
          "name": "stdout"
        }
      ]
    },
    {
      "cell_type": "code",
      "metadata": {
        "id": "icK6bEPKArJ7",
        "colab_type": "code",
        "outputId": "aa1d78e4-d6e8-4ea9-c9ea-713e013ec521",
        "colab": {
          "base_uri": "https://localhost:8080/",
          "height": 36
        }
      },
      "source": [
        "%pwd\n",
        "# %cd /content/drive/Shared drives/ML\\&HEP/Notebooks\n",
        "%cd /content/drive/My\\ Drive/farich-pics"
      ],
      "execution_count": 6,
      "outputs": [
        {
          "output_type": "stream",
          "text": [
            "/content/drive/My Drive/farich-pics\n"
          ],
          "name": "stdout"
        }
      ]
    },
    {
      "cell_type": "markdown",
      "metadata": {
        "colab_type": "text",
        "id": "5Sd4jlGp2eLm"
      },
      "source": [
        "## Defining the Dataset\n",
        "\n",
        "The [torchvision reference scripts for training object detection, instance segmentation and person keypoint detection](https://github.com/pytorch/vision/tree/v0.3.0/references/detection) allows for easily supporting adding new custom datasets.\n",
        "The dataset should inherit from the standard `torch.utils.data.Dataset` class, and implement `__len__` and `__getitem__`.\n",
        "\n",
        "The only specificity that we require is that the dataset `__getitem__` should return:\n",
        "\n",
        "* image: a PIL Image of size (H, W)\n",
        "* target: a dict containing the following fields\n",
        "    * `boxes` (`FloatTensor[N, 4]`): the coordinates of the `N` bounding boxes in `[x0, y0, x1, y1]` format, ranging from `0` to `W` and `0` to `H`\n",
        "    * `labels` (`Int64Tensor[N]`): the label for each bounding box\n",
        "    * `image_id` (`Int64Tensor[1]`): an image identifier. It should be unique between all the images in the dataset, and is used during evaluation\n",
        "    * `area` (`Tensor[N]`): The area of the bounding box. This is used during evaluation with the COCO metric, to separate the metric scores between small, medium and large boxes.\n",
        "    * `iscrowd` (`UInt8Tensor[N]`): instances with `iscrowd=True` will be ignored during evaluation.\n",
        "    * (optionally) `masks` (`UInt8Tensor[N, H, W]`): The segmentation masks for each one of the objects\n",
        "    * (optionally) `keypoints` (`FloatTensor[N, K, 3]`): For each one of the `N` objects, it contains the `K` keypoints in `[x, y, visibility]` format, defining the object. `visibility=0` means that the keypoint is not visible. Note that for data augmentation, the notion of flipping a keypoint is dependent on the data representation, and you should probably adapt `references/detection/transforms.py` for your new keypoint representation\n",
        "\n",
        "If your model returns the above methods, they will make it work for both training and evaluation, and will use the evaluation scripts from pycocotools.\n",
        "\n",
        "Additionally, if you want to use aspect ratio grouping during training (so that each batch only contains images with similar aspect ratio), then it is recommended to also implement a `get_height_and_width` method, which returns the height and the width of the image. If this method is not provided, we query all elements of the dataset via `__getitem__` , which loads the image in memory and is slower than if a custom method is provided.\n"
      ]
    },
    {
      "cell_type": "markdown",
      "metadata": {
        "id": "GfJL7i6fLRd5",
        "colab_type": "text"
      },
      "source": [
        "Теперь посмотрим на наш датасет, сохраненный в data/dataset.pkl"
      ]
    },
    {
      "cell_type": "code",
      "metadata": {
        "id": "bN1TIEH7k69n",
        "colab_type": "code",
        "colab": {
          "base_uri": "https://localhost:8080/",
          "height": 36
        },
        "outputId": "f31b0ed3-0e26-496d-92ed-462dd87ec389"
      },
      "source": [
        "%ls /content/drive/Shared\\ drives/ML\\&HEP/data/"
      ],
      "execution_count": 13,
      "outputs": [
        {
          "output_type": "stream",
          "text": [
            "CirclesNN.pth  dataset_circles_boards.pkl  dataset.pkl\n"
          ],
          "name": "stdout"
        }
      ]
    },
    {
      "cell_type": "code",
      "metadata": {
        "id": "Ekj-1Vo7K84P",
        "colab_type": "code",
        "colab": {}
      },
      "source": [
        "%pwd\n",
        "# %ls ../data/dataset_circles_boards.pkl\n",
        "import pickle\n",
        "with open(\"/content/drive/Shared drives/ML&HEP/data/dataset_circles_boards.pkl\", \"rb\") as f:\n",
        "    H_res, h_res, mask_res = pickle.load(f)"
      ],
      "execution_count": 0,
      "outputs": []
    },
    {
      "cell_type": "code",
      "metadata": {
        "id": "zbXfYWVVK87f",
        "colab_type": "code",
        "colab": {}
      },
      "source": [
        "import matplotlib.pyplot as plt\n",
        "import pandas as pd\n",
        "import numpy as np\n",
        "from matplotlib.patches import Ellipse, Circle, Rectangle\n",
        "\n",
        "%matplotlib inline"
      ],
      "execution_count": 0,
      "outputs": []
    },
    {
      "cell_type": "code",
      "metadata": {
        "id": "Rzk5vNKNK8_F",
        "colab_type": "code",
        "outputId": "8e7b8f20-c54e-4f34-ad3e-a91e17952761",
        "colab": {
          "base_uri": "https://localhost:8080/",
          "height": 431
        }
      },
      "source": [
        "loc_ind = 1390\n",
        "num_of_circles = 1\n",
        "xv = h_res[loc_ind][num_of_circles-1][0]\n",
        "yv = h_res[loc_ind][num_of_circles-1][1]\n",
        "r = h_res[loc_ind][num_of_circles-1][2]\n",
        "\n",
        "fig = plt.figure(frameon=False, figsize=(5, 5) )\n",
        "\n",
        "H = H_res[loc_ind].toarray()\n",
        "ax = plt.Axes(fig, [0., 0., 1., (H.shape[1]/H.shape[0])])\n",
        "# ax.set_axis_off()\n",
        "fig.add_axes(ax)\n",
        "\n",
        "xedges = np.linspace(0, H.shape[0], H.shape[0])\n",
        "yedges = np.linspace(0, H.shape[1], H.shape[1])\n",
        "Xg, Yg = np.meshgrid(xedges, yedges)\n",
        "e = Circle(xy=(xv, yv), radius=r, linewidth=2, fill=False, edgecolor='green', alpha=0.5)\n",
        "ax.pcolormesh(Xg, Yg, H, cmap='gray')\n",
        "ax.pcolormesh(Xg, Yg, mask_res[loc_ind][0].toarray(), cmap='gray', alpha=0.2)\n",
        "ax.add_artist(e)\n",
        "plt.scatter(xv, yv, marker='+', s=150)"
      ],
      "execution_count": 16,
      "outputs": [
        {
          "output_type": "execute_result",
          "data": {
            "text/plain": [
              "<matplotlib.collections.PathCollection at 0x7faef0e3a518>"
            ]
          },
          "metadata": {
            "tags": []
          },
          "execution_count": 16
        },
        {
          "output_type": "display_data",
          "data": {
            "image/png": "[encoded data removed]",
            "text/plain": [
              "<Figure size 360x360 with 1 Axes>"
            ]
          },
          "metadata": {
            "tags": []
          }
        }
      ]
    },
    {
      "cell_type": "code",
      "metadata": {
        "id": "_oM5Pa1ZNroU",
        "colab_type": "code",
        "colab": {}
      },
      "source": [
        "import torch\n",
        "from farichlib.Dataset import Dataset"
      ],
      "execution_count": 0,
      "outputs": []
    },
    {
      "cell_type": "code",
      "metadata": {
        "id": "p2uu7LlvPnr3",
        "colab_type": "code",
        "colab": {}
      },
      "source": [
        "data = Dataset()\n",
        "data.load('/content/drive/Shared drives/ML&HEP/data/dataset_circles_boards.pkl')"
      ],
      "execution_count": 0,
      "outputs": []
    },
    {
      "cell_type": "code",
      "metadata": {
        "id": "PcCyNms_lR4F",
        "colab_type": "code",
        "colab": {
          "base_uri": "https://localhost:8080/",
          "height": 351
        },
        "outputId": "d0403b74-501a-485e-a935-aa0ff07b5f31"
      },
      "source": [
        "data[0]"
      ],
      "execution_count": 21,
      "outputs": [
        {
          "output_type": "execute_result",
          "data": {
            "text/plain": [
              "(tensor([[[0., 0., 0.,  ..., 0., 0., 0.],\n",
              "          [0., 0., 0.,  ..., 0., 0., 0.],\n",
              "          [0., 0., 0.,  ..., 0., 0., 0.],\n",
              "          ...,\n",
              "          [0., 0., 0.,  ..., 0., 0., 0.],\n",
              "          [0., 0., 0.,  ..., 0., 0., 0.],\n",
              "          [0., 0., 0.,  ..., 0., 0., 0.]]]),\n",
              " {'area': tensor([948.6402]),\n",
              "  'boxes': tensor([[55.6000, 32.6000, 86.4000, 63.4000]]),\n",
              "  'image_id': tensor([0]),\n",
              "  'labels': tensor([1]),\n",
              "  'masks': tensor([[[0., 0., 0.,  ..., 0., 0., 0.],\n",
              "           [0., 0., 0.,  ..., 0., 0., 0.],\n",
              "           [0., 0., 0.,  ..., 0., 0., 0.],\n",
              "           ...,\n",
              "           [0., 0., 0.,  ..., 0., 0., 0.],\n",
              "           [0., 0., 0.,  ..., 0., 0., 0.],\n",
              "           [0., 0., 0.,  ..., 0., 0., 0.]]])})"
            ]
          },
          "metadata": {
            "tags": []
          },
          "execution_count": 21
        }
      ]
    },
    {
      "cell_type": "markdown",
      "metadata": {
        "colab_type": "text",
        "id": "RoAEkUgn4uEq"
      },
      "source": [
        "## Defining your model\n",
        "\n",
        "Upload pretrained model"
      ]
    },
    {
      "cell_type": "code",
      "metadata": {
        "id": "2wz3YSkulVFh",
        "colab_type": "code",
        "colab": {}
      },
      "source": [
        "import torchvision\n",
        "import math\n",
        "import random\n",
        "from torchvision.models.detection.faster_rcnn import FastRCNNPredictor\n",
        "from torchvision.models.detection.mask_rcnn import MaskRCNNPredictor\n",
        "\n",
        "def get_model(load_trained=None):\n",
        "    if load_trained is None:\n",
        "        num_classes = 2\n",
        "        model = torchvision.models.detection.maskrcnn_resnet50_fpn(pretrained=True)\n",
        "        in_features = model.roi_heads.box_predictor.cls_score.in_features\n",
        "        model.roi_heads.box_predictor = FastRCNNPredictor(in_features, num_classes)\n",
        "        in_features_mask = model.roi_heads.mask_predictor.conv5_mask.in_channels\n",
        "        hidden_layer = 256\n",
        "        model.roi_heads.mask_predictor = MaskRCNNPredictor(in_features_mask, hidden_layer, num_classes)\n",
        "        return model\n",
        "    return torch.load(load_trained)"
      ],
      "execution_count": 0,
      "outputs": []
    },
    {
      "cell_type": "code",
      "metadata": {
        "id": "v7zfKrS1wHYU",
        "colab_type": "code",
        "colab": {}
      },
      "source": [
        "model = get_model('/content/drive/Shared drives/ML&HEP/data/CirclesNN.pth')"
      ],
      "execution_count": 0,
      "outputs": []
    },
    {
      "cell_type": "markdown",
      "metadata": {
        "colab_type": "text",
        "id": "-WXLwePV5ieP"
      },
      "source": [
        "That's it, this will make model be ready to be trained and evaluated on our custom dataset.\n",
        "\n",
        "## Training and evaluation functions\n",
        "\n",
        "In `references/detection/,` we have a number of helper functions to simplify training and evaluating detection models.\n",
        "Here, we will use `references/detection/engine.py`, `references/detection/utils.py` and `references/detection/transforms.py`.\n",
        "\n",
        "Let's copy those files (and their dependencies) in here so that they are available in the notebook"
      ]
    },
    {
      "cell_type": "markdown",
      "metadata": {
        "colab_type": "text",
        "id": "2u9e_pdv54nG"
      },
      "source": [
        "\n",
        "\n",
        "Let's write some helper functions for data augmentation / transformation, which leverages the functions in `refereces/detection` that we have just copied:\n"
      ]
    },
    {
      "cell_type": "code",
      "metadata": {
        "id": "X1OP2xOumDIa",
        "colab_type": "code",
        "colab": {}
      },
      "source": [
        "from farichlib import utils"
      ],
      "execution_count": 0,
      "outputs": []
    },
    {
      "cell_type": "code",
      "metadata": {
        "id": "ylN0IAYJybNf",
        "colab_type": "code",
        "colab": {}
      },
      "source": [
        "def train_one_epoch(model, optimizer, data_loader, device, epoch, print_freq):\n",
        "    model.train(mode=True)\n",
        "    metric_logger = utils.MetricLogger(delimiter=\"  \")\n",
        "    metric_logger.add_meter('lr', utils.SmoothedValue(window_size=1, fmt='{value:.6f}'))\n",
        "    header = 'Epoch: [{}]'.format(epoch)\n",
        "\n",
        "    lr_scheduler = None\n",
        "    if epoch == 0:\n",
        "        warmup_factor = 1. / 1000\n",
        "        warmup_iters = min(1000, len(data_loader) - 1)\n",
        "\n",
        "        lr_scheduler = utils.warmup_lr_scheduler(optimizer, warmup_iters, warmup_factor)\n",
        "\n",
        "    for images, targets in metric_logger.log_every(data_loader, print_freq, header):\n",
        "        images = list(image.to(device) for image in images)\n",
        "        targets = [{k: v.to(device) for k, v in t.items()} for t in targets]\n",
        "\n",
        "        loss_dict = model(images, targets)\n",
        "\n",
        "        losses = sum(loss for loss in loss_dict.values())\n",
        "\n",
        "        # reduce losses over all GPUs for logging purposes\n",
        "        loss_dict_reduced = utils.reduce_dict(loss_dict)\n",
        "        losses_reduced = sum(loss for loss in loss_dict_reduced.values())\n",
        "\n",
        "        loss_value = losses_reduced.item()\n",
        "\n",
        "        if not math.isfinite(loss_value):\n",
        "            print(\"Loss is {}, stopping training\".format(loss_value))\n",
        "            print(loss_dict_reduced)\n",
        "            sys.exit(1)\n",
        "\n",
        "        optimizer.zero_grad()\n",
        "        losses.backward()\n",
        "        optimizer.step()\n",
        "\n",
        "        if lr_scheduler is not None:\n",
        "            lr_scheduler.step()\n",
        "\n",
        "        metric_logger.update(loss=losses_reduced, **loss_dict_reduced)\n",
        "        metric_logger.update(lr=optimizer.param_groups[0][\"lr\"])"
      ],
      "execution_count": 0,
      "outputs": []
    },
    {
      "cell_type": "markdown",
      "metadata": {
        "colab_type": "text",
        "id": "3YFJGJxk6XEs"
      },
      "source": [
        "### Putting everything together\n",
        "\n",
        "We now have the dataset class, the models and the data transforms. Let's instantiate them"
      ]
    },
    {
      "cell_type": "code",
      "metadata": {
        "id": "htZ2uxdnVpv9",
        "colab_type": "code",
        "colab": {}
      },
      "source": [
        "# split the dataset in train and test set\n",
        "torch.manual_seed(1)\n",
        "indices = torch.randperm(len(data)).tolist()\n",
        "dataset = torch.utils.data.Subset(data, indices[:500])\n",
        "dataset_test = torch.utils.data.Subset(data, indices[500:])\n",
        "\n",
        "# define training and validation data loaders\n",
        "data_loader = torch.utils.data.DataLoader(\n",
        "    dataset, batch_size=2, shuffle=True, num_workers=4,\n",
        "    collate_fn=utils.collate_fn)\n",
        "\n",
        "data_loader_test = torch.utils.data.DataLoader(\n",
        "    dataset_test, batch_size=1, shuffle=False, num_workers=4,\n",
        "    collate_fn=utils.collate_fn)"
      ],
      "execution_count": 0,
      "outputs": []
    },
    {
      "cell_type": "markdown",
      "metadata": {
        "colab_type": "text",
        "id": "L5yvZUprj4ZN"
      },
      "source": [
        "Now let's instantiate the model and the optimizer"
      ]
    },
    {
      "cell_type": "code",
      "metadata": {
        "colab_type": "code",
        "id": "zoenkCj18C4h",
        "colab": {}
      },
      "source": [
        "device = torch.device('cuda') if torch.cuda.is_available() else torch.device('cpu')\n",
        "\n",
        "# our dataset has two classes only - background and person\n",
        "num_classes = 2\n",
        "\n",
        "# move model to the right device\n",
        "model.to(device)\n",
        "\n",
        "# construct an optimizer\n",
        "params = [p for p in model.parameters() if p.requires_grad]\n",
        "optimizer = torch.optim.SGD(params, lr=0.005,\n",
        "                            momentum=0.9, weight_decay=0.0005)\n",
        "\n",
        "# and a learning rate scheduler which decreases the learning rate by\n",
        "# 10x every 3 epochs\n",
        "lr_scheduler = torch.optim.lr_scheduler.StepLR(optimizer,\n",
        "                                               step_size=3,\n",
        "                                               gamma=0.1)"
      ],
      "execution_count": 0,
      "outputs": []
    },
    {
      "cell_type": "markdown",
      "metadata": {
        "colab_type": "text",
        "id": "XAd56lt4kDxc"
      },
      "source": [
        "And now let's train the model for 10 epochs, evaluating at the end of every epoch."
      ]
    },
    {
      "cell_type": "code",
      "metadata": {
        "colab_type": "code",
        "id": "at-h4OWK0aoc",
        "outputId": "925d58fe-9548-4444-a64b-687aae0ba1a2",
        "colab": {
          "base_uri": "https://localhost:8080/",
          "height": 538
        }
      },
      "source": [
        "# let's train it for 10 epochs\n",
        "num_epochs = 1\n",
        "\n",
        "for epoch in range(num_epochs):\n",
        "    # train for one epoch, printing every 10 iterations\n",
        "    train_one_epoch(model, optimizer, data_loader, device, epoch, print_freq=10)\n",
        "    # update the learning rate\n",
        "    lr_scheduler.step()\n",
        "    # evaluate on the test dataset\n",
        "    #evaluate(model, data_loader_test, device=device)"
      ],
      "execution_count": 30,
      "outputs": [
        {
          "output_type": "stream",
          "text": [
            "Epoch: [0]  [  0/250]  eta: 0:06:09  lr: 0.000025  loss: 0.1126 (0.1126)  loss_classifier: 0.0085 (0.0085)  loss_box_reg: 0.0077 (0.0077)  loss_mask: 0.0942 (0.0942)  loss_objectness: 0.0016 (0.0016)  loss_rpn_box_reg: 0.0006 (0.0006)  time: 1.4784  data: 0.2074  max mem: 1636\n",
            "Epoch: [0]  [ 10/250]  eta: 0:01:32  lr: 0.000226  loss: 0.1126 (0.1776)  loss_classifier: 0.0085 (0.0148)  loss_box_reg: 0.0087 (0.0112)  loss_mask: 0.0935 (0.1452)  loss_objectness: 0.0014 (0.0052)  loss_rpn_box_reg: 0.0008 (0.0012)  time: 0.3854  data: 0.0213  max mem: 1915\n",
            "Epoch: [0]  [ 20/250]  eta: 0:01:16  lr: 0.000426  loss: 0.0891 (0.1572)  loss_classifier: 0.0086 (0.0181)  loss_box_reg: 0.0044 (0.0089)  loss_mask: 0.0738 (0.1185)  loss_objectness: 0.0009 (0.0098)  loss_rpn_box_reg: 0.0007 (0.0018)  time: 0.2766  data: 0.0037  max mem: 1915\n",
            "Epoch: [0]  [ 30/250]  eta: 0:01:09  lr: 0.000627  loss: 0.0808 (0.1339)  loss_classifier: 0.0087 (0.0150)  loss_box_reg: 0.0027 (0.0070)  loss_mask: 0.0687 (0.1037)  loss_objectness: 0.0006 (0.0069)  loss_rpn_box_reg: 0.0006 (0.0014)  time: 0.2771  data: 0.0050  max mem: 1915\n",
            "Epoch: [0]  [ 40/250]  eta: 0:01:04  lr: 0.000827  loss: 0.0811 (0.1298)  loss_classifier: 0.0085 (0.0147)  loss_box_reg: 0.0023 (0.0066)  loss_mask: 0.0687 (0.1016)  loss_objectness: 0.0006 (0.0055)  loss_rpn_box_reg: 0.0006 (0.0013)  time: 0.2773  data: 0.0050  max mem: 1915\n",
            "Epoch: [0]  [ 50/250]  eta: 0:01:00  lr: 0.001028  loss: 0.0818 (0.1207)  loss_classifier: 0.0081 (0.0134)  loss_box_reg: 0.0021 (0.0058)  loss_mask: 0.0689 (0.0957)  loss_objectness: 0.0005 (0.0046)  loss_rpn_box_reg: 0.0006 (0.0012)  time: 0.2766  data: 0.0048  max mem: 1915\n",
            "Epoch: [0]  [ 60/250]  eta: 0:00:56  lr: 0.001229  loss: 0.0837 (0.1216)  loss_classifier: 0.0081 (0.0144)  loss_box_reg: 0.0021 (0.0060)  loss_mask: 0.0727 (0.0960)  loss_objectness: 0.0004 (0.0041)  loss_rpn_box_reg: 0.0005 (0.0011)  time: 0.2769  data: 0.0049  max mem: 1915\n",
            "Epoch: [0]  [ 70/250]  eta: 0:00:52  lr: 0.001429  loss: 0.0848 (0.1172)  loss_classifier: 0.0087 (0.0136)  loss_box_reg: 0.0021 (0.0056)  loss_mask: 0.0736 (0.0933)  loss_objectness: 0.0008 (0.0037)  loss_rpn_box_reg: 0.0006 (0.0011)  time: 0.2774  data: 0.0048  max mem: 1915\n",
            "Epoch: [0]  [ 80/250]  eta: 0:00:49  lr: 0.001630  loss: 0.0848 (0.1160)  loss_classifier: 0.0082 (0.0136)  loss_box_reg: 0.0023 (0.0055)  loss_mask: 0.0730 (0.0924)  loss_objectness: 0.0004 (0.0034)  loss_rpn_box_reg: 0.0007 (0.0011)  time: 0.2765  data: 0.0047  max mem: 1915\n",
            "Epoch: [0]  [ 90/250]  eta: 0:00:46  lr: 0.001830  loss: 0.0814 (0.1121)  loss_classifier: 0.0081 (0.0130)  loss_box_reg: 0.0018 (0.0051)  loss_mask: 0.0708 (0.0898)  loss_objectness: 0.0003 (0.0031)  loss_rpn_box_reg: 0.0007 (0.0010)  time: 0.2763  data: 0.0047  max mem: 1915\n",
            "Epoch: [0]  [100/250]  eta: 0:00:43  lr: 0.002031  loss: 0.0814 (0.1162)  loss_classifier: 0.0077 (0.0142)  loss_box_reg: 0.0018 (0.0056)  loss_mask: 0.0706 (0.0918)  loss_objectness: 0.0005 (0.0034)  loss_rpn_box_reg: 0.0006 (0.0012)  time: 0.2769  data: 0.0047  max mem: 1915\n",
            "Epoch: [0]  [110/250]  eta: 0:00:40  lr: 0.002232  loss: 0.0926 (0.1152)  loss_classifier: 0.0090 (0.0139)  loss_box_reg: 0.0027 (0.0054)  loss_mask: 0.0775 (0.0915)  loss_objectness: 0.0007 (0.0032)  loss_rpn_box_reg: 0.0007 (0.0012)  time: 0.2765  data: 0.0047  max mem: 1915\n",
            "Epoch: [0]  [120/250]  eta: 0:00:37  lr: 0.002432  loss: 0.0916 (0.1132)  loss_classifier: 0.0085 (0.0134)  loss_box_reg: 0.0027 (0.0052)  loss_mask: 0.0803 (0.0904)  loss_objectness: 0.0006 (0.0030)  loss_rpn_box_reg: 0.0009 (0.0012)  time: 0.2756  data: 0.0048  max mem: 1915\n",
            "Epoch: [0]  [130/250]  eta: 0:00:34  lr: 0.002633  loss: 0.0827 (0.1110)  loss_classifier: 0.0065 (0.0129)  loss_box_reg: 0.0024 (0.0050)  loss_mask: 0.0721 (0.0892)  loss_objectness: 0.0004 (0.0028)  loss_rpn_box_reg: 0.0008 (0.0011)  time: 0.2763  data: 0.0048  max mem: 1915\n",
            "Epoch: [0]  [140/250]  eta: 0:00:31  lr: 0.002833  loss: 0.0807 (0.1088)  loss_classifier: 0.0064 (0.0125)  loss_box_reg: 0.0023 (0.0048)  loss_mask: 0.0687 (0.0877)  loss_objectness: 0.0005 (0.0027)  loss_rpn_box_reg: 0.0007 (0.0011)  time: 0.2774  data: 0.0047  max mem: 1915\n",
            "Epoch: [0]  [150/250]  eta: 0:00:28  lr: 0.003034  loss: 0.0803 (0.1076)  loss_classifier: 0.0069 (0.0122)  loss_box_reg: 0.0024 (0.0047)  loss_mask: 0.0690 (0.0871)  loss_objectness: 0.0003 (0.0025)  loss_rpn_box_reg: 0.0007 (0.0011)  time: 0.2772  data: 0.0047  max mem: 1915\n",
            "Epoch: [0]  [160/250]  eta: 0:00:25  lr: 0.003235  loss: 0.0852 (0.1080)  loss_classifier: 0.0071 (0.0125)  loss_box_reg: 0.0030 (0.0048)  loss_mask: 0.0739 (0.0872)  loss_objectness: 0.0002 (0.0024)  loss_rpn_box_reg: 0.0008 (0.0011)  time: 0.2774  data: 0.0047  max mem: 1915\n",
            "Epoch: [0]  [170/250]  eta: 0:00:22  lr: 0.003435  loss: 0.0859 (0.1079)  loss_classifier: 0.0063 (0.0125)  loss_box_reg: 0.0026 (0.0049)  loss_mask: 0.0746 (0.0871)  loss_objectness: 0.0003 (0.0023)  loss_rpn_box_reg: 0.0008 (0.0011)  time: 0.2779  data: 0.0048  max mem: 1915\n",
            "Epoch: [0]  [180/250]  eta: 0:00:19  lr: 0.003636  loss: 0.0813 (0.1063)  loss_classifier: 0.0063 (0.0122)  loss_box_reg: 0.0021 (0.0047)  loss_mask: 0.0713 (0.0861)  loss_objectness: 0.0002 (0.0022)  loss_rpn_box_reg: 0.0008 (0.0011)  time: 0.2776  data: 0.0048  max mem: 1915\n",
            "Epoch: [0]  [190/250]  eta: 0:00:16  lr: 0.003837  loss: 0.0785 (0.1062)  loss_classifier: 0.0069 (0.0122)  loss_box_reg: 0.0020 (0.0048)  loss_mask: 0.0700 (0.0859)  loss_objectness: 0.0002 (0.0022)  loss_rpn_box_reg: 0.0008 (0.0011)  time: 0.2767  data: 0.0048  max mem: 1915\n",
            "Epoch: [0]  [200/250]  eta: 0:00:14  lr: 0.004037  loss: 0.0822 (0.1052)  loss_classifier: 0.0087 (0.0120)  loss_box_reg: 0.0022 (0.0046)  loss_mask: 0.0732 (0.0853)  loss_objectness: 0.0003 (0.0021)  loss_rpn_box_reg: 0.0008 (0.0011)  time: 0.2761  data: 0.0050  max mem: 1915\n",
            "Epoch: [0]  [210/250]  eta: 0:00:11  lr: 0.004238  loss: 0.0821 (0.1053)  loss_classifier: 0.0087 (0.0121)  loss_box_reg: 0.0024 (0.0047)  loss_mask: 0.0720 (0.0854)  loss_objectness: 0.0003 (0.0021)  loss_rpn_box_reg: 0.0010 (0.0011)  time: 0.2761  data: 0.0048  max mem: 1915\n",
            "Epoch: [0]  [220/250]  eta: 0:00:08  lr: 0.004438  loss: 0.0822 (0.1045)  loss_classifier: 0.0077 (0.0119)  loss_box_reg: 0.0024 (0.0046)  loss_mask: 0.0735 (0.0850)  loss_objectness: 0.0001 (0.0020)  loss_rpn_box_reg: 0.0011 (0.0011)  time: 0.2763  data: 0.0046  max mem: 1915\n",
            "Epoch: [0]  [230/250]  eta: 0:00:05  lr: 0.004639  loss: 0.0845 (0.1050)  loss_classifier: 0.0074 (0.0119)  loss_box_reg: 0.0025 (0.0046)  loss_mask: 0.0734 (0.0854)  loss_objectness: 0.0002 (0.0020)  loss_rpn_box_reg: 0.0011 (0.0011)  time: 0.2764  data: 0.0048  max mem: 1915\n",
            "Epoch: [0]  [240/250]  eta: 0:00:02  lr: 0.004840  loss: 0.0837 (0.1041)  loss_classifier: 0.0080 (0.0117)  loss_box_reg: 0.0025 (0.0045)  loss_mask: 0.0684 (0.0848)  loss_objectness: 0.0005 (0.0019)  loss_rpn_box_reg: 0.0010 (0.0011)  time: 0.2765  data: 0.0049  max mem: 1915\n",
            "Epoch: [0]  [249/250]  eta: 0:00:00  lr: 0.005000  loss: 0.0858 (0.1050)  loss_classifier: 0.0087 (0.0118)  loss_box_reg: 0.0025 (0.0046)  loss_mask: 0.0725 (0.0855)  loss_objectness: 0.0003 (0.0019)  loss_rpn_box_reg: 0.0008 (0.0011)  time: 0.2759  data: 0.0047  max mem: 1915\n",
            "Epoch: [0] Total time: 0:01:10 (0.2819 s / it)\n"
          ],
          "name": "stdout"
        }
      ]
    },
    {
      "cell_type": "markdown",
      "metadata": {
        "colab_type": "text",
        "id": "Z6mYGFLxkO8F"
      },
      "source": [
        "Now that training has finished, let's have a look at what it actually predicts in a test image"
      ]
    },
    {
      "cell_type": "markdown",
      "metadata": {
        "colab_type": "text",
        "id": "DmN602iKsuey"
      },
      "source": [
        "Printing the prediction shows that we have a list of dictionaries. Each element of the list corresponds to a different image. As we have a single image, there is a single dictionary in the list.\n",
        "The dictionary contains the predictions for the image we passed. In this case, we can see that it contains `boxes`, `labels`, `masks` and `scores` as fields."
      ]
    },
    {
      "cell_type": "markdown",
      "metadata": {
        "colab_type": "text",
        "id": "RwT21rzotFbH"
      },
      "source": [
        "Let's inspect the image and the predicted segmentation masks.\n",
        "\n",
        "For that, we need to convert the image, which has been rescaled to 0-1 and had the channels flipped so that we have it in `[C, H, W]` format."
      ]
    },
    {
      "cell_type": "code",
      "metadata": {
        "id": "Z8aHhVEv8M9n",
        "colab_type": "code",
        "colab": {}
      },
      "source": [
        "def show(index, model, threshold=0.9):\n",
        "    # pick one image from the test set\n",
        "    img, bbox = dataset_test[ind]\n",
        "    # put the model in evaluation mode\n",
        "    model.eval()\n",
        "    with torch.no_grad():\n",
        "        prediction = model([img.to(device)])\n",
        "\n",
        "    f, (ax2, ax) = plt.subplots(1, 2, sharey=True, figsize=(15, 15))\n",
        "\n",
        "    H = img.squeeze(0).numpy()\n",
        "\n",
        "    ax.set_aspect(H.shape[1]/H.shape[0])\n",
        "    ax2.set_aspect(H.shape[1]/H.shape[0])\n",
        "\n",
        "    ax.title.set_text('NN response')\n",
        "    ax2.title.set_text('Real data')\n",
        "\n",
        "    masks = prediction[0]['masks'][prediction[0]['scores']>threshold]\n",
        "    bboxes = prediction[0]['boxes'][prediction[0]['scores']>threshold]\n",
        "    scores = prediction[0]['scores'][prediction[0]['scores']>threshold]\n",
        "\n",
        "    mask_expected = bbox['masks'][0].numpy()\n",
        "\n",
        "    xedges = np.linspace(0, H.shape[0], H.shape[0])\n",
        "    yedges = np.linspace(0, H.shape[1], H.shape[1])\n",
        "    Xg, Yg = np.meshgrid(xedges, yedges)\n",
        "\n",
        "    for a in (ax, ax2):\n",
        "      a.title.set_size(20)\n",
        "      a.set_axis_off()\n",
        "      a.pcolormesh(Xg, Yg, H, cmap='gray')\n",
        "\n",
        "    for mask,bbox,score in zip(masks,bboxes,scores):\n",
        "        m = mask[0].cpu().numpy()\n",
        "        b = bbox.cpu().numpy()\n",
        "        ax.pcolormesh(Xg, Yg, m, cmap='gnuplot2', alpha=0.3)\n",
        "        ax.add_patch(Rectangle((b[0], b[1]), b[2]-b[0], b[3]-b[1], ec='r', fc='none'))\n",
        "        ax.annotate(f'Score: {score.item():.2f}', (b[0], b[3]+1), color='r', size=16)\n",
        "\n",
        "    ax2.pcolormesh(Xg, Yg, mask_expected, cmap='gnuplot', alpha=0.1)"
      ],
      "execution_count": 0,
      "outputs": []
    },
    {
      "cell_type": "code",
      "metadata": {
        "id": "NaDegU-A8Wjb",
        "colab_type": "code",
        "outputId": "1e264b02-223c-4a2d-f1d8-c90f8b5ac2df",
        "colab": {
          "base_uri": "https://localhost:8080/",
          "height": 432
        }
      },
      "source": [
        "ind = random.randint(0, len(dataset_test)-1)\n",
        "show(ind, model, 0.5)"
      ],
      "execution_count": 41,
      "outputs": [
        {
          "output_type": "display_data",
          "data": {
            "image/png": "[encoded data removed]",
            "text/plain": [
              "<Figure size 1080x1080 with 2 Axes>"
            ]
          },
          "metadata": {
            "tags": []
          }
        }
      ]
    },
    {
      "cell_type": "markdown",
      "metadata": {
        "id": "BJ7Jt3Wz-vgR",
        "colab_type": "text"
      },
      "source": [
        "##Save entire model ([guide](https://pytorch.org/tutorials/beginner/saving_loading_models.html))"
      ]
    },
    {
      "cell_type": "code",
      "metadata": {
        "id": "KiupVS063Aig",
        "colab_type": "code",
        "colab": {}
      },
      "source": [
        "torch.save(model, '../data/CirclesNN_310320.pth')"
      ],
      "execution_count": 0,
      "outputs": []
    }
  ]
}