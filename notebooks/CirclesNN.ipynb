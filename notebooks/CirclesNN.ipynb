{
  "nbformat": 4,
  "nbformat_minor": 0,
  "metadata": {
    "accelerator": "GPU",
    "colab": {
      "name": "Circles_baseline_np.ipynb",
      "provenance": [],
      "collapsed_sections": []
    },
    "kernelspec": {
      "display_name": "Python 3",
      "language": "python",
      "name": "python3"
    },
    "language_info": {
      "codemirror_mode": {
        "name": "ipython",
        "version": 3
      },
      "file_extension": ".py",
      "mimetype": "text/x-python",
      "name": "python",
      "nbconvert_exporter": "python",
      "pygments_lexer": "ipython3",
      "version": "3.6.4"
    },
    "widgets": {
      "application/vnd.jupyter.widget-state+json": {
        "228fa38999c148eb84a769878296eed1": {
          "model_module": "@jupyter-widgets/controls",
          "model_name": "HBoxModel",
          "state": {
            "_view_name": "HBoxView",
            "_dom_classes": [],
            "_model_name": "HBoxModel",
            "_view_module": "@jupyter-widgets/controls",
            "_model_module_version": "1.5.0",
            "_view_count": null,
            "_view_module_version": "1.5.0",
            "box_style": "",
            "layout": "IPY_MODEL_83489174f5c64fa697b3dc9af0996622",
            "_model_module": "@jupyter-widgets/controls",
            "children": [
              "IPY_MODEL_8c91ba04bf344bbf9acc52f4f90f3222",
              "IPY_MODEL_2d2b2560f730466482df332753f248e9"
            ]
          }
        },
        "83489174f5c64fa697b3dc9af0996622": {
          "model_module": "@jupyter-widgets/base",
          "model_name": "LayoutModel",
          "state": {
            "_view_name": "LayoutView",
            "grid_template_rows": null,
            "right": null,
            "justify_content": null,
            "_view_module": "@jupyter-widgets/base",
            "overflow": null,
            "_model_module_version": "1.2.0",
            "_view_count": null,
            "flex_flow": null,
            "width": null,
            "min_width": null,
            "border": null,
            "align_items": null,
            "bottom": null,
            "_model_module": "@jupyter-widgets/base",
            "top": null,
            "grid_column": null,
            "overflow_y": null,
            "overflow_x": null,
            "grid_auto_flow": null,
            "grid_area": null,
            "grid_template_columns": null,
            "flex": null,
            "_model_name": "LayoutModel",
            "justify_items": null,
            "grid_row": null,
            "max_height": null,
            "align_content": null,
            "visibility": null,
            "align_self": null,
            "height": null,
            "min_height": null,
            "padding": null,
            "grid_auto_rows": null,
            "grid_gap": null,
            "max_width": null,
            "order": null,
            "_view_module_version": "1.2.0",
            "grid_template_areas": null,
            "object_position": null,
            "object_fit": null,
            "grid_auto_columns": null,
            "margin": null,
            "display": null,
            "left": null
          }
        },
        "8c91ba04bf344bbf9acc52f4f90f3222": {
          "model_module": "@jupyter-widgets/controls",
          "model_name": "IntProgressModel",
          "state": {
            "_view_name": "ProgressView",
            "style": "IPY_MODEL_278fbbe49522444f9d7996314f128c19",
            "_dom_classes": [],
            "description": "100%",
            "_model_name": "IntProgressModel",
            "bar_style": "success",
            "max": 178090079,
            "_view_module": "@jupyter-widgets/controls",
            "_model_module_version": "1.5.0",
            "value": 178090079,
            "_view_count": null,
            "_view_module_version": "1.5.0",
            "orientation": "horizontal",
            "min": 0,
            "description_tooltip": null,
            "_model_module": "@jupyter-widgets/controls",
            "layout": "IPY_MODEL_eff71143a4624f419a0f384ae412cf8e"
          }
        },
        "2d2b2560f730466482df332753f248e9": {
          "model_module": "@jupyter-widgets/controls",
          "model_name": "HTMLModel",
          "state": {
            "_view_name": "HTMLView",
            "style": "IPY_MODEL_a07f32a225bf4cb494c99be4de599111",
            "_dom_classes": [],
            "description": "",
            "_model_name": "HTMLModel",
            "placeholder": "​",
            "_view_module": "@jupyter-widgets/controls",
            "_model_module_version": "1.5.0",
            "value": " 170M/170M [00:09&lt;00:00, 18.5MB/s]",
            "_view_count": null,
            "_view_module_version": "1.5.0",
            "description_tooltip": null,
            "_model_module": "@jupyter-widgets/controls",
            "layout": "IPY_MODEL_f5c60e9f36b64ec1977889e0c76979fb"
          }
        },
        "278fbbe49522444f9d7996314f128c19": {
          "model_module": "@jupyter-widgets/controls",
          "model_name": "ProgressStyleModel",
          "state": {
            "_view_name": "StyleView",
            "_model_name": "ProgressStyleModel",
            "description_width": "initial",
            "_view_module": "@jupyter-widgets/base",
            "_model_module_version": "1.5.0",
            "_view_count": null,
            "_view_module_version": "1.2.0",
            "bar_color": null,
            "_model_module": "@jupyter-widgets/controls"
          }
        },
        "eff71143a4624f419a0f384ae412cf8e": {
          "model_module": "@jupyter-widgets/base",
          "model_name": "LayoutModel",
          "state": {
            "_view_name": "LayoutView",
            "grid_template_rows": null,
            "right": null,
            "justify_content": null,
            "_view_module": "@jupyter-widgets/base",
            "overflow": null,
            "_model_module_version": "1.2.0",
            "_view_count": null,
            "flex_flow": null,
            "width": null,
            "min_width": null,
            "border": null,
            "align_items": null,
            "bottom": null,
            "_model_module": "@jupyter-widgets/base",
            "top": null,
            "grid_column": null,
            "overflow_y": null,
            "overflow_x": null,
            "grid_auto_flow": null,
            "grid_area": null,
            "grid_template_columns": null,
            "flex": null,
            "_model_name": "LayoutModel",
            "justify_items": null,
            "grid_row": null,
            "max_height": null,
            "align_content": null,
            "visibility": null,
            "align_self": null,
            "height": null,
            "min_height": null,
            "padding": null,
            "grid_auto_rows": null,
            "grid_gap": null,
            "max_width": null,
            "order": null,
            "_view_module_version": "1.2.0",
            "grid_template_areas": null,
            "object_position": null,
            "object_fit": null,
            "grid_auto_columns": null,
            "margin": null,
            "display": null,
            "left": null
          }
        },
        "a07f32a225bf4cb494c99be4de599111": {
          "model_module": "@jupyter-widgets/controls",
          "model_name": "DescriptionStyleModel",
          "state": {
            "_view_name": "StyleView",
            "_model_name": "DescriptionStyleModel",
            "description_width": "",
            "_view_module": "@jupyter-widgets/base",
            "_model_module_version": "1.5.0",
            "_view_count": null,
            "_view_module_version": "1.2.0",
            "_model_module": "@jupyter-widgets/controls"
          }
        },
        "f5c60e9f36b64ec1977889e0c76979fb": {
          "model_module": "@jupyter-widgets/base",
          "model_name": "LayoutModel",
          "state": {
            "_view_name": "LayoutView",
            "grid_template_rows": null,
            "right": null,
            "justify_content": null,
            "_view_module": "@jupyter-widgets/base",
            "overflow": null,
            "_model_module_version": "1.2.0",
            "_view_count": null,
            "flex_flow": null,
            "width": null,
            "min_width": null,
            "border": null,
            "align_items": null,
            "bottom": null,
            "_model_module": "@jupyter-widgets/base",
            "top": null,
            "grid_column": null,
            "overflow_y": null,
            "overflow_x": null,
            "grid_auto_flow": null,
            "grid_area": null,
            "grid_template_columns": null,
            "flex": null,
            "_model_name": "LayoutModel",
            "justify_items": null,
            "grid_row": null,
            "max_height": null,
            "align_content": null,
            "visibility": null,
            "align_self": null,
            "height": null,
            "min_height": null,
            "padding": null,
            "grid_auto_rows": null,
            "grid_gap": null,
            "max_width": null,
            "order": null,
            "_view_module_version": "1.2.0",
            "grid_template_areas": null,
            "object_position": null,
            "object_fit": null,
            "grid_auto_columns": null,
            "margin": null,
            "display": null,
            "left": null
          }
        }
      }
    }
  },
  "cells": [
    {
      "cell_type": "code",
      "metadata": {
        "id": "mfpDKqEfCMrE",
        "colab_type": "code",
        "outputId": "9ef48afc-644c-416f-8875-bb2270f3426f",
        "colab": {
          "base_uri": "https://localhost:8080/",
          "height": 130
        }
      },
      "source": [
        "from google.colab import drive\n",
        "drive.mount('/content/drive')"
      ],
      "execution_count": 1,
      "outputs": [
        {
          "output_type": "stream",
          "text": [
            "Go to this URL in a browser: https://accounts.google.com/o/oauth2/auth?client_id=947318989803-6bn6qk8qdgf4n4g3pfee6491hc0brc4i.apps.googleusercontent.com&redirect_uri=urn%3aietf%3awg%3aoauth%3a2.0%3aoob&response_type=code&scope=email%20https%3a%2f%2fwww.googleapis.com%2fauth%2fdocs.test%20https%3a%2f%2fwww.googleapis.com%2fauth%2fdrive%20https%3a%2f%2fwww.googleapis.com%2fauth%2fdrive.photos.readonly%20https%3a%2f%2fwww.googleapis.com%2fauth%2fpeopleapi.readonly\n",
            "\n",
            "Enter your authorization code:\n",
            "··········\n",
            "Mounted at /content/drive\n"
          ],
          "name": "stdout"
        }
      ]
    },
    {
      "cell_type": "code",
      "metadata": {
        "id": "icK6bEPKArJ7",
        "colab_type": "code",
        "outputId": "e0851677-c7d0-4b67-cd1d-d1d3663ba10b",
        "colab": {
          "base_uri": "https://localhost:8080/",
          "height": 36
        }
      },
      "source": [
        "%pwd\n",
        "%cd /content/drive/Shared drives/ML\\&HEP/Notebooks"
      ],
      "execution_count": 2,
      "outputs": [
        {
          "output_type": "stream",
          "text": [
            "/content/drive/Shared drives/ML&HEP/Notebooks\n"
          ],
          "name": "stdout"
        }
      ]
    },
    {
      "cell_type": "code",
      "metadata": {
        "colab_type": "code",
        "id": "DBIoe_tHTQgV",
        "outputId": "581895b6-f2c5-4bdd-873a-11474a5072df",
        "colab": {
          "base_uri": "https://localhost:8080/",
          "height": 1000
        }
      },
      "source": [
        "%%shell\n",
        "\n",
        "# Install pycocotools\n",
        "git clone https://github.com/cocodataset/cocoapi.git\n",
        "cd cocoapi/PythonAPI\n",
        "python setup.py build_ext install -q\n",
        "\n",
        "# Download TorchVision repo to use some files from\n",
        "# references/detection\n",
        "git clone https://github.com/pytorch/vision.git\n",
        "cd vision\n",
        "git checkout v0.3.0\n",
        "\n",
        "cp references/detection/utils.py ../\n",
        "cp references/detection/transforms.py ../\n",
        "cp references/detection/coco_eval.py ../\n",
        "cp references/detection/engine.py ../\n",
        "cp references/detection/coco_utils.py ../"
      ],
      "execution_count": 3,
      "outputs": [
        {
          "output_type": "stream",
          "text": [
            "fatal: destination path 'cocoapi' already exists and is not an empty directory.\n",
            "running build_ext\n",
            "skipping 'pycocotools/_mask.c' Cython extension (up-to-date)\n",
            "running install\n",
            "running bdist_egg\n",
            "running egg_info\n",
            "writing pycocotools.egg-info/PKG-INFO\n",
            "writing dependency_links to pycocotools.egg-info/dependency_links.txt\n",
            "writing requirements to pycocotools.egg-info/requires.txt\n",
            "writing top-level names to pycocotools.egg-info/top_level.txt\n",
            "writing manifest file 'pycocotools.egg-info/SOURCES.txt'\n",
            "installing library code to build/bdist.linux-x86_64/egg\n",
            "running install_lib\n",
            "running build_py\n",
            "creating build/bdist.linux-x86_64/egg\n",
            "creating build/bdist.linux-x86_64/egg/pycocotools\n",
            "copying build/lib.linux-x86_64-3.6/pycocotools/mask.py -> build/bdist.linux-x86_64/egg/pycocotools\n",
            "copying build/lib.linux-x86_64-3.6/pycocotools/cocoeval.py -> build/bdist.linux-x86_64/egg/pycocotools\n",
            "copying build/lib.linux-x86_64-3.6/pycocotools/coco.py -> build/bdist.linux-x86_64/egg/pycocotools\n",
            "copying build/lib.linux-x86_64-3.6/pycocotools/__init__.py -> build/bdist.linux-x86_64/egg/pycocotools\n",
            "copying build/lib.linux-x86_64-3.6/pycocotools/_mask.cpython-36m-x86_64-linux-gnu.so -> build/bdist.linux-x86_64/egg/pycocotools\n",
            "byte-compiling build/bdist.linux-x86_64/egg/pycocotools/mask.py to mask.cpython-36.pyc\n",
            "byte-compiling build/bdist.linux-x86_64/egg/pycocotools/cocoeval.py to cocoeval.cpython-36.pyc\n",
            "byte-compiling build/bdist.linux-x86_64/egg/pycocotools/coco.py to coco.cpython-36.pyc\n",
            "byte-compiling build/bdist.linux-x86_64/egg/pycocotools/__init__.py to __init__.cpython-36.pyc\n",
            "creating stub loader for pycocotools/_mask.cpython-36m-x86_64-linux-gnu.so\n",
            "byte-compiling build/bdist.linux-x86_64/egg/pycocotools/_mask.py to _mask.cpython-36.pyc\n",
            "creating build/bdist.linux-x86_64/egg/EGG-INFO\n",
            "copying pycocotools.egg-info/PKG-INFO -> build/bdist.linux-x86_64/egg/EGG-INFO\n",
            "copying pycocotools.egg-info/SOURCES.txt -> build/bdist.linux-x86_64/egg/EGG-INFO\n",
            "copying pycocotools.egg-info/dependency_links.txt -> build/bdist.linux-x86_64/egg/EGG-INFO\n",
            "copying pycocotools.egg-info/requires.txt -> build/bdist.linux-x86_64/egg/EGG-INFO\n",
            "copying pycocotools.egg-info/top_level.txt -> build/bdist.linux-x86_64/egg/EGG-INFO\n",
            "writing build/bdist.linux-x86_64/egg/EGG-INFO/native_libs.txt\n",
            "zip_safe flag not set; analyzing archive contents...\n",
            "pycocotools.__pycache__._mask.cpython-36: module references __file__\n",
            "creating 'dist/pycocotools-2.0-py3.6-linux-x86_64.egg' and adding 'build/bdist.linux-x86_64/egg' to it\n",
            "removing 'build/bdist.linux-x86_64/egg' (and everything under it)\n",
            "Processing pycocotools-2.0-py3.6-linux-x86_64.egg\n",
            "creating /usr/local/lib/python3.6/dist-packages/pycocotools-2.0-py3.6-linux-x86_64.egg\n",
            "Extracting pycocotools-2.0-py3.6-linux-x86_64.egg to /usr/local/lib/python3.6/dist-packages\n",
            "Adding pycocotools 2.0 to easy-install.pth file\n",
            "\n",
            "Installed /usr/local/lib/python3.6/dist-packages/pycocotools-2.0-py3.6-linux-x86_64.egg\n",
            "Processing dependencies for pycocotools==2.0\n",
            "Searching for matplotlib==3.2.1\n",
            "Best match: matplotlib 3.2.1\n",
            "Adding matplotlib 3.2.1 to easy-install.pth file\n",
            "\n",
            "Using /usr/local/lib/python3.6/dist-packages\n",
            "Searching for Cython==0.29.15\n",
            "Best match: Cython 0.29.15\n",
            "Adding Cython 0.29.15 to easy-install.pth file\n",
            "Installing cygdb script to /usr/local/bin\n",
            "Installing cython script to /usr/local/bin\n",
            "Installing cythonize script to /usr/local/bin\n",
            "\n",
            "Using /usr/local/lib/python3.6/dist-packages\n",
            "Searching for setuptools==46.0.0\n",
            "Best match: setuptools 46.0.0\n",
            "Adding setuptools 46.0.0 to easy-install.pth file\n",
            "Installing easy_install script to /usr/local/bin\n",
            "Installing easy_install-3.8 script to /usr/local/bin\n",
            "\n",
            "Using /usr/local/lib/python3.6/dist-packages\n",
            "Searching for kiwisolver==1.1.0\n",
            "Best match: kiwisolver 1.1.0\n",
            "Adding kiwisolver 1.1.0 to easy-install.pth file\n",
            "\n",
            "Using /usr/local/lib/python3.6/dist-packages\n",
            "Searching for python-dateutil==2.8.1\n",
            "Best match: python-dateutil 2.8.1\n",
            "Adding python-dateutil 2.8.1 to easy-install.pth file\n",
            "\n",
            "Using /usr/local/lib/python3.6/dist-packages\n",
            "Searching for cycler==0.10.0\n",
            "Best match: cycler 0.10.0\n",
            "Adding cycler 0.10.0 to easy-install.pth file\n",
            "\n",
            "Using /usr/local/lib/python3.6/dist-packages\n",
            "Searching for numpy==1.18.2\n",
            "Best match: numpy 1.18.2\n",
            "Adding numpy 1.18.2 to easy-install.pth file\n",
            "Installing f2py script to /usr/local/bin\n",
            "Installing f2py3 script to /usr/local/bin\n",
            "Installing f2py3.6 script to /usr/local/bin\n",
            "\n",
            "Using /usr/local/lib/python3.6/dist-packages\n",
            "Searching for pyparsing==2.4.6\n",
            "Best match: pyparsing 2.4.6\n",
            "Adding pyparsing 2.4.6 to easy-install.pth file\n",
            "\n",
            "Using /usr/local/lib/python3.6/dist-packages\n",
            "Searching for six==1.12.0\n",
            "Best match: six 1.12.0\n",
            "Adding six 1.12.0 to easy-install.pth file\n",
            "\n",
            "Using /usr/local/lib/python3.6/dist-packages\n",
            "Finished processing dependencies for pycocotools==2.0\n"
          ],
          "name": "stdout"
        },
        {
          "output_type": "execute_result",
          "data": {
            "text/plain": [
              ""
            ]
          },
          "metadata": {
            "tags": []
          },
          "execution_count": 3
        }
      ]
    },
    {
      "cell_type": "markdown",
      "metadata": {
        "colab_type": "text",
        "id": "5Sd4jlGp2eLm"
      },
      "source": [
        "## Defining the Dataset\n",
        "\n",
        "The [torchvision reference scripts for training object detection, instance segmentation and person keypoint detection](https://github.com/pytorch/vision/tree/v0.3.0/references/detection) allows for easily supporting adding new custom datasets.\n",
        "The dataset should inherit from the standard `torch.utils.data.Dataset` class, and implement `__len__` and `__getitem__`.\n",
        "\n",
        "The only specificity that we require is that the dataset `__getitem__` should return:\n",
        "\n",
        "* image: a PIL Image of size (H, W)\n",
        "* target: a dict containing the following fields\n",
        "    * `boxes` (`FloatTensor[N, 4]`): the coordinates of the `N` bounding boxes in `[x0, y0, x1, y1]` format, ranging from `0` to `W` and `0` to `H`\n",
        "    * `labels` (`Int64Tensor[N]`): the label for each bounding box\n",
        "    * `image_id` (`Int64Tensor[1]`): an image identifier. It should be unique between all the images in the dataset, and is used during evaluation\n",
        "    * `area` (`Tensor[N]`): The area of the bounding box. This is used during evaluation with the COCO metric, to separate the metric scores between small, medium and large boxes.\n",
        "    * `iscrowd` (`UInt8Tensor[N]`): instances with `iscrowd=True` will be ignored during evaluation.\n",
        "    * (optionally) `masks` (`UInt8Tensor[N, H, W]`): The segmentation masks for each one of the objects\n",
        "    * (optionally) `keypoints` (`FloatTensor[N, K, 3]`): For each one of the `N` objects, it contains the `K` keypoints in `[x, y, visibility]` format, defining the object. `visibility=0` means that the keypoint is not visible. Note that for data augmentation, the notion of flipping a keypoint is dependent on the data representation, and you should probably adapt `references/detection/transforms.py` for your new keypoint representation\n",
        "\n",
        "If your model returns the above methods, they will make it work for both training and evaluation, and will use the evaluation scripts from pycocotools.\n",
        "\n",
        "Additionally, if you want to use aspect ratio grouping during training (so that each batch only contains images with similar aspect ratio), then it is recommended to also implement a `get_height_and_width` method, which returns the height and the width of the image. If this method is not provided, we query all elements of the dataset via `__getitem__` , which loads the image in memory and is slower than if a custom method is provided.\n"
      ]
    },
    {
      "cell_type": "markdown",
      "metadata": {
        "id": "GfJL7i6fLRd5",
        "colab_type": "text"
      },
      "source": [
        "Теперь посмотрим на наш датасет, сохраненный в data/dataset.pkl"
      ]
    },
    {
      "cell_type": "code",
      "metadata": {
        "id": "Ekj-1Vo7K84P",
        "colab_type": "code",
        "outputId": "5661b211-1813-4d1d-ad19-e79c00730412",
        "colab": {
          "base_uri": "https://localhost:8080/",
          "height": 36
        }
      },
      "source": [
        "%pwd\n",
        "%ls ../data/dataset_circles_boards.pkl\n",
        "import pickle\n",
        "with open(\"../data/dataset_circles_boards.pkl\", \"rb\") as f:\n",
        "    H_res, h_res, mask_res = pickle.load(f)"
      ],
      "execution_count": 4,
      "outputs": [
        {
          "output_type": "stream",
          "text": [
            "../data/dataset_circles_boards.pkl\n"
          ],
          "name": "stdout"
        }
      ]
    },
    {
      "cell_type": "code",
      "metadata": {
        "id": "zbXfYWVVK87f",
        "colab_type": "code",
        "colab": {}
      },
      "source": [
        "import matplotlib.pyplot as plt\n",
        "import pandas as pd\n",
        "import numpy as np\n",
        "from matplotlib.patches import Ellipse, Circle, Rectangle\n",
        "\n",
        "%matplotlib inline"
      ],
      "execution_count": 0,
      "outputs": []
    },
    {
      "cell_type": "code",
      "metadata": {
        "id": "Rzk5vNKNK8_F",
        "colab_type": "code",
        "outputId": "24ecabe8-178f-4814-b10a-4d0d599971e4",
        "colab": {
          "base_uri": "https://localhost:8080/",
          "height": 431
        }
      },
      "source": [
        "loc_ind = 1390\n",
        "num_of_circles = 1\n",
        "xv = h_res[loc_ind][num_of_circles-1][0]\n",
        "yv = h_res[loc_ind][num_of_circles-1][1]\n",
        "r = h_res[loc_ind][num_of_circles-1][2]\n",
        "\n",
        "fig = plt.figure(frameon=False, figsize=(5, 5) )\n",
        "\n",
        "H = H_res[loc_ind].toarray()\n",
        "ax = plt.Axes(fig, [0., 0., 1., (H.shape[1]/H.shape[0])])\n",
        "# ax.set_axis_off()\n",
        "fig.add_axes(ax)\n",
        "\n",
        "xedges = np.linspace(0, H.shape[0], H.shape[0])\n",
        "yedges = np.linspace(0, H.shape[1], H.shape[1])\n",
        "Xg, Yg = np.meshgrid(xedges, yedges)\n",
        "e = Circle(xy=(xv, yv), radius=r, linewidth=2, fill=False, edgecolor='green', alpha=0.5)\n",
        "ax.pcolormesh(Xg, Yg, H, cmap='gray')\n",
        "ax.pcolormesh(Xg, Yg, mask_res[loc_ind][0].toarray(), cmap='gray', alpha=0.2)\n",
        "ax.add_artist(e)\n",
        "plt.scatter(xv, yv, marker='+', s=150)"
      ],
      "execution_count": 6,
      "outputs": [
        {
          "output_type": "execute_result",
          "data": {
            "text/plain": [
              "<matplotlib.collections.PathCollection at 0x7fc9c90cf9e8>"
            ]
          },
          "metadata": {
            "tags": []
          },
          "execution_count": 6
        },
        {
          "output_type": "display_data",
          "data": {
            "image/png": "[encoded data removed]",
            "text/plain": [
              "<Figure size 360x360 with 1 Axes>"
            ]
          },
          "metadata": {
            "tags": []
          }
        }
      ]
    },
    {
      "cell_type": "code",
      "metadata": {
        "id": "_oM5Pa1ZNroU",
        "colab_type": "code",
        "colab": {}
      },
      "source": [
        "import torch\n",
        "import torch.utils.data\n",
        "\n",
        "class DataLoader(torch.utils.data.Dataset):\n",
        "    def __init__(self):\n",
        "        with open(\"../data/dataset_circles_boards.pkl\", \"rb\") as f:\n",
        "            H_res, h_res, mask_res = pickle.load(f)\n",
        "        self.H = H_res\n",
        "        self.h = h_res\n",
        "        self.mask = mask_res\n",
        "    \n",
        "    def __getitem__(self, index):\n",
        "        H_res = self.H\n",
        "        h_res = self.h\n",
        "        mask_res = self.mask\n",
        "\n",
        "        img = torch.FloatTensor( H_res[index].toarray() ).unsqueeze(0)\n",
        "\n",
        "        n_circles = len(h_res[index])\n",
        "        x = h_res[index][:,0]\n",
        "        y = h_res[index][:,1]\n",
        "        r = h_res[index][:,2]\n",
        "        boxes = torch.FloatTensor( np.vstack( (x - 1.1*r, y - 1.1*r, x + 1.1*r, y + 1.1*r) ).T )\n",
        "        labels = torch.ones(n_circles, dtype=torch.int64)\n",
        "        masks = torch.FloatTensor( [ mask.toarray() for mask in mask_res[index]] )\n",
        "        image_id = torch.LongTensor([index])\n",
        "        area = (boxes[:,3] - boxes[:,1])*(boxes[:,2] - boxes[:,0])\n",
        "        iscrowd = torch.ones(n_circles, dtype=torch.int64)\n",
        "\n",
        "        target = {}\n",
        "        target[\"boxes\"] = boxes\n",
        "        target[\"labels\"] = labels\n",
        "        target[\"masks\"] = masks\n",
        "        target[\"image_id\"] = image_id\n",
        "        target[\"area\"] = area\n",
        "        target[\"iscrowd\"] = iscrowd\n",
        "\n",
        "        return img, target\n",
        "    \n",
        "    def __len__(self):\n",
        "        return len(self.H)"
      ],
      "execution_count": 0,
      "outputs": []
    },
    {
      "cell_type": "code",
      "metadata": {
        "id": "p2uu7LlvPnr3",
        "colab_type": "code",
        "outputId": "07950652-e9d5-4898-f541-751908baca97",
        "colab": {
          "base_uri": "https://localhost:8080/",
          "height": 370
        }
      },
      "source": [
        "dataset = DataLoader()\n",
        "dataset[0]"
      ],
      "execution_count": 8,
      "outputs": [
        {
          "output_type": "execute_result",
          "data": {
            "text/plain": [
              "(tensor([[[0., 0., 0.,  ..., 0., 0., 0.],\n",
              "          [0., 0., 0.,  ..., 0., 0., 0.],\n",
              "          [0., 0., 0.,  ..., 0., 0., 0.],\n",
              "          ...,\n",
              "          [0., 0., 0.,  ..., 0., 0., 0.],\n",
              "          [0., 0., 0.,  ..., 0., 0., 0.],\n",
              "          [0., 0., 0.,  ..., 0., 0., 0.]]]),\n",
              " {'area': tensor([948.6402]),\n",
              "  'boxes': tensor([[55.6000, 32.6000, 86.4000, 63.4000]]),\n",
              "  'image_id': tensor([0]),\n",
              "  'iscrowd': tensor([1]),\n",
              "  'labels': tensor([1]),\n",
              "  'masks': tensor([[[0., 0., 0.,  ..., 0., 0., 0.],\n",
              "           [0., 0., 0.,  ..., 0., 0., 0.],\n",
              "           [0., 0., 0.,  ..., 0., 0., 0.],\n",
              "           ...,\n",
              "           [0., 0., 0.,  ..., 0., 0., 0.],\n",
              "           [0., 0., 0.,  ..., 0., 0., 0.],\n",
              "           [0., 0., 0.,  ..., 0., 0., 0.]]])})"
            ]
          },
          "metadata": {
            "tags": []
          },
          "execution_count": 8
        }
      ]
    },
    {
      "cell_type": "markdown",
      "metadata": {
        "colab_type": "text",
        "id": "RoAEkUgn4uEq"
      },
      "source": [
        "## Defining your model\n",
        "\n",
        "### Finetuning from a pretrained model\n",
        "\n",
        "Let's suppose that you want to start from a model pre-trained on COCO and want to finetune it for your particular classes.\n"
      ]
    },
    {
      "cell_type": "code",
      "metadata": {
        "id": "v7zfKrS1wHYU",
        "colab_type": "code",
        "outputId": "490284cb-a67a-4214-fc0e-00778c711837",
        "colab": {
          "base_uri": "https://localhost:8080/",
          "height": 86,
          "referenced_widgets": [
            "228fa38999c148eb84a769878296eed1",
            "83489174f5c64fa697b3dc9af0996622",
            "8c91ba04bf344bbf9acc52f4f90f3222",
            "2d2b2560f730466482df332753f248e9",
            "278fbbe49522444f9d7996314f128c19",
            "eff71143a4624f419a0f384ae412cf8e",
            "a07f32a225bf4cb494c99be4de599111",
            "f5c60e9f36b64ec1977889e0c76979fb"
          ]
        }
      },
      "source": [
        "import torchvision\n",
        "import math\n",
        "import random\n",
        "from torchvision.models.detection.faster_rcnn import FastRCNNPredictor\n",
        "from torchvision.models.detection.mask_rcnn import MaskRCNNPredictor\n",
        "\n",
        "#get_instance_segmentation_model(num_classes)\n",
        "num_classes = 2\n",
        "model = torchvision.models.detection.maskrcnn_resnet50_fpn(pretrained=True)\n",
        "in_features = model.roi_heads.box_predictor.cls_score.in_features\n",
        "model.roi_heads.box_predictor = FastRCNNPredictor(in_features, num_classes)\n",
        "in_features_mask = model.roi_heads.mask_predictor.conv5_mask.in_channels\n",
        "hidden_layer = 256\n",
        "model.roi_heads.mask_predictor = MaskRCNNPredictor(in_features_mask, hidden_layer, num_classes)"
      ],
      "execution_count": 9,
      "outputs": [
        {
          "output_type": "stream",
          "text": [
            "Downloading: \"https://download.pytorch.org/models/maskrcnn_resnet50_fpn_coco-bf2d0c1e.pth\" to /root/.cache/torch/checkpoints/maskrcnn_resnet50_fpn_coco-bf2d0c1e.pth\n"
          ],
          "name": "stderr"
        },
        {
          "output_type": "display_data",
          "data": {
            "application/vnd.jupyter.widget-view+json": {
              "model_id": "228fa38999c148eb84a769878296eed1",
              "version_minor": 0,
              "version_major": 2
            },
            "text/plain": [
              "HBox(children=(IntProgress(value=0, max=178090079), HTML(value='')))"
            ]
          },
          "metadata": {
            "tags": []
          }
        },
        {
          "output_type": "stream",
          "text": [
            "\n"
          ],
          "name": "stdout"
        }
      ]
    },
    {
      "cell_type": "markdown",
      "metadata": {
        "colab_type": "text",
        "id": "-WXLwePV5ieP"
      },
      "source": [
        "That's it, this will make model be ready to be trained and evaluated on our custom dataset.\n",
        "\n",
        "## Training and evaluation functions\n",
        "\n",
        "In `references/detection/,` we have a number of helper functions to simplify training and evaluating detection models.\n",
        "Here, we will use `references/detection/engine.py`, `references/detection/utils.py` and `references/detection/transforms.py`.\n",
        "\n",
        "Let's copy those files (and their dependencies) in here so that they are available in the notebook"
      ]
    },
    {
      "cell_type": "markdown",
      "metadata": {
        "colab_type": "text",
        "id": "2u9e_pdv54nG"
      },
      "source": [
        "\n",
        "\n",
        "Let's write some helper functions for data augmentation / transformation, which leverages the functions in `refereces/detection` that we have just copied:\n"
      ]
    },
    {
      "cell_type": "code",
      "metadata": {
        "id": "vEA0F0N3zcjY",
        "colab_type": "code",
        "colab": {}
      },
      "source": [
        "import utils"
      ],
      "execution_count": 0,
      "outputs": []
    },
    {
      "cell_type": "code",
      "metadata": {
        "id": "ylN0IAYJybNf",
        "colab_type": "code",
        "colab": {}
      },
      "source": [
        "def train_one_epoch(model, optimizer, data_loader, device, epoch, print_freq):\n",
        "    model.train(mode=True)\n",
        "    metric_logger = utils.MetricLogger(delimiter=\"  \")\n",
        "    metric_logger.add_meter('lr', utils.SmoothedValue(window_size=1, fmt='{value:.6f}'))\n",
        "    header = 'Epoch: [{}]'.format(epoch)\n",
        "\n",
        "    lr_scheduler = None\n",
        "    if epoch == 0:\n",
        "        warmup_factor = 1. / 1000\n",
        "        warmup_iters = min(1000, len(data_loader) - 1)\n",
        "\n",
        "        lr_scheduler = utils.warmup_lr_scheduler(optimizer, warmup_iters, warmup_factor)\n",
        "\n",
        "    for images, targets in metric_logger.log_every(data_loader, print_freq, header):\n",
        "        images = list(image.to(device) for image in images)\n",
        "        targets = [{k: v.to(device) for k, v in t.items()} for t in targets]\n",
        "\n",
        "        loss_dict = model(images, targets)\n",
        "\n",
        "        losses = sum(loss for loss in loss_dict.values())\n",
        "\n",
        "        # reduce losses over all GPUs for logging purposes\n",
        "        loss_dict_reduced = utils.reduce_dict(loss_dict)\n",
        "        losses_reduced = sum(loss for loss in loss_dict_reduced.values())\n",
        "\n",
        "        loss_value = losses_reduced.item()\n",
        "\n",
        "        if not math.isfinite(loss_value):\n",
        "            print(\"Loss is {}, stopping training\".format(loss_value))\n",
        "            print(loss_dict_reduced)\n",
        "            sys.exit(1)\n",
        "\n",
        "        optimizer.zero_grad()\n",
        "        losses.backward()\n",
        "        optimizer.step()\n",
        "\n",
        "        if lr_scheduler is not None:\n",
        "            lr_scheduler.step()\n",
        "\n",
        "        metric_logger.update(loss=losses_reduced, **loss_dict_reduced)\n",
        "        metric_logger.update(lr=optimizer.param_groups[0][\"lr\"])"
      ],
      "execution_count": 0,
      "outputs": []
    },
    {
      "cell_type": "code",
      "metadata": {
        "colab_type": "code",
        "id": "l79ivkwKy357",
        "colab": {}
      },
      "source": [
        "from engine import evaluate\n",
        "import utils\n",
        "import transforms as T\n",
        "\n",
        "\n",
        "def get_transform(train):\n",
        "    transforms = []\n",
        "    # converts the image, a PIL image, into a PyTorch Tensor\n",
        "    transforms.append(T.ToTensor())\n",
        "    if train:\n",
        "        # during training, randomly flip the training images\n",
        "        # and ground-truth for data augmentation\n",
        "        transforms.append(T.RandomHorizontalFlip(0.5))\n",
        "    return T.Compose(transforms)"
      ],
      "execution_count": 0,
      "outputs": []
    },
    {
      "cell_type": "markdown",
      "metadata": {
        "colab_type": "text",
        "id": "FzCLqiZk-sjf"
      },
      "source": [
        "#### Note that we do not need to add a mean/std normalization nor image rescaling in the data transforms, as those are handled internally by the Mask R-CNN model."
      ]
    },
    {
      "cell_type": "markdown",
      "metadata": {
        "colab_type": "text",
        "id": "3YFJGJxk6XEs"
      },
      "source": [
        "### Putting everything together\n",
        "\n",
        "We now have the dataset class, the models and the data transforms. Let's instantiate them"
      ]
    },
    {
      "cell_type": "code",
      "metadata": {
        "id": "htZ2uxdnVpv9",
        "colab_type": "code",
        "colab": {}
      },
      "source": [
        "# use our dataset and defined transformations\n",
        "data = DataLoader()\n",
        "\n",
        "# split the dataset in train and test set\n",
        "torch.manual_seed(1)\n",
        "indices = torch.randperm(len(data)).tolist()\n",
        "dataset = torch.utils.data.Subset(data, indices[:500])\n",
        "dataset_test = torch.utils.data.Subset(data, indices[500:])\n",
        "\n",
        "# define training and validation data loaders\n",
        "data_loader = torch.utils.data.DataLoader(\n",
        "    dataset, batch_size=2, shuffle=True, num_workers=4,\n",
        "    collate_fn=utils.collate_fn)\n",
        "\n",
        "data_loader_test = torch.utils.data.DataLoader(\n",
        "    dataset_test, batch_size=1, shuffle=False, num_workers=4,\n",
        "    collate_fn=utils.collate_fn)"
      ],
      "execution_count": 0,
      "outputs": []
    },
    {
      "cell_type": "markdown",
      "metadata": {
        "colab_type": "text",
        "id": "L5yvZUprj4ZN"
      },
      "source": [
        "Now let's instantiate the model and the optimizer"
      ]
    },
    {
      "cell_type": "code",
      "metadata": {
        "colab_type": "code",
        "id": "zoenkCj18C4h",
        "colab": {}
      },
      "source": [
        "device = torch.device('cuda') if torch.cuda.is_available() else torch.device('cpu')\n",
        "\n",
        "# our dataset has two classes only - background and person\n",
        "num_classes = 2\n",
        "\n",
        "# move model to the right device\n",
        "model.to(device)\n",
        "\n",
        "# construct an optimizer\n",
        "params = [p for p in model.parameters() if p.requires_grad]\n",
        "optimizer = torch.optim.SGD(params, lr=0.005,\n",
        "                            momentum=0.9, weight_decay=0.0005)\n",
        "\n",
        "# and a learning rate scheduler which decreases the learning rate by\n",
        "# 10x every 3 epochs\n",
        "lr_scheduler = torch.optim.lr_scheduler.StepLR(optimizer,\n",
        "                                               step_size=3,\n",
        "                                               gamma=0.1)"
      ],
      "execution_count": 0,
      "outputs": []
    },
    {
      "cell_type": "markdown",
      "metadata": {
        "colab_type": "text",
        "id": "XAd56lt4kDxc"
      },
      "source": [
        "And now let's train the model for 10 epochs, evaluating at the end of every epoch."
      ]
    },
    {
      "cell_type": "code",
      "metadata": {
        "colab_type": "code",
        "id": "at-h4OWK0aoc",
        "outputId": "52e10bfd-1052-45ea-e7aa-ad2354057c3a",
        "colab": {
          "base_uri": "https://localhost:8080/",
          "height": 538
        }
      },
      "source": [
        "# let's train it for 10 epochs\n",
        "num_epochs = 1\n",
        "\n",
        "for epoch in range(num_epochs):\n",
        "    # train for one epoch, printing every 10 iterations\n",
        "    train_one_epoch(model, optimizer, data_loader, device, epoch, print_freq=10)\n",
        "    # update the learning rate\n",
        "    lr_scheduler.step()\n",
        "    # evaluate on the test dataset\n",
        "    #evaluate(model, data_loader_test, device=device)"
      ],
      "execution_count": 22,
      "outputs": [
        {
          "output_type": "stream",
          "text": [
            "Epoch: [0]  [  0/250]  eta: 0:03:10  lr: 0.000025  loss: 0.1013 (0.1013)  loss_classifier: 0.0137 (0.0137)  loss_box_reg: 0.0050 (0.0050)  loss_mask: 0.0815 (0.0815)  loss_objectness: 0.0004 (0.0004)  loss_rpn_box_reg: 0.0007 (0.0007)  time: 0.7634  data: 0.1547  max mem: 1917\n",
            "Epoch: [0]  [ 10/250]  eta: 0:02:22  lr: 0.000226  loss: 0.1013 (0.1355)  loss_classifier: 0.0120 (0.0143)  loss_box_reg: 0.0037 (0.0054)  loss_mask: 0.0815 (0.1106)  loss_objectness: 0.0002 (0.0041)  loss_rpn_box_reg: 0.0008 (0.0013)  time: 0.5956  data: 0.0190  max mem: 2083\n",
            "Epoch: [0]  [ 20/250]  eta: 0:02:15  lr: 0.000426  loss: 0.0880 (0.1359)  loss_classifier: 0.0117 (0.0167)  loss_box_reg: 0.0029 (0.0053)  loss_mask: 0.0703 (0.0984)  loss_objectness: 0.0004 (0.0137)  loss_rpn_box_reg: 0.0009 (0.0019)  time: 0.5788  data: 0.0053  max mem: 2083\n",
            "Epoch: [0]  [ 30/250]  eta: 0:02:08  lr: 0.000627  loss: 0.0867 (0.1209)  loss_classifier: 0.0113 (0.0148)  loss_box_reg: 0.0029 (0.0048)  loss_mask: 0.0695 (0.0903)  loss_objectness: 0.0005 (0.0095)  loss_rpn_box_reg: 0.0009 (0.0016)  time: 0.5805  data: 0.0052  max mem: 2083\n",
            "Epoch: [0]  [ 40/250]  eta: 0:02:02  lr: 0.000827  loss: 0.0868 (0.1237)  loss_classifier: 0.0110 (0.0172)  loss_box_reg: 0.0033 (0.0060)  loss_mask: 0.0710 (0.0914)  loss_objectness: 0.0003 (0.0075)  loss_rpn_box_reg: 0.0009 (0.0016)  time: 0.5821  data: 0.0051  max mem: 2083\n",
            "Epoch: [0]  [ 50/250]  eta: 0:01:56  lr: 0.001028  loss: 0.0873 (0.1168)  loss_classifier: 0.0108 (0.0159)  loss_box_reg: 0.0033 (0.0055)  loss_mask: 0.0728 (0.0878)  loss_objectness: 0.0001 (0.0062)  loss_rpn_box_reg: 0.0010 (0.0014)  time: 0.5829  data: 0.0049  max mem: 2083\n",
            "Epoch: [0]  [ 60/250]  eta: 0:01:50  lr: 0.001229  loss: 0.0899 (0.1194)  loss_classifier: 0.0108 (0.0165)  loss_box_reg: 0.0031 (0.0061)  loss_mask: 0.0755 (0.0899)  loss_objectness: 0.0003 (0.0054)  loss_rpn_box_reg: 0.0009 (0.0014)  time: 0.5812  data: 0.0049  max mem: 2083\n",
            "Epoch: [0]  [ 70/250]  eta: 0:01:45  lr: 0.001429  loss: 0.0894 (0.1165)  loss_classifier: 0.0110 (0.0157)  loss_box_reg: 0.0037 (0.0058)  loss_mask: 0.0759 (0.0889)  loss_objectness: 0.0003 (0.0048)  loss_rpn_box_reg: 0.0009 (0.0014)  time: 0.5805  data: 0.0051  max mem: 2083\n",
            "Epoch: [0]  [ 80/250]  eta: 0:01:39  lr: 0.001630  loss: 0.0917 (0.1174)  loss_classifier: 0.0097 (0.0159)  loss_box_reg: 0.0037 (0.0059)  loss_mask: 0.0759 (0.0896)  loss_objectness: 0.0003 (0.0046)  loss_rpn_box_reg: 0.0012 (0.0014)  time: 0.5833  data: 0.0051  max mem: 2083\n",
            "Epoch: [0]  [ 90/250]  eta: 0:01:33  lr: 0.001830  loss: 0.0932 (0.1144)  loss_classifier: 0.0111 (0.0154)  loss_box_reg: 0.0033 (0.0057)  loss_mask: 0.0735 (0.0877)  loss_objectness: 0.0006 (0.0043)  loss_rpn_box_reg: 0.0014 (0.0014)  time: 0.5834  data: 0.0049  max mem: 2083\n",
            "Epoch: [0]  [100/250]  eta: 0:01:27  lr: 0.002031  loss: 0.0932 (0.1214)  loss_classifier: 0.0105 (0.0173)  loss_box_reg: 0.0034 (0.0065)  loss_mask: 0.0747 (0.0915)  loss_objectness: 0.0006 (0.0046)  loss_rpn_box_reg: 0.0014 (0.0015)  time: 0.5816  data: 0.0050  max mem: 2083\n",
            "Epoch: [0]  [110/250]  eta: 0:01:21  lr: 0.002232  loss: 0.1048 (0.1214)  loss_classifier: 0.0111 (0.0171)  loss_box_reg: 0.0037 (0.0063)  loss_mask: 0.0903 (0.0921)  loss_objectness: 0.0009 (0.0045)  loss_rpn_box_reg: 0.0013 (0.0015)  time: 0.5821  data: 0.0052  max mem: 2083\n",
            "Epoch: [0]  [120/250]  eta: 0:01:15  lr: 0.002432  loss: 0.1075 (0.1199)  loss_classifier: 0.0110 (0.0165)  loss_box_reg: 0.0037 (0.0061)  loss_mask: 0.0907 (0.0916)  loss_objectness: 0.0009 (0.0042)  loss_rpn_box_reg: 0.0013 (0.0015)  time: 0.5811  data: 0.0051  max mem: 2083\n",
            "Epoch: [0]  [130/250]  eta: 0:01:09  lr: 0.002633  loss: 0.0932 (0.1177)  loss_classifier: 0.0083 (0.0159)  loss_box_reg: 0.0034 (0.0059)  loss_mask: 0.0778 (0.0905)  loss_objectness: 0.0004 (0.0039)  loss_rpn_box_reg: 0.0013 (0.0015)  time: 0.5792  data: 0.0050  max mem: 2083\n",
            "Epoch: [0]  [140/250]  eta: 0:01:04  lr: 0.002833  loss: 0.0821 (0.1151)  loss_classifier: 0.0078 (0.0153)  loss_box_reg: 0.0029 (0.0057)  loss_mask: 0.0719 (0.0890)  loss_objectness: 0.0002 (0.0037)  loss_rpn_box_reg: 0.0014 (0.0015)  time: 0.5783  data: 0.0050  max mem: 2083\n",
            "Epoch: [0]  [150/250]  eta: 0:00:58  lr: 0.003034  loss: 0.0837 (0.1140)  loss_classifier: 0.0074 (0.0148)  loss_box_reg: 0.0030 (0.0055)  loss_mask: 0.0747 (0.0888)  loss_objectness: 0.0002 (0.0034)  loss_rpn_box_reg: 0.0013 (0.0015)  time: 0.5769  data: 0.0050  max mem: 2083\n",
            "Epoch: [0]  [160/250]  eta: 0:00:52  lr: 0.003235  loss: 0.0928 (0.1144)  loss_classifier: 0.0069 (0.0150)  loss_box_reg: 0.0033 (0.0056)  loss_mask: 0.0789 (0.0890)  loss_objectness: 0.0001 (0.0033)  loss_rpn_box_reg: 0.0013 (0.0015)  time: 0.5771  data: 0.0049  max mem: 2083\n",
            "Epoch: [0]  [170/250]  eta: 0:00:46  lr: 0.003435  loss: 0.0938 (0.1151)  loss_classifier: 0.0073 (0.0153)  loss_box_reg: 0.0036 (0.0058)  loss_mask: 0.0790 (0.0893)  loss_objectness: 0.0004 (0.0032)  loss_rpn_box_reg: 0.0014 (0.0016)  time: 0.5786  data: 0.0049  max mem: 2083\n",
            "Epoch: [0]  [180/250]  eta: 0:00:40  lr: 0.003636  loss: 0.0865 (0.1134)  loss_classifier: 0.0086 (0.0149)  loss_box_reg: 0.0026 (0.0056)  loss_mask: 0.0735 (0.0884)  loss_objectness: 0.0003 (0.0031)  loss_rpn_box_reg: 0.0012 (0.0015)  time: 0.5800  data: 0.0050  max mem: 2083\n",
            "Epoch: [0]  [190/250]  eta: 0:00:34  lr: 0.003837  loss: 0.0927 (0.1151)  loss_classifier: 0.0077 (0.0150)  loss_box_reg: 0.0026 (0.0057)  loss_mask: 0.0746 (0.0899)  loss_objectness: 0.0003 (0.0030)  loss_rpn_box_reg: 0.0011 (0.0015)  time: 0.5830  data: 0.0051  max mem: 2083\n",
            "Epoch: [0]  [200/250]  eta: 0:00:29  lr: 0.004037  loss: 0.0984 (0.1148)  loss_classifier: 0.0107 (0.0148)  loss_box_reg: 0.0035 (0.0056)  loss_mask: 0.0814 (0.0900)  loss_objectness: 0.0007 (0.0029)  loss_rpn_box_reg: 0.0011 (0.0015)  time: 0.5829  data: 0.0049  max mem: 2083\n",
            "Epoch: [0]  [210/250]  eta: 0:00:23  lr: 0.004238  loss: 0.1018 (0.1156)  loss_classifier: 0.0107 (0.0149)  loss_box_reg: 0.0051 (0.0057)  loss_mask: 0.0821 (0.0906)  loss_objectness: 0.0004 (0.0029)  loss_rpn_box_reg: 0.0010 (0.0015)  time: 0.5793  data: 0.0049  max mem: 2083\n",
            "Epoch: [0]  [220/250]  eta: 0:00:17  lr: 0.004438  loss: 0.1012 (0.1147)  loss_classifier: 0.0104 (0.0147)  loss_box_reg: 0.0045 (0.0056)  loss_mask: 0.0821 (0.0901)  loss_objectness: 0.0002 (0.0028)  loss_rpn_box_reg: 0.0011 (0.0015)  time: 0.5810  data: 0.0050  max mem: 2083\n",
            "Epoch: [0]  [230/250]  eta: 0:00:11  lr: 0.004639  loss: 0.0909 (0.1154)  loss_classifier: 0.0094 (0.0148)  loss_box_reg: 0.0035 (0.0056)  loss_mask: 0.0777 (0.0908)  loss_objectness: 0.0002 (0.0027)  loss_rpn_box_reg: 0.0012 (0.0015)  time: 0.5847  data: 0.0051  max mem: 2083\n",
            "Epoch: [0]  [240/250]  eta: 0:00:05  lr: 0.004840  loss: 0.0896 (0.1146)  loss_classifier: 0.0087 (0.0145)  loss_box_reg: 0.0035 (0.0055)  loss_mask: 0.0777 (0.0904)  loss_objectness: 0.0005 (0.0027)  loss_rpn_box_reg: 0.0011 (0.0015)  time: 0.5847  data: 0.0050  max mem: 2083\n",
            "Epoch: [0]  [249/250]  eta: 0:00:00  lr: 0.005000  loss: 0.0991 (0.1154)  loss_classifier: 0.0090 (0.0146)  loss_box_reg: 0.0039 (0.0056)  loss_mask: 0.0833 (0.0911)  loss_objectness: 0.0005 (0.0026)  loss_rpn_box_reg: 0.0010 (0.0015)  time: 0.5817  data: 0.0048  max mem: 2083\n",
            "Epoch: [0] Total time: 0:02:25 (0.5820 s / it)\n"
          ],
          "name": "stdout"
        }
      ]
    },
    {
      "cell_type": "markdown",
      "metadata": {
        "colab_type": "text",
        "id": "Z6mYGFLxkO8F"
      },
      "source": [
        "Now that training has finished, let's have a look at what it actually predicts in a test image"
      ]
    },
    {
      "cell_type": "markdown",
      "metadata": {
        "colab_type": "text",
        "id": "DmN602iKsuey"
      },
      "source": [
        "Printing the prediction shows that we have a list of dictionaries. Each element of the list corresponds to a different image. As we have a single image, there is a single dictionary in the list.\n",
        "The dictionary contains the predictions for the image we passed. In this case, we can see that it contains `boxes`, `labels`, `masks` and `scores` as fields."
      ]
    },
    {
      "cell_type": "markdown",
      "metadata": {
        "colab_type": "text",
        "id": "RwT21rzotFbH"
      },
      "source": [
        "Let's inspect the image and the predicted segmentation masks.\n",
        "\n",
        "For that, we need to convert the image, which has been rescaled to 0-1 and had the channels flipped so that we have it in `[C, H, W]` format."
      ]
    },
    {
      "cell_type": "code",
      "metadata": {
        "id": "Z8aHhVEv8M9n",
        "colab_type": "code",
        "colab": {}
      },
      "source": [
        "def show(index, model, threshold=0.9):\n",
        "    # pick one image from the test set\n",
        "    img, bbox = dataset_test[ind]\n",
        "    # put the model in evaluation mode\n",
        "    model.eval()\n",
        "    with torch.no_grad():\n",
        "        prediction = model([img.to(device)])\n",
        "\n",
        "    f, (ax2, ax) = plt.subplots(1, 2, sharey=True, figsize=(15, 15))\n",
        "\n",
        "    H = img.squeeze(0).numpy()\n",
        "\n",
        "    ax.set_aspect(H.shape[1]/H.shape[0])\n",
        "    ax2.set_aspect(H.shape[1]/H.shape[0])\n",
        "\n",
        "    ax.title.set_text('NN response')\n",
        "    ax2.title.set_text('Real data')\n",
        "\n",
        "    masks = prediction[0]['masks'][prediction[0]['scores']>threshold]\n",
        "    bboxes = prediction[0]['boxes'][prediction[0]['scores']>threshold]\n",
        "    scores = prediction[0]['scores'][prediction[0]['scores']>threshold]\n",
        "\n",
        "    mask_expected = bbox['masks'][0].numpy()\n",
        "\n",
        "    xedges = np.linspace(0, H.shape[0], H.shape[0])\n",
        "    yedges = np.linspace(0, H.shape[1], H.shape[1])\n",
        "    Xg, Yg = np.meshgrid(xedges, yedges)\n",
        "\n",
        "    for a in (ax, ax2):\n",
        "      a.title.set_size(20)\n",
        "      a.set_axis_off()\n",
        "      a.pcolormesh(Xg, Yg, H, cmap='gray')\n",
        "\n",
        "    for mask,bbox,score in zip(masks,bboxes,scores):\n",
        "        m = mask[0].cpu().numpy()\n",
        "        b = bbox.cpu().numpy()\n",
        "        ax.pcolormesh(Xg, Yg, m, cmap='gnuplot2', alpha=0.3)\n",
        "        ax.add_patch(Rectangle((b[0], b[1]), b[2]-b[0], b[3]-b[1], ec='r', fc='none'))\n",
        "        ax.annotate(f'Score: {score.item():.2f}', (b[0], b[3]+1), color='r', size=16)\n",
        "\n",
        "    ax2.pcolormesh(Xg, Yg, mask_expected, cmap='gnuplot', alpha=0.1)"
      ],
      "execution_count": 0,
      "outputs": []
    },
    {
      "cell_type": "code",
      "metadata": {
        "id": "NaDegU-A8Wjb",
        "colab_type": "code",
        "colab": {
          "base_uri": "https://localhost:8080/",
          "height": 432
        },
        "outputId": "86e86f3c-cb33-42df-cf30-f06658a756d5"
      },
      "source": [
        "ind = random.randint(0, len(dataset_test)-1)\n",
        "show(ind, model, 0.5)"
      ],
      "execution_count": 181,
      "outputs": [
        {
          "output_type": "display_data",
          "data": {
            "image/png": "[encoded data removed]",
            "text/plain": [
              "<Figure size 1080x1080 with 2 Axes>"
            ]
          },
          "metadata": {
            "tags": []
          }
        }
      ]
    },
    {
      "cell_type": "markdown",
      "metadata": {
        "id": "BJ7Jt3Wz-vgR",
        "colab_type": "text"
      },
      "source": [
        "##Save entire model ([guide](https://pytorch.org/tutorials/beginner/saving_loading_models.html))"
      ]
    },
    {
      "cell_type": "code",
      "metadata": {
        "id": "KiupVS063Aig",
        "colab_type": "code",
        "colab": {}
      },
      "source": [
        "torch.save(model, '../data/CirclesNN.pth')"
      ],
      "execution_count": 0,
      "outputs": []
    },
    {
      "cell_type": "code",
      "metadata": {
        "id": "rM1BTEB6_Aa4",
        "colab_type": "code",
        "colab": {}
      },
      "source": [
        ""
      ],
      "execution_count": 0,
      "outputs": []
    }
  ]
}