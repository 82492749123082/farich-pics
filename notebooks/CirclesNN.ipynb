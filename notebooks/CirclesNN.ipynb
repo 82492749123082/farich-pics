{
  "nbformat": 4,
  "nbformat_minor": 0,
  "metadata": {
    "accelerator": "GPU",
    "colab": {
      "name": "CirclesNN.ipynb",
      "provenance": [],
      "collapsed_sections": []
    },
    "kernelspec": {
      "display_name": "Python 3",
      "language": "python",
      "name": "python3"
    },
    "language_info": {
      "codemirror_mode": {
        "name": "ipython",
        "version": 3
      },
      "file_extension": ".py",
      "mimetype": "text/x-python",
      "name": "python",
      "nbconvert_exporter": "python",
      "pygments_lexer": "ipython3",
      "version": "3.6.4"
    }
  },
  "cells": [
    {
      "cell_type": "code",
      "metadata": {
        "id": "mfpDKqEfCMrE",
        "colab_type": "code",
        "outputId": "4174d47d-9c10-4cdc-ed35-15ecc476df4b",
        "colab": {
          "base_uri": "https://localhost:8080/",
          "height": 130
        }
      },
      "source": [
        "from google.colab import drive\n",
        "drive.mount('/content/drive')"
      ],
      "execution_count": 1,
      "outputs": [
        {
          "output_type": "stream",
          "text": [
            "Go to this URL in a browser: https://accounts.google.com/o/oauth2/auth?client_id=947318989803-6bn6qk8qdgf4n4g3pfee6491hc0brc4i.apps.googleusercontent.com&redirect_uri=urn%3aietf%3awg%3aoauth%3a2.0%3aoob&response_type=code&scope=email%20https%3a%2f%2fwww.googleapis.com%2fauth%2fdocs.test%20https%3a%2f%2fwww.googleapis.com%2fauth%2fdrive%20https%3a%2f%2fwww.googleapis.com%2fauth%2fdrive.photos.readonly%20https%3a%2f%2fwww.googleapis.com%2fauth%2fpeopleapi.readonly\n",
            "\n",
            "Enter your authorization code:\n",
            "··········\n",
            "Mounted at /content/drive\n"
          ],
          "name": "stdout"
        }
      ]
    },
    {
      "cell_type": "code",
      "metadata": {
        "id": "icK6bEPKArJ7",
        "colab_type": "code",
        "outputId": "b147d7f7-b96e-49be-b79f-0746baf61aa4",
        "colab": {
          "base_uri": "https://localhost:8080/",
          "height": 36
        }
      },
      "source": [
        "%pwd\n",
        "%cd /content/drive/My\\ Drive/farich-pics"
      ],
      "execution_count": 2,
      "outputs": [
        {
          "output_type": "stream",
          "text": [
            "/content/drive/My Drive/farich-pics\n"
          ],
          "name": "stdout"
        }
      ]
    },
    {
      "cell_type": "markdown",
      "metadata": {
        "colab_type": "text",
        "id": "5Sd4jlGp2eLm"
      },
      "source": [
        "## Defining the Dataset\n",
        "\n",
        "The [torchvision reference scripts for training object detection, instance segmentation and person keypoint detection](https://github.com/pytorch/vision/tree/v0.3.0/references/detection) allows for easily supporting adding new custom datasets.\n",
        "The dataset should inherit from the standard `torch.utils.data.Dataset` class, and implement `__len__` and `__getitem__`.\n",
        "\n",
        "The only specificity that we require is that the dataset `__getitem__` should return:\n",
        "\n",
        "* image: an Image of size (H, W)\n",
        "* target: a dict containing the following fields\n",
        "    * `boxes` (`FloatTensor[N, 4]`): the coordinates of the `N` bounding boxes in `[x0, y0, x1, y1]` format, ranging from `0` to `W` and `0` to `H`\n",
        "    * `labels` (`Int64Tensor[N]`): the label for each bounding box\n",
        "    * `image_id` (`Int64Tensor[1]`): an image identifier. It should be unique between all the images in the dataset, and is used during evaluation\n",
        "    * `area` (`Tensor[N]`): The area of the bounding box. This is used during evaluation with the COCO metric, to separate the metric scores between small, medium and large boxes.\n",
        "    * `masks` (`UInt8Tensor[N, H, W]`): The segmentation masks for each one of the objects\n",
        "    \n",
        "Additionally, if you want to use aspect ratio grouping during training (so that each batch only contains images with similar aspect ratio), then it is recommended to also implement a `get_height_and_width` method, which returns the height and the width of the image. If this method is not provided, we query all elements of the dataset via `__getitem__` , which loads the image in memory and is slower than if a custom method is provided.\n"
      ]
    },
    {
      "cell_type": "markdown",
      "metadata": {
        "id": "GfJL7i6fLRd5",
        "colab_type": "text"
      },
      "source": [
        "We have prepared dataset with `farich.DataPreprocessing`\n",
        "\n",
        "Let's see on that"
      ]
    },
    {
      "cell_type": "code",
      "metadata": {
        "id": "bN1TIEH7k69n",
        "colab_type": "code",
        "outputId": "1a2946dc-eb16-4e22-ae80-279a86da73db",
        "colab": {
          "base_uri": "https://localhost:8080/",
          "height": 36
        }
      },
      "source": [
        "%ls /content/drive/Shared\\ drives/ML\\&HEP/data/"
      ],
      "execution_count": 3,
      "outputs": [
        {
          "output_type": "stream",
          "text": [
            "CirclesNN.pth  dataset_circles_boards.pkl  dataset.pkl\n"
          ],
          "name": "stdout"
        }
      ]
    },
    {
      "cell_type": "code",
      "metadata": {
        "id": "Ekj-1Vo7K84P",
        "colab_type": "code",
        "colab": {}
      },
      "source": [
        "import pickle\n",
        "\n",
        "dataset_path = \"/content/drive/Shared drives/ML&HEP/data/dataset_circles_boards.pkl\"\n",
        "with open(dataset_path, \"rb\") as f:\n",
        "    H_res, h_res, mask_res = pickle.load(f)"
      ],
      "execution_count": 0,
      "outputs": []
    },
    {
      "cell_type": "code",
      "metadata": {
        "id": "zbXfYWVVK87f",
        "colab_type": "code",
        "colab": {}
      },
      "source": [
        "import matplotlib.pyplot as plt\n",
        "import pandas as pd\n",
        "import numpy as np\n",
        "from matplotlib.patches import Ellipse, Circle, Rectangle\n",
        "\n",
        "%matplotlib inline"
      ],
      "execution_count": 0,
      "outputs": []
    },
    {
      "cell_type": "code",
      "metadata": {
        "id": "Rzk5vNKNK8_F",
        "colab_type": "code",
        "outputId": "e956b10b-b796-44f1-a606-99dc699b0837",
        "colab": {
          "base_uri": "https://localhost:8080/",
          "height": 431
        }
      },
      "source": [
        "loc_ind = 1390\n",
        "\n",
        "num_of_circles = 1\n",
        "xv = h_res[loc_ind][num_of_circles-1][0]\n",
        "yv = h_res[loc_ind][num_of_circles-1][1]\n",
        "r = h_res[loc_ind][num_of_circles-1][2]\n",
        "\n",
        "fig = plt.figure(frameon=False, figsize=(5, 5) )\n",
        "H = H_res[loc_ind].toarray()\n",
        "ax = plt.Axes(fig, [0., 0., 1., (H.shape[1]/H.shape[0])])\n",
        "fig.add_axes(ax)\n",
        "\n",
        "xedges = np.linspace(0, H.shape[0], H.shape[0])\n",
        "yedges = np.linspace(0, H.shape[1], H.shape[1])\n",
        "Xg, Yg = np.meshgrid(xedges, yedges)\n",
        "e = Circle(xy=(xv, yv), radius=r, linewidth=2, fill=False, edgecolor='green', alpha=0.1)\n",
        "ax.pcolormesh(Xg, Yg, H, cmap='gray')\n",
        "ax.pcolormesh(Xg, Yg, mask_res[loc_ind][0].toarray(), cmap='gnuplot', alpha=0.05)\n",
        "ax.add_artist(e)\n",
        "plt.scatter(xv, yv, marker='+', s=150)"
      ],
      "execution_count": 10,
      "outputs": [
        {
          "output_type": "execute_result",
          "data": {
            "text/plain": [
              "<matplotlib.collections.PathCollection at 0x7f3b28341eb8>"
            ]
          },
          "metadata": {
            "tags": []
          },
          "execution_count": 10
        },
        {
          "output_type": "display_data",
          "data": {
            "image/png": "[encoded data removed]",
            "text/plain": [
              "<Figure size 360x360 with 1 Axes>"
            ]
          },
          "metadata": {
            "tags": []
          }
        }
      ]
    },
    {
      "cell_type": "markdown",
      "metadata": {
        "id": "XL7pFjg3qff3",
        "colab_type": "text"
      },
      "source": [
        "Prepare dataset with `farichlib.Dataset` to pytorch style"
      ]
    },
    {
      "cell_type": "code",
      "metadata": {
        "id": "_oM5Pa1ZNroU",
        "colab_type": "code",
        "colab": {}
      },
      "source": [
        "import torch\n",
        "from farichlib.Dataset import Dataset"
      ],
      "execution_count": 0,
      "outputs": []
    },
    {
      "cell_type": "code",
      "metadata": {
        "id": "p2uu7LlvPnr3",
        "colab_type": "code",
        "colab": {}
      },
      "source": [
        "data = Dataset(noise_level=0.01) #add noise to data\n",
        "data.load(dataset_path)"
      ],
      "execution_count": 0,
      "outputs": []
    },
    {
      "cell_type": "code",
      "metadata": {
        "id": "PcCyNms_lR4F",
        "colab_type": "code",
        "outputId": "f2cc8b80-321e-4153-b8b6-dbb3fe8f11bb",
        "colab": {
          "base_uri": "https://localhost:8080/",
          "height": 351
        }
      },
      "source": [
        "data[0] #check"
      ],
      "execution_count": 13,
      "outputs": [
        {
          "output_type": "execute_result",
          "data": {
            "text/plain": [
              "(tensor([[[0., 0., 0.,  ..., 0., 0., 0.],\n",
              "          [0., 0., 0.,  ..., 0., 0., 0.],\n",
              "          [0., 0., 0.,  ..., 0., 0., 0.],\n",
              "          ...,\n",
              "          [0., 0., 0.,  ..., 0., 0., 0.],\n",
              "          [0., 0., 0.,  ..., 0., 0., 0.],\n",
              "          [0., 0., 0.,  ..., 0., 0., 0.]]]),\n",
              " {'area': tensor([948.6402]),\n",
              "  'boxes': tensor([[55.6000, 32.6000, 86.4000, 63.4000]]),\n",
              "  'image_id': tensor([0]),\n",
              "  'labels': tensor([1]),\n",
              "  'masks': tensor([[[0., 0., 0.,  ..., 0., 0., 0.],\n",
              "           [0., 0., 0.,  ..., 0., 0., 0.],\n",
              "           [0., 0., 0.,  ..., 0., 0., 0.],\n",
              "           ...,\n",
              "           [0., 0., 0.,  ..., 0., 0., 0.],\n",
              "           [0., 0., 0.,  ..., 0., 0., 0.],\n",
              "           [0., 0., 0.,  ..., 0., 0., 0.]]])})"
            ]
          },
          "metadata": {
            "tags": []
          },
          "execution_count": 13
        }
      ]
    },
    {
      "cell_type": "markdown",
      "metadata": {
        "colab_type": "text",
        "id": "RoAEkUgn4uEq"
      },
      "source": [
        "## Defining the model\n",
        "\n",
        "Upload pretrained model"
      ]
    },
    {
      "cell_type": "code",
      "metadata": {
        "id": "2wz3YSkulVFh",
        "colab_type": "code",
        "colab": {}
      },
      "source": [
        "import torchvision\n",
        "import math\n",
        "import random\n",
        "from torchvision.models.detection.faster_rcnn import FastRCNNPredictor\n",
        "from torchvision.models.detection.mask_rcnn import MaskRCNNPredictor\n",
        "\n",
        "def get_model(load_trained=None):\n",
        "    if load_trained is None:\n",
        "        num_classes = 2\n",
        "        model = torchvision.models.detection.maskrcnn_resnet50_fpn(pretrained=True)\n",
        "        in_features = model.roi_heads.box_predictor.cls_score.in_features\n",
        "        model.roi_heads.box_predictor = FastRCNNPredictor(in_features, num_classes)\n",
        "        in_features_mask = model.roi_heads.mask_predictor.conv5_mask.in_channels\n",
        "        hidden_layer = 256\n",
        "        model.roi_heads.mask_predictor = MaskRCNNPredictor(in_features_mask, hidden_layer, num_classes)\n",
        "        return model\n",
        "    return torch.load(load_trained)"
      ],
      "execution_count": 0,
      "outputs": []
    },
    {
      "cell_type": "code",
      "metadata": {
        "id": "v7zfKrS1wHYU",
        "colab_type": "code",
        "colab": {}
      },
      "source": [
        "model = get_model('/content/drive/Shared drives/ML&HEP/data/CirclesNN.pth') #use pretrained model on noiseless data"
      ],
      "execution_count": 0,
      "outputs": []
    },
    {
      "cell_type": "markdown",
      "metadata": {
        "colab_type": "text",
        "id": "-WXLwePV5ieP"
      },
      "source": [
        "That's it, this will make model be ready to be trained and evaluated on our custom dataset.\n",
        "\n",
        "## Training and evaluation functions\n"
      ]
    },
    {
      "cell_type": "code",
      "metadata": {
        "id": "X1OP2xOumDIa",
        "colab_type": "code",
        "colab": {}
      },
      "source": [
        "from farichlib import utils"
      ],
      "execution_count": 0,
      "outputs": []
    },
    {
      "cell_type": "code",
      "metadata": {
        "id": "ylN0IAYJybNf",
        "colab_type": "code",
        "colab": {}
      },
      "source": [
        "def train_one_epoch(model, optimizer, data_loader, device, epoch, print_freq):\n",
        "    model.train(mode=True)\n",
        "    metric_logger = utils.MetricLogger(delimiter=\"  \")\n",
        "    metric_logger.add_meter('lr', utils.SmoothedValue(window_size=1, fmt='{value:.6f}'))\n",
        "    header = 'Epoch: [{}]'.format(epoch)\n",
        "\n",
        "    lr_scheduler = None\n",
        "    if epoch == 0:\n",
        "        warmup_factor = 1. / 1000\n",
        "        warmup_iters = min(1000, len(data_loader) - 1)\n",
        "\n",
        "        lr_scheduler = utils.warmup_lr_scheduler(optimizer, warmup_iters, warmup_factor)\n",
        "\n",
        "    for images, targets in metric_logger.log_every(data_loader, print_freq, header):\n",
        "        images = list(image.to(device) for image in images)\n",
        "        targets = [{k: v.to(device) for k, v in t.items()} for t in targets]\n",
        "\n",
        "        loss_dict = model(images, targets)\n",
        "\n",
        "        losses = sum(loss for loss in loss_dict.values())\n",
        "\n",
        "        # reduce losses over all GPUs for logging purposes\n",
        "        loss_dict_reduced = utils.reduce_dict(loss_dict)\n",
        "        losses_reduced = sum(loss for loss in loss_dict_reduced.values())\n",
        "\n",
        "        loss_value = losses_reduced.item()\n",
        "\n",
        "        if not math.isfinite(loss_value):\n",
        "            print(\"Loss is {}, stopping training\".format(loss_value))\n",
        "            print(loss_dict_reduced)\n",
        "            sys.exit(1)\n",
        "\n",
        "        optimizer.zero_grad()\n",
        "        losses.backward()\n",
        "        optimizer.step()\n",
        "\n",
        "        if lr_scheduler is not None:\n",
        "            lr_scheduler.step()\n",
        "\n",
        "        metric_logger.update(loss=losses_reduced, **loss_dict_reduced)\n",
        "        metric_logger.update(lr=optimizer.param_groups[0][\"lr\"])"
      ],
      "execution_count": 0,
      "outputs": []
    },
    {
      "cell_type": "markdown",
      "metadata": {
        "colab_type": "text",
        "id": "3YFJGJxk6XEs"
      },
      "source": [
        "### Putting everything together\n",
        "\n",
        "We now have the dataset class, the models and the data transforms. Let's instantiate them"
      ]
    },
    {
      "cell_type": "code",
      "metadata": {
        "id": "htZ2uxdnVpv9",
        "colab_type": "code",
        "colab": {}
      },
      "source": [
        "# split the dataset in train and test set\n",
        "torch.manual_seed(1)\n",
        "indices = torch.randperm(len(data)).tolist()\n",
        "dataset = torch.utils.data.Subset(data, indices[:500]) #yes, only 1000 images in train set | but it's enough\n",
        "dataset_test = torch.utils.data.Subset(data, indices[500:])\n",
        "\n",
        "# define training and validation data loaders\n",
        "data_loader = torch.utils.data.DataLoader(\n",
        "    dataset, batch_size=2, shuffle=True, num_workers=4,\n",
        "    collate_fn=utils.collate_fn)\n",
        "\n",
        "data_loader_test = torch.utils.data.DataLoader(\n",
        "    dataset_test, batch_size=1, shuffle=False, num_workers=4,\n",
        "    collate_fn=utils.collate_fn)"
      ],
      "execution_count": 0,
      "outputs": []
    },
    {
      "cell_type": "markdown",
      "metadata": {
        "colab_type": "text",
        "id": "L5yvZUprj4ZN"
      },
      "source": [
        "Now let's instantiate the model and the optimizer"
      ]
    },
    {
      "cell_type": "code",
      "metadata": {
        "colab_type": "code",
        "id": "zoenkCj18C4h",
        "colab": {}
      },
      "source": [
        "device = torch.device('cuda') if torch.cuda.is_available() else torch.device('cpu')\n",
        "\n",
        "# our dataset has two classes only - background and person\n",
        "num_classes = 2\n",
        "\n",
        "# move model to the right device\n",
        "model.to(device)\n",
        "\n",
        "# construct an optimizer\n",
        "params = [p for p in model.parameters() if p.requires_grad]\n",
        "optimizer = torch.optim.SGD(params, lr=0.005,\n",
        "                            momentum=0.9, weight_decay=0.0005)\n",
        "\n",
        "# and a learning rate scheduler which decreases the learning rate by\n",
        "# 10x every 3 epochs\n",
        "lr_scheduler = torch.optim.lr_scheduler.StepLR(optimizer,\n",
        "                                               step_size=3,\n",
        "                                               gamma=0.1)"
      ],
      "execution_count": 0,
      "outputs": []
    },
    {
      "cell_type": "markdown",
      "metadata": {
        "colab_type": "text",
        "id": "XAd56lt4kDxc"
      },
      "source": [
        "And now let's train the model for 1 epochs, (no) evaluating at the end of every epoch."
      ]
    },
    {
      "cell_type": "code",
      "metadata": {
        "colab_type": "code",
        "id": "at-h4OWK0aoc",
        "outputId": "0be1004a-4350-4537-a272-e2a1edcc9521",
        "colab": {
          "base_uri": "https://localhost:8080/",
          "height": 538
        }
      },
      "source": [
        "# let's train it for 1 epoch\n",
        "num_epochs = 1\n",
        "\n",
        "for epoch in range(num_epochs):\n",
        "    # train for one epoch, printing every 10 iterations\n",
        "    train_one_epoch(model, optimizer, data_loader, device, epoch, print_freq=10)\n",
        "    # update the learning rate\n",
        "    lr_scheduler.step()\n",
        "    # evaluate on the test dataset\n",
        "    #evaluate(model, data_loader_test, device=device)"
      ],
      "execution_count": 22,
      "outputs": [
        {
          "output_type": "stream",
          "text": [
            "Epoch: [0]  [  0/250]  eta: 0:07:15  lr: 0.000025  loss: 0.1709 (0.1709)  loss_classifier: 0.0428 (0.0428)  loss_box_reg: 0.0099 (0.0099)  loss_mask: 0.1106 (0.1106)  loss_objectness: 0.0068 (0.0068)  loss_rpn_box_reg: 0.0008 (0.0008)  time: 1.7430  data: 0.1718  max mem: 1638\n",
            "Epoch: [0]  [ 10/250]  eta: 0:02:41  lr: 0.000226  loss: 0.1823 (0.2484)  loss_classifier: 0.0419 (0.0491)  loss_box_reg: 0.0096 (0.0141)  loss_mask: 0.1316 (0.1778)  loss_objectness: 0.0031 (0.0057)  loss_rpn_box_reg: 0.0011 (0.0016)  time: 0.6745  data: 0.0211  max mem: 1915\n",
            "Epoch: [0]  [ 20/250]  eta: 0:02:23  lr: 0.000426  loss: 0.1335 (0.2009)  loss_classifier: 0.0292 (0.0363)  loss_box_reg: 0.0062 (0.0101)  loss_mask: 0.0944 (0.1424)  loss_objectness: 0.0017 (0.0103)  loss_rpn_box_reg: 0.0009 (0.0018)  time: 0.5661  data: 0.0064  max mem: 1915\n",
            "Epoch: [0]  [ 30/250]  eta: 0:02:13  lr: 0.000627  loss: 0.1125 (0.1788)  loss_classifier: 0.0175 (0.0317)  loss_box_reg: 0.0052 (0.0094)  loss_mask: 0.0918 (0.1286)  loss_objectness: 0.0015 (0.0076)  loss_rpn_box_reg: 0.0009 (0.0016)  time: 0.5665  data: 0.0064  max mem: 1915\n",
            "Epoch: [0]  [ 40/250]  eta: 0:02:05  lr: 0.000827  loss: 0.1125 (0.1701)  loss_classifier: 0.0126 (0.0282)  loss_box_reg: 0.0049 (0.0092)  loss_mask: 0.0897 (0.1250)  loss_objectness: 0.0010 (0.0061)  loss_rpn_box_reg: 0.0010 (0.0015)  time: 0.5692  data: 0.0061  max mem: 1915\n",
            "Epoch: [0]  [ 50/250]  eta: 0:01:58  lr: 0.001028  loss: 0.0976 (0.1566)  loss_classifier: 0.0110 (0.0247)  loss_box_reg: 0.0040 (0.0082)  loss_mask: 0.0861 (0.1173)  loss_objectness: 0.0005 (0.0051)  loss_rpn_box_reg: 0.0009 (0.0014)  time: 0.5696  data: 0.0062  max mem: 1915\n",
            "Epoch: [0]  [ 60/250]  eta: 0:01:51  lr: 0.001229  loss: 0.0991 (0.1574)  loss_classifier: 0.0089 (0.0244)  loss_box_reg: 0.0033 (0.0086)  loss_mask: 0.0861 (0.1187)  loss_objectness: 0.0003 (0.0045)  loss_rpn_box_reg: 0.0008 (0.0013)  time: 0.5685  data: 0.0063  max mem: 1915\n",
            "Epoch: [0]  [ 70/250]  eta: 0:01:45  lr: 0.001429  loss: 0.1011 (0.1529)  loss_classifier: 0.0088 (0.0226)  loss_box_reg: 0.0040 (0.0082)  loss_mask: 0.0869 (0.1168)  loss_objectness: 0.0003 (0.0040)  loss_rpn_box_reg: 0.0008 (0.0013)  time: 0.5686  data: 0.0061  max mem: 1915\n",
            "Epoch: [0]  [ 80/250]  eta: 0:01:39  lr: 0.001630  loss: 0.1075 (0.1515)  loss_classifier: 0.0088 (0.0220)  loss_box_reg: 0.0039 (0.0080)  loss_mask: 0.0902 (0.1162)  loss_objectness: 0.0005 (0.0040)  loss_rpn_box_reg: 0.0010 (0.0013)  time: 0.5704  data: 0.0058  max mem: 1915\n",
            "Epoch: [0]  [ 90/250]  eta: 0:01:33  lr: 0.001830  loss: 0.1011 (0.1457)  loss_classifier: 0.0088 (0.0206)  loss_box_reg: 0.0036 (0.0075)  loss_mask: 0.0865 (0.1126)  loss_objectness: 0.0011 (0.0037)  loss_rpn_box_reg: 0.0009 (0.0013)  time: 0.5723  data: 0.0059  max mem: 1915\n",
            "Epoch: [0]  [100/250]  eta: 0:01:27  lr: 0.002031  loss: 0.1010 (0.1516)  loss_classifier: 0.0089 (0.0218)  loss_box_reg: 0.0035 (0.0083)  loss_mask: 0.0863 (0.1163)  loss_objectness: 0.0011 (0.0038)  loss_rpn_box_reg: 0.0007 (0.0014)  time: 0.5723  data: 0.0062  max mem: 1915\n",
            "Epoch: [0]  [110/250]  eta: 0:01:21  lr: 0.002232  loss: 0.1188 (0.1498)  loss_classifier: 0.0109 (0.0211)  loss_box_reg: 0.0047 (0.0081)  loss_mask: 0.1004 (0.1156)  loss_objectness: 0.0007 (0.0036)  loss_rpn_box_reg: 0.0011 (0.0014)  time: 0.5692  data: 0.0062  max mem: 1915\n",
            "Epoch: [0]  [120/250]  eta: 0:01:15  lr: 0.002432  loss: 0.1188 (0.1479)  loss_classifier: 0.0125 (0.0206)  loss_box_reg: 0.0047 (0.0080)  loss_mask: 0.0951 (0.1145)  loss_objectness: 0.0006 (0.0034)  loss_rpn_box_reg: 0.0013 (0.0014)  time: 0.5658  data: 0.0059  max mem: 1915\n",
            "Epoch: [0]  [130/250]  eta: 0:01:09  lr: 0.002633  loss: 0.1111 (0.1456)  loss_classifier: 0.0116 (0.0199)  loss_box_reg: 0.0052 (0.0078)  loss_mask: 0.0891 (0.1133)  loss_objectness: 0.0003 (0.0031)  loss_rpn_box_reg: 0.0010 (0.0014)  time: 0.5667  data: 0.0058  max mem: 1915\n",
            "Epoch: [0]  [140/250]  eta: 0:01:03  lr: 0.002833  loss: 0.1059 (0.1424)  loss_classifier: 0.0091 (0.0192)  loss_box_reg: 0.0057 (0.0076)  loss_mask: 0.0891 (0.1113)  loss_objectness: 0.0002 (0.0029)  loss_rpn_box_reg: 0.0009 (0.0014)  time: 0.5711  data: 0.0057  max mem: 1915\n",
            "Epoch: [0]  [150/250]  eta: 0:00:57  lr: 0.003034  loss: 0.0981 (0.1397)  loss_classifier: 0.0085 (0.0185)  loss_box_reg: 0.0051 (0.0074)  loss_mask: 0.0820 (0.1097)  loss_objectness: 0.0002 (0.0028)  loss_rpn_box_reg: 0.0009 (0.0013)  time: 0.5735  data: 0.0058  max mem: 1915\n",
            "Epoch: [0]  [160/250]  eta: 0:00:51  lr: 0.003235  loss: 0.0981 (0.1403)  loss_classifier: 0.0087 (0.0186)  loss_box_reg: 0.0041 (0.0074)  loss_mask: 0.0826 (0.1103)  loss_objectness: 0.0003 (0.0027)  loss_rpn_box_reg: 0.0008 (0.0014)  time: 0.5725  data: 0.0061  max mem: 1915\n",
            "Epoch: [0]  [170/250]  eta: 0:00:46  lr: 0.003435  loss: 0.0996 (0.1397)  loss_classifier: 0.0097 (0.0185)  loss_box_reg: 0.0036 (0.0074)  loss_mask: 0.0848 (0.1099)  loss_objectness: 0.0006 (0.0026)  loss_rpn_box_reg: 0.0009 (0.0014)  time: 0.5743  data: 0.0062  max mem: 1915\n",
            "Epoch: [0]  [180/250]  eta: 0:00:40  lr: 0.003636  loss: 0.0964 (0.1373)  loss_classifier: 0.0097 (0.0180)  loss_box_reg: 0.0032 (0.0071)  loss_mask: 0.0819 (0.1083)  loss_objectness: 0.0006 (0.0025)  loss_rpn_box_reg: 0.0010 (0.0013)  time: 0.5772  data: 0.0061  max mem: 1915\n",
            "Epoch: [0]  [190/250]  eta: 0:00:34  lr: 0.003837  loss: 0.1034 (0.1365)  loss_classifier: 0.0091 (0.0178)  loss_box_reg: 0.0030 (0.0070)  loss_mask: 0.0896 (0.1079)  loss_objectness: 0.0005 (0.0024)  loss_rpn_box_reg: 0.0011 (0.0014)  time: 0.5767  data: 0.0060  max mem: 1915\n",
            "Epoch: [0]  [200/250]  eta: 0:00:28  lr: 0.004037  loss: 0.0970 (0.1346)  loss_classifier: 0.0091 (0.0174)  loss_box_reg: 0.0026 (0.0068)  loss_mask: 0.0838 (0.1067)  loss_objectness: 0.0004 (0.0023)  loss_rpn_box_reg: 0.0012 (0.0014)  time: 0.5776  data: 0.0064  max mem: 1915\n",
            "Epoch: [0]  [210/250]  eta: 0:00:23  lr: 0.004238  loss: 0.0970 (0.1344)  loss_classifier: 0.0074 (0.0172)  loss_box_reg: 0.0026 (0.0068)  loss_mask: 0.0838 (0.1067)  loss_objectness: 0.0002 (0.0023)  loss_rpn_box_reg: 0.0012 (0.0014)  time: 0.5773  data: 0.0066  max mem: 1915\n",
            "Epoch: [0]  [220/250]  eta: 0:00:17  lr: 0.004438  loss: 0.1088 (0.1333)  loss_classifier: 0.0090 (0.0169)  loss_box_reg: 0.0037 (0.0067)  loss_mask: 0.0958 (0.1061)  loss_objectness: 0.0002 (0.0022)  loss_rpn_box_reg: 0.0011 (0.0013)  time: 0.5764  data: 0.0064  max mem: 1915\n",
            "Epoch: [0]  [230/250]  eta: 0:00:11  lr: 0.004639  loss: 0.1119 (0.1337)  loss_classifier: 0.0113 (0.0172)  loss_box_reg: 0.0042 (0.0067)  loss_mask: 0.0858 (0.1062)  loss_objectness: 0.0003 (0.0022)  loss_rpn_box_reg: 0.0010 (0.0013)  time: 0.5760  data: 0.0061  max mem: 1915\n",
            "Epoch: [0]  [240/250]  eta: 0:00:05  lr: 0.004840  loss: 0.1034 (0.1323)  loss_classifier: 0.0092 (0.0168)  loss_box_reg: 0.0033 (0.0066)  loss_mask: 0.0857 (0.1054)  loss_objectness: 0.0009 (0.0022)  loss_rpn_box_reg: 0.0010 (0.0013)  time: 0.5750  data: 0.0059  max mem: 1915\n",
            "Epoch: [0]  [249/250]  eta: 0:00:00  lr: 0.005000  loss: 0.1024 (0.1333)  loss_classifier: 0.0092 (0.0171)  loss_box_reg: 0.0031 (0.0067)  loss_mask: 0.0886 (0.1061)  loss_objectness: 0.0005 (0.0022)  loss_rpn_box_reg: 0.0010 (0.0013)  time: 0.5753  data: 0.0059  max mem: 1915\n",
            "Epoch: [0] Total time: 0:02:24 (0.5771 s / it)\n"
          ],
          "name": "stdout"
        }
      ]
    },
    {
      "cell_type": "markdown",
      "metadata": {
        "colab_type": "text",
        "id": "Z6mYGFLxkO8F"
      },
      "source": [
        "Now that training has finished, let's have a look at what it actually predicts in a test image"
      ]
    },
    {
      "cell_type": "markdown",
      "metadata": {
        "colab_type": "text",
        "id": "DmN602iKsuey"
      },
      "source": [
        "Printing the prediction shows that we have a list of dictionaries. Each element of the list corresponds to a different image. As we have a single image, there is a single dictionary in the list.\n",
        "The dictionary contains the predictions for the image we passed. In this case, we can see that it contains `boxes`, `labels`, `masks` and `scores` as fields."
      ]
    },
    {
      "cell_type": "markdown",
      "metadata": {
        "colab_type": "text",
        "id": "RwT21rzotFbH"
      },
      "source": [
        "Let's inspect the image and the predicted segmentation masks."
      ]
    },
    {
      "cell_type": "code",
      "metadata": {
        "id": "Z8aHhVEv8M9n",
        "colab_type": "code",
        "colab": {}
      },
      "source": [
        "from farichlib.utils import iou_score \n",
        "\n",
        "def show(index, model, threshold_predictor_score=0.9):\n",
        "    # pick one image from the test set\n",
        "    img, bbox = dataset_test[ind]\n",
        "    # put the model in evaluation mode\n",
        "    model.eval()\n",
        "    with torch.no_grad():\n",
        "        prediction = model([img.to(device)])\n",
        "\n",
        "    f, (ax2, ax) = plt.subplots(1, 2, sharey=True, figsize=(15, 15), dpi=100)\n",
        "\n",
        "    H = img.squeeze(0).numpy()\n",
        "\n",
        "    ax.set_aspect(H.shape[1]/H.shape[0])\n",
        "    ax2.set_aspect(H.shape[1]/H.shape[0])\n",
        "\n",
        "    ax.title.set_text('NN response')\n",
        "    ax2.title.set_text('Real data')\n",
        "\n",
        "    masks = prediction[0]['masks'][prediction[0]['scores']>threshold_predictor_score]\n",
        "    bboxes = prediction[0]['boxes'][prediction[0]['scores']>threshold_predictor_score]\n",
        "    scores = prediction[0]['scores'][prediction[0]['scores']>threshold_predictor_score]\n",
        "\n",
        "    mask_expected = bbox['masks'][0].numpy()\n",
        "\n",
        "    xedges = np.linspace(0, H.shape[0], H.shape[0])\n",
        "    yedges = np.linspace(0, H.shape[1], H.shape[1])\n",
        "    Xg, Yg = np.meshgrid(xedges, yedges)\n",
        "\n",
        "    for a in (ax, ax2):\n",
        "      a.title.set_size(20)\n",
        "      a.set_axis_off()\n",
        "      a.pcolormesh(Xg, Yg, H, cmap='gray')\n",
        "\n",
        "    for mask,bbox,score in zip(masks,bboxes,scores):\n",
        "        m = mask[0].cpu().numpy()\n",
        "        b = bbox.cpu().numpy()\n",
        "        ax.pcolormesh(Xg, Yg, m, cmap='gnuplot2', alpha=0.3)\n",
        "        ax.add_patch(Rectangle((b[0], b[1]), b[2]-b[0], b[3]-b[1], ec='r', fc='none'))\n",
        "        ax.annotate(f'Pred. score: {score.item():.2f}', (b[0], b[3]+1), color='r', size=16)\n",
        "\n",
        "    ax2.pcolormesh(Xg, Yg, mask_expected, cmap='gnuplot', alpha=0.1)"
      ],
      "execution_count": 0,
      "outputs": []
    },
    {
      "cell_type": "code",
      "metadata": {
        "id": "NaDegU-A8Wjb",
        "colab_type": "code",
        "outputId": "98a9f723-1065-471a-c5e5-d54787da5dba",
        "colab": {
          "base_uri": "https://localhost:8080/",
          "height": 595
        }
      },
      "source": [
        "ind = random.randint(0, len(dataset_test)-1)\n",
        "show(ind, model, 0.99)"
      ],
      "execution_count": 69,
      "outputs": [
        {
          "output_type": "display_data",
          "data": {
            "image/png": "[encoded data removed]",
            "text/plain": [
              "<Figure size 1500x1500 with 2 Axes>"
            ]
          },
          "metadata": {
            "tags": []
          }
        }
      ]
    },
    {
      "cell_type": "markdown",
      "metadata": {
        "id": "BJ7Jt3Wz-vgR",
        "colab_type": "text"
      },
      "source": [
        "##Save entire model ([guide](https://pytorch.org/tutorials/beginner/saving_loading_models.html))"
      ]
    },
    {
      "cell_type": "code",
      "metadata": {
        "id": "KiupVS063Aig",
        "colab_type": "code",
        "colab": {}
      },
      "source": [
        "torch.save(model, '/content/drive/Shared drives/ML&HEP/data/CirclesNN_040420.pth')"
      ],
      "execution_count": 0,
      "outputs": []
    },
    {
      "cell_type": "markdown",
      "metadata": {
        "id": "mW4gb8QKLUTe",
        "colab_type": "text"
      },
      "source": [
        "## Some analytics\n",
        "russian\n",
        "\n",
        "Объявляю следующие условия:\n",
        "* TP: круг найден с IOU > 0.8\n",
        "* FP: круг найден с IOU < 0.8\n",
        "* FN: круг не найден, но он есть\n",
        "* TN: круга нет и он не найден"
      ]
    },
    {
      "cell_type": "code",
      "metadata": {
        "id": "MGCAMWCrVwwT",
        "colab_type": "code",
        "colab": {}
      },
      "source": [
        "def iou_score2(mask1, masks2):\n",
        "    masks1 = np.broadcast_to(mask1, masks2.shape)\n",
        "    inter = np.logical_and(masks1, masks2).sum(axis=(1,2))\n",
        "    union = np.logical_or(masks1, masks2).sum(axis=(1,2))\n",
        "    return inter/union"
      ],
      "execution_count": 0,
      "outputs": []
    },
    {
      "cell_type": "code",
      "metadata": {
        "id": "HJixIrNHU7ce",
        "colab_type": "code",
        "colab": {}
      },
      "source": [
        "def iou_imgage(index, thresholds=np.linspace(0,1,10)):\n",
        "    img, bbox = data[index+500]\n",
        "    mask1 = bbox['masks'][0].numpy().astype('bool')\n",
        "    model.eval()\n",
        "    prediction = model([img.to(device)])\n",
        "    # print(img.sum())\n",
        "    try:\n",
        "        masks2 = (prediction[0]['masks'][:,0].cpu().detach().numpy() > 0.5).astype('bool')\n",
        "        scores = prediction[0]['scores'].cpu().detach().numpy()\n",
        "    except:\n",
        "        return np.array([[]])\n",
        "    rates = np.vstack( (iou_score2(mask1, masks2), scores ) ).T\n",
        "    return rates"
      ],
      "execution_count": 0,
      "outputs": []
    },
    {
      "cell_type": "code",
      "metadata": {
        "id": "LFVn1c-oWUtq",
        "colab_type": "code",
        "colab": {}
      },
      "source": [
        "n_images = 100\n",
        "iou_thresh = 0.8\n",
        "r = np.concatenate([ iou_imgage(i) for i in range(n_images)])"
      ],
      "execution_count": 0,
      "outputs": []
    },
    {
      "cell_type": "code",
      "metadata": {
        "id": "fCiVWZBFdfXS",
        "colab_type": "code",
        "colab": {}
      },
      "source": [
        "TP_FN = r[r[:,0]>iou_thresh][:,1]\n",
        "FP = r[r[:,0]<iou_thresh][:,1]"
      ],
      "execution_count": 0,
      "outputs": []
    },
    {
      "cell_type": "code",
      "metadata": {
        "id": "FQkVZuBRWXQL",
        "colab_type": "code",
        "colab": {}
      },
      "source": [
        "threshold = np.linspace(0, 0.999, 1000)\n",
        "TP0 = (TP_FN.reshape((-1,1))>threshold).sum(axis=0)\n",
        "FN0 = np.where( n_images - TP0 > 0, n_images - TP0, 0 )\n",
        "FP0 = (FP.reshape((-1,1))>threshold).sum(axis=0)\n",
        "TN0 = np.zeros(threshold.shape, dtype=int)"
      ],
      "execution_count": 0,
      "outputs": []
    },
    {
      "cell_type": "code",
      "metadata": {
        "id": "niS4B_EDexuE",
        "colab_type": "code",
        "colab": {}
      },
      "source": [
        "precision = TP0/(TP0+FP0)\n",
        "recall = TP0/(TP0+FN0)"
      ],
      "execution_count": 0,
      "outputs": []
    },
    {
      "cell_type": "code",
      "metadata": {
        "id": "8A3AnxFdgAWn",
        "colab_type": "code",
        "outputId": "44309798-1ed1-4d2c-e9cc-61540b7616de",
        "colab": {
          "base_uri": "https://localhost:8080/",
          "height": 510
        }
      },
      "source": [
        "plt.figure(dpi=130)\n",
        "plt.plot(threshold, precision, label='Precision')\n",
        "plt.plot(threshold, recall, label='Recall')\n",
        "plt.grid(linestyle='--')\n",
        "plt.xlabel('Predictor score threshold')\n",
        "plt.legend()"
      ],
      "execution_count": 59,
      "outputs": [
        {
          "output_type": "execute_result",
          "data": {
            "text/plain": [
              "<matplotlib.legend.Legend at 0x7f3b278d55c0>"
            ]
          },
          "metadata": {
            "tags": []
          },
          "execution_count": 59
        },
        {
          "output_type": "display_data",
          "data": {
            "image/png": "[encoded data removed]",
            "text/plain": [
              "<Figure size 780x520 with 1 Axes>"
            ]
          },
          "metadata": {
            "tags": []
          }
        }
      ]
    },
    {
      "cell_type": "code",
      "metadata": {
        "id": "o98lgh8vgDMx",
        "colab_type": "code",
        "colab": {}
      },
      "source": [
        ""
      ],
      "execution_count": 0,
      "outputs": []
    }
  ]
}