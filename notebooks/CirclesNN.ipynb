{
 "cells": [
  {
   "cell_type": "markdown",
   "metadata": {
    "colab_type": "text",
    "id": "htk1RwcvAkcZ"
   },
   "source": [
    "## Easy run on colab\n",
    "Open this notebook in colab (dev-branch) [![Quick run in Colab (dev-ветка)](https://colab.research.google.com/assets/colab-badge.svg)](https://colab.research.google.com/github/82492749123082/farich-pics/blob/dev/notebooks/CirclesNN.ipynb) \n",
    "\n",
    "[by this discussion](https://gist.github.com/iamtekeste/3cdfd0366ebfd2c0d805)"
   ]
  },
  {
   "cell_type": "code",
   "execution_count": null,
   "metadata": {
    "colab": {
     "base_uri": "https://localhost:8080/",
     "height": 166
    },
    "colab_type": "code",
    "id": "_y9b4P4n5Z3J",
    "outputId": "982cb3d9-4e85-4a3e-e9ee-29916abb0b51"
   },
   "outputs": [
    {
     "name": "stdout",
     "output_type": "stream",
     "text": [
      "Cloning into 'farich-pics'...\n",
      "remote: Enumerating objects: 243, done.\u001b[K\n",
      "remote: Counting objects: 100% (243/243), done.\u001b[K\n",
      "remote: Compressing objects: 100% (171/171), done.\u001b[K\n",
      "remote: Total 243 (delta 101), reused 192 (delta 60), pack-reused 0\u001b[K\n",
      "Receiving objects: 100% (243/243), 738.44 KiB | 787.00 KiB/s, done.\n",
      "Resolving deltas: 100% (101/101), done.\n",
      "/content/farich-pics\n"
     ]
    }
   ],
   "source": [
    "!git clone https://github.com/82492749123082/farich-pics.git -b old_freezed_0.0.2 #clone dev-branch\n",
    "%cd farich-pics\n",
    "!pip install -r requirements.txt -q\n",
    "!pip install gdown -q #install package"
   ]
  },
  {
   "cell_type": "code",
   "execution_count": null,
   "metadata": {
    "colab": {},
    "colab_type": "code",
    "id": "YEa1x2OX5uAb"
   },
   "outputs": [],
   "source": [
    "# url_dataset, dataset_path = \"1V1r0P1QMRpoYhI1tKcGnWXEjdutjXcIV\", \"dataset.pkl\" #many circles dataset\n",
    "url_dataset, dataset_path = \"1_Fm3mRAlioL3sCO0Gm9elb7fVa-KugkO\", \"dataset.pkl\" #one circle dataset\n",
    "url_nn, path_nn = \"1gQtXr_WBY54sFpwNK-XLISqGiPMyzVvj\", \"nn.pth\""
   ]
  },
  {
   "cell_type": "code",
   "execution_count": null,
   "metadata": {
    "colab": {
     "base_uri": "https://localhost:8080/",
     "height": 166
    },
    "colab_type": "code",
    "id": "fsicLiM8GTts",
    "outputId": "b680dbe6-761a-43cf-d214-1834d93da6da"
   },
   "outputs": [
    {
     "name": "stdout",
     "output_type": "stream",
     "text": [
      "Downloading...\n",
      "From: https://drive.google.com/uc?id=1_Fm3mRAlioL3sCO0Gm9elb7fVa-KugkO\n",
      "To: /content/farich-pics/dataset.pkl\n",
      "71.2MB [00:01, 52.1MB/s]\n",
      "Downloading...\n",
      "From: https://drive.google.com/uc?id=1gQtXr_WBY54sFpwNK-XLISqGiPMyzVvj\n",
      "To: /content/farich-pics/nn.pth\n",
      "176MB [00:00, 264MB/s]\n"
     ]
    }
   ],
   "source": [
    "!gdown --id $url_dataset -O $dataset_path\n",
    "!gdown --id $url_nn -O $path_nn"
   ]
  },
  {
   "cell_type": "markdown",
   "metadata": {
    "colab_type": "text",
    "id": "5Sd4jlGp2eLm"
   },
   "source": [
    "## Defining the Dataset\n",
    "\n"
   ]
  },
  {
   "cell_type": "markdown",
   "metadata": {
    "colab_type": "text",
    "id": "GfJL7i6fLRd5"
   },
   "source": [
    "We have prepared dataset with `farich.DataPreprocessing`\n",
    "\n",
    "Let's see on that"
   ]
  },
  {
   "cell_type": "code",
   "execution_count": null,
   "metadata": {
    "colab": {},
    "colab_type": "code",
    "id": "Ekj-1Vo7K84P"
   },
   "outputs": [],
   "source": [
    "import pickle\n",
    "\n",
    "with open(dataset_path, \"rb\") as f:\n",
    "    H_res, h_res, mask_res = pickle.load(f)"
   ]
  },
  {
   "cell_type": "code",
   "execution_count": null,
   "metadata": {
    "colab": {},
    "colab_type": "code",
    "id": "zbXfYWVVK87f"
   },
   "outputs": [],
   "source": [
    "import matplotlib.pyplot as plt\n",
    "import pandas as pd\n",
    "import numpy as np\n",
    "from matplotlib.patches import Ellipse, Circle, Rectangle\n",
    "\n",
    "%matplotlib inline"
   ]
  },
  {
   "cell_type": "code",
   "execution_count": null,
   "metadata": {
    "colab": {
     "base_uri": "https://localhost:8080/",
     "height": 412
    },
    "colab_type": "code",
    "id": "yNjMU2IUHJTe",
    "outputId": "95309d80-5ce5-4b6c-d927-be3d98c4a16b"
   },
   "outputs": [
    {
     "data": {
      "image/png": "[encoded data removed]",
      "text/plain": [
       "<Figure size 360x360 with 1 Axes>"
      ]
     },
     "metadata": {
      "needs_background": "light",
      "tags": []
     },
     "output_type": "display_data"
    }
   ],
   "source": [
    "loc_ind = 233\n",
    "\n",
    "coords = h_res[loc_ind]\n",
    "H = H_res[loc_ind].toarray()\n",
    "\n",
    "fig = plt.figure(frameon=False, figsize=(5,5))\n",
    "ax = plt.Axes(fig, [0., 0., 1., (H.shape[1]/H.shape[0])])\n",
    "fig.add_axes(ax)\n",
    "\n",
    "xedges = np.linspace(0, H.shape[0], H.shape[0])\n",
    "yedges = np.linspace(0, H.shape[1], H.shape[1])\n",
    "Xg, Yg = np.meshgrid(xedges, yedges)\n",
    "ax.pcolormesh(Xg, Yg, H, cmap='gray')\n",
    "\n",
    "for x,y,r in coords:\n",
    "    e = Circle(xy=(x, y), radius=r, linewidth=2, fill=False, edgecolor='green', alpha=0.5)\n",
    "    ax.add_artist(e)\n",
    "    plt.scatter(x, y, marker='+', s=150)"
   ]
  },
  {
   "cell_type": "markdown",
   "metadata": {
    "colab_type": "text",
    "id": "XL7pFjg3qff3"
   },
   "source": [
    "Prepare dataset with `farichlib.Dataset` to pytorch style"
   ]
  },
  {
   "cell_type": "code",
   "execution_count": null,
   "metadata": {
    "colab": {},
    "colab_type": "code",
    "id": "_oM5Pa1ZNroU"
   },
   "outputs": [],
   "source": [
    "import torch\n",
    "from farichlib.Dataset import Dataset"
   ]
  },
  {
   "cell_type": "code",
   "execution_count": null,
   "metadata": {
    "colab": {},
    "colab_type": "code",
    "id": "p2uu7LlvPnr3"
   },
   "outputs": [],
   "source": [
    "data = Dataset(noise_level=0.01) #add noise to data\n",
    "data.load(dataset_path)"
   ]
  },
  {
   "cell_type": "code",
   "execution_count": null,
   "metadata": {
    "colab": {
     "base_uri": "https://localhost:8080/",
     "height": 351
    },
    "colab_type": "code",
    "id": "PcCyNms_lR4F",
    "outputId": "a7c5cddf-db8e-4d18-d5fb-eb15c5e8c360"
   },
   "outputs": [
    {
     "data": {
      "text/plain": [
       "(tensor([[[0., 0., 0.,  ..., 0., 0., 0.],\n",
       "          [0., 0., 0.,  ..., 0., 0., 0.],\n",
       "          [0., 0., 0.,  ..., 0., 0., 0.],\n",
       "          ...,\n",
       "          [0., 0., 0.,  ..., 0., 0., 0.],\n",
       "          [0., 0., 0.,  ..., 0., 0., 0.],\n",
       "          [0., 0., 0.,  ..., 0., 0., 0.]]]),\n",
       " {'area': tensor([948.6402]),\n",
       "  'boxes': tensor([[55.6000, 32.6000, 86.4000, 63.4000]]),\n",
       "  'image_id': tensor([0]),\n",
       "  'labels': tensor([1]),\n",
       "  'masks': tensor([[[0., 0., 0.,  ..., 0., 0., 0.],\n",
       "           [0., 0., 0.,  ..., 0., 0., 0.],\n",
       "           [0., 0., 0.,  ..., 0., 0., 0.],\n",
       "           ...,\n",
       "           [0., 0., 0.,  ..., 0., 0., 0.],\n",
       "           [0., 0., 0.,  ..., 0., 0., 0.],\n",
       "           [0., 0., 0.,  ..., 0., 0., 0.]]])})"
      ]
     },
     "execution_count": 90,
     "metadata": {
      "tags": []
     },
     "output_type": "execute_result"
    }
   ],
   "source": [
    "data[0] #check"
   ]
  },
  {
   "cell_type": "markdown",
   "metadata": {
    "colab_type": "text",
    "id": "RoAEkUgn4uEq"
   },
   "source": [
    "## Defining the model\n",
    "\n",
    "Upload pretrained model"
   ]
  },
  {
   "cell_type": "code",
   "execution_count": null,
   "metadata": {
    "colab": {},
    "colab_type": "code",
    "id": "2wz3YSkulVFh"
   },
   "outputs": [],
   "source": [
    "import torchvision\n",
    "import math\n",
    "import random\n",
    "from torchvision.models.detection.faster_rcnn import FastRCNNPredictor\n",
    "from torchvision.models.detection.mask_rcnn import MaskRCNNPredictor\n",
    "\n",
    "def get_model(load_trained=None):\n",
    "    if load_trained is None:\n",
    "        num_classes = 2\n",
    "        model = torchvision.models.detection.maskrcnn_resnet50_fpn(pretrained=True)\n",
    "        in_features = model.roi_heads.box_predictor.cls_score.in_features\n",
    "        model.roi_heads.box_predictor = FastRCNNPredictor(in_features, num_classes)\n",
    "        in_features_mask = model.roi_heads.mask_predictor.conv5_mask.in_channels\n",
    "        hidden_layer = 256\n",
    "        model.roi_heads.mask_predictor = MaskRCNNPredictor(in_features_mask, hidden_layer, num_classes)\n",
    "        return model\n",
    "    return torch.load(load_trained)"
   ]
  },
  {
   "cell_type": "code",
   "execution_count": null,
   "metadata": {
    "colab": {},
    "colab_type": "code",
    "id": "v7zfKrS1wHYU"
   },
   "outputs": [],
   "source": [
    "model = get_model() #don't use pretrained model on noiseless data"
   ]
  },
  {
   "cell_type": "markdown",
   "metadata": {
    "colab_type": "text",
    "id": "-WXLwePV5ieP"
   },
   "source": [
    "That's it, this will make model be ready to be trained and evaluated on our custom dataset.\n",
    "\n",
    "## Training and evaluation functions\n"
   ]
  },
  {
   "cell_type": "code",
   "execution_count": null,
   "metadata": {
    "colab": {},
    "colab_type": "code",
    "id": "X1OP2xOumDIa"
   },
   "outputs": [],
   "source": [
    "from farichlib import utils"
   ]
  },
  {
   "cell_type": "code",
   "execution_count": null,
   "metadata": {
    "colab": {},
    "colab_type": "code",
    "id": "ylN0IAYJybNf"
   },
   "outputs": [],
   "source": [
    "def train_one_epoch(model, optimizer, data_loader, device, epoch, print_freq):\n",
    "    model.train(mode=True)\n",
    "    metric_logger = utils.MetricLogger(delimiter=\"  \")\n",
    "    metric_logger.add_meter('lr', utils.SmoothedValue(window_size=1, fmt='{value:.6f}'))\n",
    "    header = 'Epoch: [{}]'.format(epoch)\n",
    "\n",
    "    lr_scheduler = None\n",
    "    if epoch == 0:\n",
    "        warmup_factor = 1. / 1000\n",
    "        warmup_iters = min(1000, len(data_loader) - 1)\n",
    "\n",
    "        lr_scheduler = utils.warmup_lr_scheduler(optimizer, warmup_iters, warmup_factor)\n",
    "\n",
    "    for images, targets in metric_logger.log_every(data_loader, print_freq, header):\n",
    "        images = list(image.to(device) for image in images)\n",
    "        targets = [{k: v.to(device) for k, v in t.items()} for t in targets]\n",
    "\n",
    "        loss_dict = model(images, targets)\n",
    "\n",
    "        losses = sum(loss for loss in loss_dict.values())\n",
    "\n",
    "        # reduce losses over all GPUs for logging purposes\n",
    "        loss_dict_reduced = utils.reduce_dict(loss_dict)\n",
    "        losses_reduced = sum(loss for loss in loss_dict_reduced.values())\n",
    "\n",
    "        loss_value = losses_reduced.item()\n",
    "\n",
    "        if not math.isfinite(loss_value):\n",
    "            print(\"Loss is {}, stopping training\".format(loss_value))\n",
    "            print(loss_dict_reduced)\n",
    "            sys.exit(1)\n",
    "\n",
    "        optimizer.zero_grad()\n",
    "        losses.backward()\n",
    "        optimizer.step()\n",
    "\n",
    "        if lr_scheduler is not None:\n",
    "            lr_scheduler.step()\n",
    "\n",
    "        metric_logger.update(loss=losses_reduced, **loss_dict_reduced)\n",
    "        metric_logger.update(lr=optimizer.param_groups[0][\"lr\"])"
   ]
  },
  {
   "cell_type": "markdown",
   "metadata": {
    "colab_type": "text",
    "id": "3YFJGJxk6XEs"
   },
   "source": [
    "### Putting everything together\n",
    "\n",
    "We now have the dataset class, the models and the data transforms. Let's instantiate them"
   ]
  },
  {
   "cell_type": "code",
   "execution_count": null,
   "metadata": {
    "colab": {},
    "colab_type": "code",
    "id": "htZ2uxdnVpv9"
   },
   "outputs": [],
   "source": [
    "import os\n",
    "\n",
    "# split the dataset in train and test set\n",
    "torch.manual_seed(1)\n",
    "indices = torch.randperm(len(data)).tolist()\n",
    "dataset = torch.utils.data.Subset(data, indices[:500]) #yes, only 500 images in train set | but it's enough\n",
    "dataset_test = torch.utils.data.Subset(data, indices[500:])\n",
    "\n",
    "# define training and validation data loaders\n",
    "data_loader = torch.utils.data.DataLoader(\n",
    "    dataset, batch_size=2, shuffle=True, num_workers=os.cpu_count(),\n",
    "    collate_fn=utils.collate_fn)\n",
    "\n",
    "data_loader_test = torch.utils.data.DataLoader(\n",
    "    dataset_test, batch_size=1, shuffle=False, num_workers=os.cpu_count(),\n",
    "    collate_fn=utils.collate_fn)"
   ]
  },
  {
   "cell_type": "markdown",
   "metadata": {
    "colab_type": "text",
    "id": "L5yvZUprj4ZN"
   },
   "source": [
    "Now let's instantiate the model and the optimizer"
   ]
  },
  {
   "cell_type": "code",
   "execution_count": null,
   "metadata": {
    "colab": {},
    "colab_type": "code",
    "id": "zoenkCj18C4h"
   },
   "outputs": [],
   "source": [
    "device = torch.device('cuda') if torch.cuda.is_available() else torch.device('cpu')\n",
    "\n",
    "# our dataset has two classes only - background and person\n",
    "num_classes = 2\n",
    "\n",
    "# move model to the right device\n",
    "model.to(device)\n",
    "\n",
    "# construct an optimizer\n",
    "params = [p for p in model.parameters() if p.requires_grad]\n",
    "optimizer = torch.optim.SGD(params, lr=0.005,\n",
    "                            momentum=0.9, weight_decay=0.0005)\n",
    "\n",
    "# and a learning rate scheduler which decreases the learning rate by\n",
    "# 10x every 3 epochs\n",
    "lr_scheduler = torch.optim.lr_scheduler.StepLR(optimizer,\n",
    "                                               step_size=3,\n",
    "                                               gamma=0.1)"
   ]
  },
  {
   "cell_type": "markdown",
   "metadata": {
    "colab_type": "text",
    "id": "XAd56lt4kDxc"
   },
   "source": [
    "And now let's train the model for 1 epochs, (no) evaluating at the end of every epoch."
   ]
  },
  {
   "cell_type": "code",
   "execution_count": null,
   "metadata": {
    "colab": {
     "base_uri": "https://localhost:8080/",
     "height": 297
    },
    "colab_type": "code",
    "id": "at-h4OWK0aoc",
    "outputId": "8cffe08d-6842-4f4d-8098-2c41e9930d51"
   },
   "outputs": [
    {
     "name": "stdout",
     "output_type": "stream",
     "text": [
      "Epoch: [0]  [  0/250]  eta: 0:03:08  lr: 0.000025  loss: 0.1582 (0.1582)  loss_classifier: 0.0131 (0.0131)  loss_box_reg: 0.0142 (0.0142)  loss_mask: 0.1288 (0.1288)  loss_objectness: 0.0001 (0.0001)  loss_rpn_box_reg: 0.0021 (0.0021)  time: 0.7549  data: 0.1877  max mem: 2051\n",
      "Epoch: [0]  [ 50/250]  eta: 0:01:42  lr: 0.001028  loss: 0.1154 (0.1163)  loss_classifier: 0.0087 (0.0097)  loss_box_reg: 0.0041 (0.0060)  loss_mask: 0.0989 (0.0981)  loss_objectness: 0.0001 (0.0011)  loss_rpn_box_reg: 0.0011 (0.0015)  time: 0.5060  data: 0.0053  max mem: 2051\n",
      "Epoch: [0]  [100/250]  eta: 0:01:14  lr: 0.002031  loss: 0.1159 (0.1195)  loss_classifier: 0.0070 (0.0099)  loss_box_reg: 0.0059 (0.0064)  loss_mask: 0.0940 (0.1008)  loss_objectness: 0.0001 (0.0008)  loss_rpn_box_reg: 0.0014 (0.0016)  time: 0.4800  data: 0.0055  max mem: 2051\n",
      "Epoch: [0]  [150/250]  eta: 0:00:49  lr: 0.003034  loss: 0.1116 (0.1215)  loss_classifier: 0.0103 (0.0110)  loss_box_reg: 0.0048 (0.0068)  loss_mask: 0.0939 (0.1015)  loss_objectness: 0.0001 (0.0007)  loss_rpn_box_reg: 0.0017 (0.0017)  time: 0.4822  data: 0.0055  max mem: 2051\n",
      "Epoch: [0]  [200/250]  eta: 0:00:24  lr: 0.004037  loss: 0.1045 (0.1204)  loss_classifier: 0.0095 (0.0109)  loss_box_reg: 0.0054 (0.0068)  loss_mask: 0.0884 (0.1004)  loss_objectness: 0.0001 (0.0006)  loss_rpn_box_reg: 0.0017 (0.0017)  time: 0.4880  data: 0.0056  max mem: 2051\n",
      "Epoch: [0]  [249/250]  eta: 0:00:00  lr: 0.005000  loss: 0.0948 (0.1197)  loss_classifier: 0.0082 (0.0113)  loss_box_reg: 0.0038 (0.0068)  loss_mask: 0.0815 (0.0994)  loss_objectness: 0.0001 (0.0006)  loss_rpn_box_reg: 0.0017 (0.0017)  time: 0.4899  data: 0.0053  max mem: 2051\n",
      "Epoch: [0] Total time: 0:02:02 (0.4908 s / it)\n",
      "Epoch: [1]  [  0/250]  eta: 0:02:31  lr: 0.000500  loss: 0.1580 (0.1580)  loss_classifier: 0.0095 (0.0095)  loss_box_reg: 0.0065 (0.0065)  loss_mask: 0.1407 (0.1407)  loss_objectness: 0.0002 (0.0002)  loss_rpn_box_reg: 0.0011 (0.0011)  time: 0.6075  data: 0.1393  max mem: 2051\n",
      "Epoch: [1]  [ 50/250]  eta: 0:01:37  lr: 0.000500  loss: 0.0942 (0.1181)  loss_classifier: 0.0077 (0.0121)  loss_box_reg: 0.0035 (0.0070)  loss_mask: 0.0865 (0.0970)  loss_objectness: 0.0002 (0.0004)  loss_rpn_box_reg: 0.0013 (0.0016)  time: 0.4858  data: 0.0053  max mem: 2051\n",
      "Epoch: [1]  [100/250]  eta: 0:01:12  lr: 0.000500  loss: 0.1002 (0.1178)  loss_classifier: 0.0069 (0.0115)  loss_box_reg: 0.0029 (0.0064)  loss_mask: 0.0801 (0.0979)  loss_objectness: 0.0001 (0.0004)  loss_rpn_box_reg: 0.0010 (0.0015)  time: 0.4784  data: 0.0055  max mem: 2051\n",
      "Epoch: [1]  [150/250]  eta: 0:00:48  lr: 0.000500  loss: 0.1095 (0.1149)  loss_classifier: 0.0091 (0.0108)  loss_box_reg: 0.0052 (0.0061)  loss_mask: 0.0999 (0.0962)  loss_objectness: 0.0001 (0.0004)  loss_rpn_box_reg: 0.0015 (0.0015)  time: 0.4889  data: 0.0055  max mem: 2051\n",
      "Epoch: [1]  [200/250]  eta: 0:00:24  lr: 0.000500  loss: 0.0976 (0.1137)  loss_classifier: 0.0066 (0.0106)  loss_box_reg: 0.0037 (0.0060)  loss_mask: 0.0840 (0.0953)  loss_objectness: 0.0001 (0.0004)  loss_rpn_box_reg: 0.0010 (0.0015)  time: 0.4806  data: 0.0053  max mem: 2051\n",
      "Epoch: [1]  [249/250]  eta: 0:00:00  lr: 0.000500  loss: 0.1004 (0.1143)  loss_classifier: 0.0084 (0.0107)  loss_box_reg: 0.0041 (0.0061)  loss_mask: 0.0855 (0.0957)  loss_objectness: 0.0001 (0.0004)  loss_rpn_box_reg: 0.0010 (0.0015)  time: 0.4853  data: 0.0053  max mem: 2051\n",
      "Epoch: [1] Total time: 0:02:01 (0.4846 s / it)\n"
     ]
    }
   ],
   "source": [
    "# let's train it for 1 epoch\n",
    "num_epochs = 2\n",
    "\n",
    "for epoch in range(num_epochs):\n",
    "    # train for one epoch, printing every 10 iterations\n",
    "    train_one_epoch(model, optimizer, data_loader, device, epoch, print_freq=50)\n",
    "    # update the learning rate\n",
    "    lr_scheduler.step()\n",
    "    # evaluate on the test dataset\n",
    "    #evaluate(model, data_loader_test, device=device)"
   ]
  },
  {
   "cell_type": "markdown",
   "metadata": {
    "colab_type": "text",
    "id": "Z6mYGFLxkO8F"
   },
   "source": [
    "Now that training has finished, let's have a look at what it actually predicts in a test image"
   ]
  },
  {
   "cell_type": "markdown",
   "metadata": {
    "colab_type": "text",
    "id": "DmN602iKsuey"
   },
   "source": [
    "Printing the prediction shows that we have a list of dictionaries. Each element of the list corresponds to a different image. As we have a single image, there is a single dictionary in the list.\n",
    "The dictionary contains the predictions for the image we passed. In this case, we can see that it contains `boxes`, `labels`, `masks` and `scores` as fields."
   ]
  },
  {
   "cell_type": "markdown",
   "metadata": {
    "colab_type": "text",
    "id": "RwT21rzotFbH"
   },
   "source": [
    "Let's inspect the image and the predicted segmentation masks."
   ]
  },
  {
   "cell_type": "code",
   "execution_count": null,
   "metadata": {
    "colab": {},
    "colab_type": "code",
    "id": "Z8aHhVEv8M9n"
   },
   "outputs": [],
   "source": [
    "from farichlib.utils import iou_score, show_nn_result"
   ]
  },
  {
   "cell_type": "code",
   "execution_count": null,
   "metadata": {
    "colab": {
     "base_uri": "https://localhost:8080/",
     "height": 595
    },
    "colab_type": "code",
    "id": "NaDegU-A8Wjb",
    "outputId": "7d66b00d-f5b5-4bf8-e285-34a7e4dd1d28"
   },
   "outputs": [
    {
     "data": {
      "image/png": "[encoded data removed]",
      "text/plain": [
       "<Figure size 1500x1500 with 2 Axes>"
      ]
     },
     "metadata": {
      "needs_background": "light",
      "tags": []
     },
     "output_type": "display_data"
    }
   ],
   "source": [
    "ind = random.randint(0, len(dataset_test)-1)\n",
    "show_nn_result(model, dataset_test[ind], 0.99)"
   ]
  },
  {
   "cell_type": "markdown",
   "metadata": {
    "colab_type": "text",
    "id": "BJ7Jt3Wz-vgR"
   },
   "source": [
    "##Save entire model ([guide](https://pytorch.org/tutorials/beginner/saving_loading_models.html))"
   ]
  },
  {
   "cell_type": "code",
   "execution_count": null,
   "metadata": {
    "colab": {},
    "colab_type": "code",
    "id": "KiupVS063Aig"
   },
   "outputs": [],
   "source": [
    "# torch.save(model, '/content/drive/Shared drives/ML&HEP/data/CirclesNN_040420.pth')"
   ]
  },
  {
   "cell_type": "markdown",
   "metadata": {
    "colab_type": "text",
    "id": "mW4gb8QKLUTe"
   },
   "source": [
    "## Some analytics\n",
    "Works only for __one circle__ dataset\n",
    "\n",
    "Объявляю следующие условия:\n",
    "* TP: круг найден с IOU > 0.8\n",
    "* FP: круг найден с IOU < 0.8\n",
    "* FN: круг не найден, но он есть\n",
    "* TN: круга нет и он не найден"
   ]
  },
  {
   "cell_type": "code",
   "execution_count": null,
   "metadata": {
    "colab": {},
    "colab_type": "code",
    "id": "MGCAMWCrVwwT"
   },
   "outputs": [],
   "source": [
    "def iou_score2(mask1, masks2):\n",
    "    masks1 = np.broadcast_to(mask1, masks2.shape)\n",
    "    inter = np.logical_and(masks1, masks2).sum(axis=(1,2))\n",
    "    union = np.logical_or(masks1, masks2).sum(axis=(1,2))\n",
    "    return inter/union"
   ]
  },
  {
   "cell_type": "code",
   "execution_count": null,
   "metadata": {
    "colab": {},
    "colab_type": "code",
    "id": "HJixIrNHU7ce"
   },
   "outputs": [],
   "source": [
    "def iou_imgage(index, thresholds=np.linspace(0,1,10)):\n",
    "    img, bbox = data[index+500]\n",
    "    mask1 = bbox['masks'][0].numpy().astype('bool')\n",
    "    model.eval()\n",
    "    prediction = model([img.to(device)])\n",
    "    # print(img.sum())\n",
    "    try:\n",
    "        masks2 = (prediction[0]['masks'][:,0].cpu().detach().numpy() > 0.5).astype('bool')\n",
    "        scores = prediction[0]['scores'].cpu().detach().numpy()\n",
    "    except:\n",
    "        return np.array([[]])\n",
    "    rates = np.vstack( (iou_score2(mask1, masks2), scores ) ).T\n",
    "    return rates"
   ]
  },
  {
   "cell_type": "code",
   "execution_count": null,
   "metadata": {
    "colab": {},
    "colab_type": "code",
    "id": "LFVn1c-oWUtq"
   },
   "outputs": [],
   "source": [
    "n_images = 100\n",
    "iou_thresh = 0.8\n",
    "r = np.concatenate([ iou_imgage(i) for i in range(n_images)])"
   ]
  },
  {
   "cell_type": "code",
   "execution_count": null,
   "metadata": {
    "colab": {},
    "colab_type": "code",
    "id": "fCiVWZBFdfXS"
   },
   "outputs": [],
   "source": [
    "TP_FN = r[r[:,0]>iou_thresh][:,1]\n",
    "FP = r[r[:,0]<iou_thresh][:,1]"
   ]
  },
  {
   "cell_type": "code",
   "execution_count": null,
   "metadata": {
    "colab": {},
    "colab_type": "code",
    "id": "FQkVZuBRWXQL"
   },
   "outputs": [],
   "source": [
    "threshold = np.linspace(0, 0.999, 1000)\n",
    "TP0 = (TP_FN.reshape((-1,1))>threshold).sum(axis=0)\n",
    "FN0 = np.where( n_images - TP0 > 0, n_images - TP0, 0 )\n",
    "FP0 = (FP.reshape((-1,1))>threshold).sum(axis=0)\n",
    "TN0 = np.zeros(threshold.shape, dtype=int)"
   ]
  },
  {
   "cell_type": "code",
   "execution_count": null,
   "metadata": {
    "colab": {},
    "colab_type": "code",
    "id": "niS4B_EDexuE"
   },
   "outputs": [],
   "source": [
    "precision = TP0/(TP0+FP0)\n",
    "recall = TP0/(TP0+FN0)"
   ]
  },
  {
   "cell_type": "code",
   "execution_count": null,
   "metadata": {
    "colab": {
     "base_uri": "https://localhost:8080/",
     "height": 510
    },
    "colab_type": "code",
    "id": "8A3AnxFdgAWn",
    "outputId": "44309798-1ed1-4d2c-e9cc-61540b7616de"
   },
   "outputs": [
    {
     "data": {
      "text/plain": [
       "<matplotlib.legend.Legend at 0x7f3b278d55c0>"
      ]
     },
     "execution_count": 59,
     "metadata": {
      "tags": []
     },
     "output_type": "execute_result"
    },
    {
     "data": {
      "image/png": "[encoded data removed]",
      "text/plain": [
       "<Figure size 780x520 with 1 Axes>"
      ]
     },
     "metadata": {
      "tags": []
     },
     "output_type": "display_data"
    }
   ],
   "source": [
    "plt.figure(dpi=130)\n",
    "plt.plot(threshold, precision, label='Precision')\n",
    "plt.plot(threshold, recall, label='Recall')\n",
    "plt.grid(linestyle='--')\n",
    "plt.xlabel('Predictor score threshold')\n",
    "plt.legend()"
   ]
  },
  {
   "cell_type": "code",
   "execution_count": null,
   "metadata": {
    "colab": {},
    "colab_type": "code",
    "id": "o98lgh8vgDMx"
   },
   "outputs": [],
   "source": []
  }
 ],
 "metadata": {
  "accelerator": "GPU",
  "colab": {
   "collapsed_sections": [],
   "name": "CirclesNN.ipynb",
   "provenance": []
  },
  "kernelspec": {
   "display_name": "Python 3",
   "language": "python",
   "name": "python3"
  },
  "language_info": {
   "codemirror_mode": {
    "name": "ipython",
    "version": 3
   },
   "file_extension": ".py",
   "mimetype": "text/x-python",
   "name": "python",
   "nbconvert_exporter": "python",
   "pygments_lexer": "ipython3",
   "version": "3.7.11"
  }
 },
 "nbformat": 4,
 "nbformat_minor": 4
}
