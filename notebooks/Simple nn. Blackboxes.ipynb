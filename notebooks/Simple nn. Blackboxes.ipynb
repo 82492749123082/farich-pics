{
 "cells": [
  {
   "cell_type": "markdown",
   "metadata": {},
   "source": [
    "# Simple nn for black boxes ( [this article](https://towardsdatascience.com/object-detection-with-neural-networks-a4e2c46b4491) and [this tutorial](https://pytorch.org/tutorials/beginner/blitz/neural_networks_tutorial.html#sphx-glr-beginner-blitz-neural-networks-tutorial-py) )"
   ]
  },
  {
   "cell_type": "code",
   "execution_count": 1,
   "metadata": {},
   "outputs": [],
   "source": [
    "import torch\n",
    "import numpy as np\n",
    "import matplotlib.pyplot as plt\n",
    "import matplotlib\n",
    "%matplotlib inline"
   ]
  },
  {
   "cell_type": "markdown",
   "metadata": {},
   "source": [
    "Start"
   ]
  },
  {
   "cell_type": "code",
   "execution_count": 2,
   "metadata": {},
   "outputs": [
    {
     "data": {
      "text/plain": [
       "((20000, 10, 10), (20000, 1, 4))"
      ]
     },
     "execution_count": 2,
     "metadata": {},
     "output_type": "execute_result"
    }
   ],
   "source": [
    "num_imgs = 20000\n",
    "\n",
    "img_size = 10\n",
    "min_object_size = 1\n",
    "max_object_size = 4\n",
    "num_objects = 1\n",
    "\n",
    "bboxes = np.zeros((num_imgs, num_objects, 4))\n",
    "imgs = np.zeros((num_imgs, img_size, img_size))  # set background to 0\n",
    "\n",
    "for i_img in range(num_imgs):\n",
    "    for i_object in range(num_objects):\n",
    "        w, h = np.random.randint(min_object_size, max_object_size, size=2)\n",
    "        x = np.random.randint(0, img_size - w)\n",
    "        y = np.random.randint(0, img_size - h)\n",
    "        imgs[i_img, x:x+w, y:y+h] = 1.  # set rectangle to 1\n",
    "        bboxes[i_img, i_object] = [x, y, w, h]\n",
    "        \n",
    "imgs.shape, bboxes.shape"
   ]
  },
  {
   "cell_type": "code",
   "execution_count": 3,
   "metadata": {},
   "outputs": [
    {
     "data": {
      "image/png": "[encoded data removed]",
      "text/plain": [
       "<Figure size 432x288 with 1 Axes>"
      ]
     },
     "metadata": {
      "needs_background": "light"
     },
     "output_type": "display_data"
    }
   ],
   "source": [
    "i = 0\n",
    "plt.imshow(imgs[i].T, cmap='Greys', interpolation='none', origin='lower', extent=[0, img_size, 0, img_size])\n",
    "for bbox in bboxes[i]:\n",
    "    plt.gca().add_patch(matplotlib.patches.Rectangle((bbox[0], bbox[1]), bbox[2], bbox[3], ec='r', fc='none'))"
   ]
  },
  {
   "cell_type": "code",
   "execution_count": 100,
   "metadata": {},
   "outputs": [
    {
     "data": {
      "text/plain": [
       "((20000, 10, 10), -8.50555181841628e-17, 0.9999999999999998)"
      ]
     },
     "execution_count": 100,
     "metadata": {},
     "output_type": "execute_result"
    }
   ],
   "source": [
    "# Reshape and normalize the image data to mean 0 and std 1. \n",
    "X = ( imgs - imgs.mean() )/imgs.std()\n",
    "X.shape, np.mean(X), np.std(X)"
   ]
  },
  {
   "cell_type": "code",
   "execution_count": 174,
   "metadata": {},
   "outputs": [
    {
     "data": {
      "text/plain": [
       "((20000, 4), -0.22534375, 0.19016458486252769)"
      ]
     },
     "execution_count": 174,
     "metadata": {},
     "output_type": "execute_result"
    }
   ],
   "source": [
    "# Normalize x, y, w, h by img_size\n",
    "y = bboxes.reshape(num_imgs, -1) / img_size\n",
    "y.shape, np.mean(y), np.std(y)"
   ]
  },
  {
   "cell_type": "code",
   "execution_count": 175,
   "metadata": {},
   "outputs": [],
   "source": [
    "# Split training and test.\n",
    "i = int(0.8 * num_imgs)\n",
    "X_train = X[:i]\n",
    "X_test = X[i:]\n",
    "y_train = y[:i]\n",
    "y_test = y[i:]\n",
    "test_imgs = imgs[i:]\n",
    "test_bboxes = bboxes[i:]"
   ]
  },
  {
   "cell_type": "code",
   "execution_count": 176,
   "metadata": {},
   "outputs": [
    {
     "data": {
      "text/plain": [
       "(16000, 10, 10)"
      ]
     },
     "execution_count": 176,
     "metadata": {},
     "output_type": "execute_result"
    }
   ],
   "source": [
    "X_train.shape"
   ]
  },
  {
   "cell_type": "code",
   "execution_count": 177,
   "metadata": {},
   "outputs": [],
   "source": [
    "# Use torch data format\n",
    "X_train = torch.FloatTensor(X_train).unsqueeze(1) #Add one dimension to the tensor\n",
    "X_test  = torch.FloatTensor(X_test).unsqueeze(1)\n",
    "\n",
    "y_train = torch.FloatTensor(y_train)\n",
    "y_test  = torch.FloatTensor(y_test)"
   ]
  },
  {
   "cell_type": "code",
   "execution_count": 178,
   "metadata": {},
   "outputs": [
    {
     "data": {
      "text/plain": [
       "torch.Size([16000, 1, 10, 10])"
      ]
     },
     "execution_count": 178,
     "metadata": {},
     "output_type": "execute_result"
    }
   ],
   "source": [
    "X_train.shape"
   ]
  },
  {
   "cell_type": "code",
   "execution_count": 179,
   "metadata": {},
   "outputs": [],
   "source": [
    "import torch\n",
    "from torch import nn\n",
    "import torch.nn.functional as F"
   ]
  },
  {
   "cell_type": "code",
   "execution_count": 180,
   "metadata": {},
   "outputs": [
    {
     "name": "stdout",
     "output_type": "stream",
     "text": [
      "Net(\n",
      "  (conv1): Conv2d(1, 3, kernel_size=(3, 3), stride=(1, 1))\n",
      "  (conv2): Conv2d(3, 3, kernel_size=(3, 3), stride=(1, 1))\n",
      "  (fc1): Linear(in_features=3, out_features=120, bias=True)\n",
      "  (fc2): Linear(in_features=120, out_features=84, bias=True)\n",
      "  (fc3): Linear(in_features=84, out_features=4, bias=True)\n",
      ")\n"
     ]
    }
   ],
   "source": [
    "class Net(nn.Module):\n",
    "\n",
    "    def __init__(self):\n",
    "        super(Net, self).__init__()\n",
    "        # 1 input image channel, 6 output channels, 3x3 square convolution\n",
    "        # kernel\n",
    "        self.conv1 = nn.Conv2d(1, 3, 3)\n",
    "        self.conv2 = nn.Conv2d(3, 3, 3)\n",
    "        # an affine operation: y = Wx + b\n",
    "        self.fc1 = nn.Linear( 3, 120)  # 6*6 from image dimension\n",
    "        self.fc2 = nn.Linear(120, 84)\n",
    "        self.fc3 = nn.Linear(84, 4)\n",
    "\n",
    "    def forward(self, x):\n",
    "        # Max pooling over a (2, 2) window\n",
    "        x = F.max_pool2d(F.relu(self.conv1(x)), (2, 2))\n",
    "        # If the size is a square you can only specify a single number\n",
    "        x = F.max_pool2d(F.relu(self.conv2(x)), 2)\n",
    "        x = x.view(-1, self.num_flat_features(x))\n",
    "        x = F.relu(self.fc1(x))\n",
    "        x = F.relu(self.fc2(x))\n",
    "        x = self.fc3(x)\n",
    "        return x\n",
    "\n",
    "    def num_flat_features(self, x):\n",
    "        size = x.size()[1:]  # all dimensions except the batch dimension\n",
    "        num_features = 1\n",
    "        for s in size:\n",
    "            num_features *= s\n",
    "        return num_features\n",
    "\n",
    "\n",
    "model = Net()\n",
    "print(model)"
   ]
  },
  {
   "cell_type": "code",
   "execution_count": 181,
   "metadata": {},
   "outputs": [
    {
     "name": "stdout",
     "output_type": "stream",
     "text": [
      "10\n",
      "torch.Size([3, 1, 3, 3])\n",
      "torch.Size([3, 3, 3, 3])\n"
     ]
    }
   ],
   "source": [
    "params = list(model.parameters())\n",
    "print(len(params))\n",
    "print(params[0].size())"
   ]
  },
  {
   "cell_type": "code",
   "execution_count": 182,
   "metadata": {},
   "outputs": [],
   "source": [
    "# Check that network passes data\n",
    "input = torch.randn(1, 1, 10, 10)\n",
    "out = model(input)"
   ]
  },
  {
   "cell_type": "code",
   "execution_count": 183,
   "metadata": {},
   "outputs": [
    {
     "data": {
      "text/plain": [
       "tensor([[ 0.0599,  0.0387,  0.0624, -0.0641]], grad_fn=<AddmmBackward>)"
      ]
     },
     "execution_count": 183,
     "metadata": {},
     "output_type": "execute_result"
    }
   ],
   "source": [
    "out"
   ]
  },
  {
   "cell_type": "code",
   "execution_count": 185,
   "metadata": {},
   "outputs": [],
   "source": [
    "loss_fn = nn.MSELoss()\n",
    "optimizer = torch.optim.SGD(model.parameters(), 5e-1) #Adam"
   ]
  },
  {
   "cell_type": "code",
   "execution_count": 186,
   "metadata": {},
   "outputs": [],
   "source": [
    "def train(num_epoch):\n",
    "    train_losses = []\n",
    "    test_losses = []\n",
    "    for i in range(num_epoch):\n",
    "        model.train(True)\n",
    "        #Loss\n",
    "        y_pred = model(X_train)\n",
    "        train_loss = loss_fn(y_pred, y_train)\n",
    "        train_losses.append( float(train_loss) )\n",
    "        #zero grad\n",
    "        optimizer.zero_grad()\n",
    "        #back prop\n",
    "        train_loss.backward()\n",
    "        #update weigths\n",
    "        optimizer.step()\n",
    "\n",
    "        model.train(False)\n",
    "        y_pred = model(X_test)\n",
    "        test_loss = loss_fn(y_pred, y_test)\n",
    "        test_losses.append( float(test_loss) )\n",
    "        \n",
    "        train_l = float(train_loss)\n",
    "        test_l = float(test_loss)\n",
    "        print('Epoch:', i, f'Train loss: {train_l:.4f}; Test loss: {test_l:.4f}',)\n",
    "\n",
    "    return train_losses, test_losses"
   ]
  },
  {
   "cell_type": "code",
   "execution_count": 188,
   "metadata": {},
   "outputs": [
    {
     "name": "stdout",
     "output_type": "stream",
     "text": [
      "Epoch: 0 Train loss: 0.0252; Test loss: 0.0250\n",
      "Epoch: 1 Train loss: 0.0246; Test loss: 0.0244\n",
      "Epoch: 2 Train loss: 0.0241; Test loss: 0.0240\n",
      "Epoch: 3 Train loss: 0.0236; Test loss: 0.0236\n",
      "Epoch: 4 Train loss: 0.0232; Test loss: 0.0232\n",
      "Epoch: 5 Train loss: 0.0228; Test loss: 0.0229\n",
      "Epoch: 6 Train loss: 0.0224; Test loss: 0.0226\n",
      "Epoch: 7 Train loss: 0.0221; Test loss: 0.0223\n",
      "Epoch: 8 Train loss: 0.0218; Test loss: 0.0220\n",
      "Epoch: 9 Train loss: 0.0216; Test loss: 0.0218\n",
      "Epoch: 10 Train loss: 0.0213; Test loss: 0.0215\n",
      "Epoch: 11 Train loss: 0.0211; Test loss: 0.0213\n",
      "Epoch: 12 Train loss: 0.0208; Test loss: 0.0211\n",
      "Epoch: 13 Train loss: 0.0206; Test loss: 0.0208\n",
      "Epoch: 14 Train loss: 0.0204; Test loss: 0.0206\n",
      "Epoch: 15 Train loss: 0.0201; Test loss: 0.0204\n",
      "Epoch: 16 Train loss: 0.0199; Test loss: 0.0201\n",
      "Epoch: 17 Train loss: 0.0196; Test loss: 0.0199\n",
      "Epoch: 18 Train loss: 0.0194; Test loss: 0.0196\n",
      "Epoch: 19 Train loss: 0.0191; Test loss: 0.0193\n",
      "Epoch: 20 Train loss: 0.0188; Test loss: 0.0190\n",
      "Epoch: 21 Train loss: 0.0185; Test loss: 0.0187\n",
      "Epoch: 22 Train loss: 0.0182; Test loss: 0.0184\n",
      "Epoch: 23 Train loss: 0.0179; Test loss: 0.0181\n",
      "Epoch: 24 Train loss: 0.0176; Test loss: 0.0178\n",
      "Epoch: 25 Train loss: 0.0173; Test loss: 0.0175\n",
      "Epoch: 26 Train loss: 0.0170; Test loss: 0.0172\n",
      "Epoch: 27 Train loss: 0.0167; Test loss: 0.0168\n",
      "Epoch: 28 Train loss: 0.0164; Test loss: 0.0165\n",
      "Epoch: 29 Train loss: 0.0161; Test loss: 0.0162\n",
      "Epoch: 30 Train loss: 0.0158; Test loss: 0.0159\n",
      "Epoch: 31 Train loss: 0.0155; Test loss: 0.0156\n",
      "Epoch: 32 Train loss: 0.0152; Test loss: 0.0154\n",
      "Epoch: 33 Train loss: 0.0149; Test loss: 0.0151\n",
      "Epoch: 34 Train loss: 0.0147; Test loss: 0.0149\n",
      "Epoch: 35 Train loss: 0.0145; Test loss: 0.0146\n",
      "Epoch: 36 Train loss: 0.0142; Test loss: 0.0144\n",
      "Epoch: 37 Train loss: 0.0140; Test loss: 0.0142\n",
      "Epoch: 38 Train loss: 0.0138; Test loss: 0.0140\n",
      "Epoch: 39 Train loss: 0.0136; Test loss: 0.0138\n"
     ]
    },
    {
     "data": {
      "text/plain": [
       "<matplotlib.legend.Legend at 0x7f8efc1d5ad0>"
      ]
     },
     "execution_count": 188,
     "metadata": {},
     "output_type": "execute_result"
    },
    {
     "data": {
      "image/png": "[encoded data removed]",
      "text/plain": [
       "<Figure size 432x288 with 1 Axes>"
      ]
     },
     "metadata": {
      "needs_background": "light"
     },
     "output_type": "display_data"
    }
   ],
   "source": [
    "train_losses, test_losses = train(40)\n",
    "plt.plot(range(len(train_losses)), train_losses, label='tn')\n",
    "plt.plot(range(len(test_losses)), test_losses, label='test')\n",
    "plt.legend()"
   ]
  },
  {
   "cell_type": "code",
   "execution_count": 169,
   "metadata": {},
   "outputs": [],
   "source": [
    "y_pred = model(X_test)"
   ]
  },
  {
   "cell_type": "code",
   "execution_count": 170,
   "metadata": {},
   "outputs": [],
   "source": [
    "def IOU(bbox1, bbox2):\n",
    "    '''Calculate overlap between two bounding boxes [x, y, w, h] as the area of intersection over the area of unity'''\n",
    "    x1, y1, w1, h1 = bbox1[0], bbox1[1], bbox1[2], bbox1[3]\n",
    "    x2, y2, w2, h2 = bbox2[0], bbox2[1], bbox2[2], bbox2[3]\n",
    "\n",
    "    w_I = min(x1 + w1, x2 + w2) - max(x1, x2)\n",
    "    h_I = min(y1 + h1, y2 + h2) - max(y1, y2)\n",
    "    if w_I <= 0 or h_I <= 0:  # no overlap\n",
    "        return 0.\n",
    "    I = w_I * h_I\n",
    "\n",
    "    U = w1 * h1 + w2 * h2 - I\n",
    "\n",
    "    return I / U"
   ]
  },
  {
   "cell_type": "code",
   "execution_count": 171,
   "metadata": {},
   "outputs": [
    {
     "data": {
      "image/png": "[encoded data removed]",
      "text/plain": [
       "<Figure size 432x288 with 1 Axes>"
      ]
     },
     "metadata": {
      "needs_background": "light"
     },
     "output_type": "display_data"
    }
   ],
   "source": [
    "import random\n",
    "i = random.randint(0, 700)\n",
    "plt.imshow(X_test[i].numpy().reshape((10,-1)).T, \n",
    "           cmap='Greys', interpolation='none', origin='lower', extent=[0, img_size, 0, img_size])\n",
    "pred_bbox = y_pred[i].detach().numpy()*img_size\n",
    "plt.gca().add_patch(matplotlib.patches.Rectangle((pred_bbox[0], pred_bbox[1]), pred_bbox[2], pred_bbox[3], ec='r', fc='none'))\n",
    "exp_bbox = y_test[i].numpy()*img_size\n",
    "plt.gca().add_patch(matplotlib.patches.Rectangle((exp_bbox[0], exp_bbox[1]), exp_bbox[2], exp_bbox[3], ec='g', fc='none'))\n",
    "plt.annotate('IOU: {:.2f}'.format(IOU(pred_bbox, exp_bbox)), (pred_bbox[0], pred_bbox[1]+pred_bbox[3]+0.2), color='r');"
   ]
  },
  {
   "cell_type": "code",
   "execution_count": 172,
   "metadata": {},
   "outputs": [],
   "source": [
    "pred_bboxes = y_pred.detach().numpy()*img_size\n",
    "test_bboxes = y_test.numpy()*img_size"
   ]
  },
  {
   "cell_type": "code",
   "execution_count": 173,
   "metadata": {},
   "outputs": [
    {
     "data": {
      "text/plain": [
       "0.1602608476452224"
      ]
     },
     "execution_count": 173,
     "metadata": {},
     "output_type": "execute_result"
    }
   ],
   "source": [
    "summed_IOU = 0.\n",
    "for pred_bbox, test_bbox in zip(pred_bboxes.reshape(-1, 4), test_bboxes.reshape(-1, 4)):\n",
    "    summed_IOU += IOU(pred_bbox, test_bbox)\n",
    "mean_IOU = summed_IOU / len(pred_bboxes)\n",
    "mean_IOU"
   ]
  },
  {
   "cell_type": "code",
   "execution_count": null,
   "metadata": {},
   "outputs": [],
   "source": []
  }
 ],
 "metadata": {
  "kernelspec": {
   "display_name": "Python 3",
   "language": "python",
   "name": "python3"
  },
  "language_info": {
   "codemirror_mode": {
    "name": "ipython",
    "version": 3
   },
   "file_extension": ".py",
   "mimetype": "text/x-python",
   "name": "python",
   "nbconvert_exporter": "python",
   "pygments_lexer": "ipython3",
   "version": "3.7.6"
  }
 },
 "nbformat": 4,
 "nbformat_minor": 4
}
